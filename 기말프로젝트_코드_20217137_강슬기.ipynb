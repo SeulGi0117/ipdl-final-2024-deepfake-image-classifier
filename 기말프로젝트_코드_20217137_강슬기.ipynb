{
  "cells": [
    {
      "cell_type": "markdown",
      "source": [
        "# 20217137 강슬기"
      ],
      "metadata": {
        "id": "daIDmjwHM9mD"
      }
    },
    {
      "cell_type": "code",
      "execution_count": 1,
      "metadata": {
        "id": "I7ivjIryMtQE"
      },
      "outputs": [],
      "source": [
        "import torch\n",
        "import torch.nn as nn\n",
        "import torch.nn.init as init\n",
        "import torch.nn.functional as F\n",
        "import torch.optim as optim\n",
        "import torchvision.models as models\n",
        "import torchvision.transforms as transforms\n",
        "from torch.utils.data import Dataset\n",
        "\n",
        "import re\n",
        "import os\n",
        "import cv2\n",
        "import timm\n",
        "import random\n",
        "import numpy as np\n",
        "import pandas as pd\n",
        "import time\n",
        "%matplotlib inline\n",
        "import matplotlib.pyplot as plt\n",
        "\n",
        "from glob import glob\n",
        "from PIL import Image\n",
        "from tqdm import tqdm # 학습 진행률 파악을 위해 tqdm 라이브러리 추가"
      ]
    },
    {
      "cell_type": "code",
      "execution_count": 2,
      "metadata": {
        "colab": {
          "base_uri": "https://localhost:8080/"
        },
        "id": "nG6xeRdzMtQF",
        "outputId": "c58fb909-1b77-4259-89a9-7025b2e5f747"
      },
      "outputs": [
        {
          "output_type": "stream",
          "name": "stdout",
          "text": [
            "CUDA is available!  Training on GPU ...\n"
          ]
        }
      ],
      "source": [
        "def set_seed(seed=22):\n",
        "    torch.manual_seed(seed)\n",
        "    np.random.seed(seed)\n",
        "    random.seed(seed)\n",
        "    torch.cuda.manual_seed(seed)\n",
        "    torch.cuda.manual_seed_all(seed)\n",
        "    torch.backends.cudnn.benchmark = False\n",
        "    torch.backends.cudnn.deterministic = True\n",
        "\n",
        "# seed 고정\n",
        "set_seed(22)\n",
        "\n",
        "# GPU 사용 설정\n",
        "train_on_gpu = torch.cuda.is_available()\n",
        "\n",
        "if not train_on_gpu:\n",
        "    device = 'cpu'\n",
        "    print('CUDA is not available.  Training on CPU ...')\n",
        "else:\n",
        "    device = 'cuda'\n",
        "    print('CUDA is available!  Training on GPU ...')"
      ]
    },
    {
      "cell_type": "code",
      "execution_count": 3,
      "metadata": {
        "colab": {
          "base_uri": "https://localhost:8080/"
        },
        "id": "c3bWXQRqM1nN",
        "outputId": "656ae11b-d4db-46f7-f42f-45c588a73211"
      },
      "outputs": [
        {
          "output_type": "stream",
          "name": "stdout",
          "text": [
            "Mounted at /content/drive\n"
          ]
        }
      ],
      "source": [
        "from google.colab import drive\n",
        "drive.mount('/content/drive')"
      ]
    },
    {
      "cell_type": "code",
      "source": [
        "data_root = '/content/drive/MyDrive/data/ipdl/train/Real'\n",
        "\n",
        "file_count = len([file for file in os.listdir(data_root) if os.path.isfile(os.path.join(data_root, file))])\n",
        "\n",
        "print(f\" 파일 개수: {file_count}\")\n"
      ],
      "metadata": {
        "colab": {
          "base_uri": "https://localhost:8080/"
        },
        "id": "hESR0TCuNGp9",
        "outputId": "7abd14fb-0763-4760-b677-6e7380bbeb95"
      },
      "execution_count": 4,
      "outputs": [
        {
          "output_type": "stream",
          "name": "stdout",
          "text": [
            " 파일 개수: 2500\n"
          ]
        }
      ]
    },
    {
      "cell_type": "code",
      "execution_count": 5,
      "metadata": {
        "colab": {
          "base_uri": "https://localhost:8080/"
        },
        "id": "GfqVJ36YMtQF",
        "outputId": "833cb602-3592-490d-c2f4-335c1672df3d"
      },
      "outputs": [
        {
          "output_type": "stream",
          "name": "stdout",
          "text": [
            "\n",
            "<data frame>\n",
            "         image_name class  target  \\\n",
            "0       pckrmp.jpg  Fake       1   \n",
            "1     pconixes.jpg  Fake       1   \n",
            "2      pdajynr.jpg  Fake       1   \n",
            "3     pddvfooz.jpg  Fake       1   \n",
            "4      pdlzieo.jpg  Fake       1   \n",
            "...            ...   ...     ...   \n",
            "4995   ffmbhov.jpg  Real       0   \n",
            "4996   ffvysux.jpg  Real       0   \n",
            "4997   fglxvyn.jpg  Real       0   \n",
            "4998  fgsyggbj.jpg  Real       0   \n",
            "4999     fhfbb.jpg  Real       0   \n",
            "\n",
            "                                              file_path  \n",
            "0     /content/drive/MyDrive/data/ipdl/train/Fake/pc...  \n",
            "1     /content/drive/MyDrive/data/ipdl/train/Fake/pc...  \n",
            "2     /content/drive/MyDrive/data/ipdl/train/Fake/pd...  \n",
            "3     /content/drive/MyDrive/data/ipdl/train/Fake/pd...  \n",
            "4     /content/drive/MyDrive/data/ipdl/train/Fake/pd...  \n",
            "...                                                 ...  \n",
            "4995  /content/drive/MyDrive/data/ipdl/train/Real/ff...  \n",
            "4996  /content/drive/MyDrive/data/ipdl/train/Real/ff...  \n",
            "4997  /content/drive/MyDrive/data/ipdl/train/Real/fg...  \n",
            "4998  /content/drive/MyDrive/data/ipdl/train/Real/fg...  \n",
            "4999  /content/drive/MyDrive/data/ipdl/train/Real/fh...  \n",
            "\n",
            "[5000 rows x 4 columns]\n"
          ]
        }
      ],
      "source": [
        "# Kaggle 이외의 환경에서 사용\n",
        "file_path = '/content/drive/MyDrive/data/ipdl/train/*/*.jpg'\n",
        "\n",
        "file_list = glob(file_path)\n",
        "data_dict = {'image_name':[], 'class':[], 'target':[], 'file_path':[]}\n",
        "target_dict = {'Real':0, 'Fake':1}\n",
        "\n",
        "for path in file_list:\n",
        "\n",
        "    data_dict['file_path'].append(path) # file_path 항목에 파일 경로 저장\n",
        "\n",
        "    path_list = path.split(os.path.sep) # os별 파일 경로 구분 문자로 split\n",
        "    # print(path_list)\n",
        "\n",
        "    data_dict['image_name'].append(path_list[-1])\n",
        "    data_dict['class'].append(path_list[-2])\n",
        "    data_dict['target'].append(target_dict[path_list[-2]])\n",
        "\n",
        "train_df = pd.DataFrame(data_dict)\n",
        "print('\\n<data frame>\\n', train_df)\n",
        "\n",
        "train_df.to_csv(\"./train.csv\", mode='w')"
      ]
    },
    {
      "cell_type": "code",
      "execution_count": 7,
      "metadata": {
        "id": "uXtzoVLWMtQG"
      },
      "outputs": [],
      "source": [
        "class MMC_ClassificationDataset(Dataset):\n",
        "    def __init__(self, csv, mode, transform=None):\n",
        "        self.csv = pd.read_csv(csv)\n",
        "        self.csv = self.csv.reset_index(drop=True)\n",
        "        self.mode = mode # train / valid\n",
        "        self.transform = transform\n",
        "\n",
        "    def __len__(self):\n",
        "        return self.csv.shape[0]\n",
        "\n",
        "    def __getitem__(self, index):\n",
        "        row = self.csv.iloc[index]\n",
        "        image = cv2.imread(row.file_path)\n",
        "        image = cv2.cvtColor(image, cv2.COLOR_BGR2RGB)\n",
        "\n",
        "        # 이미지 tranform 적용\n",
        "        if self.transform is not None:\n",
        "            res = self.transform(image=image)\n",
        "            image = res['image'].astype(np.float32)\n",
        "        else:\n",
        "            image = image.astype(np.float32)\n",
        "\n",
        "        image = image.transpose(2, 0, 1)\n",
        "\n",
        "        data = torch.tensor(image).float()\n",
        "\n",
        "        if self.mode == 'test':\n",
        "            return data, row['image_name']\n",
        "        else:\n",
        "            target = torch.tensor(row['target'])\n",
        "            return data, target\n"
      ]
    },
    {
      "cell_type": "code",
      "execution_count": 8,
      "metadata": {
        "id": "0LQt_zdqMtQG"
      },
      "outputs": [],
      "source": [
        "from torchvision import transforms\n",
        "from torchvision.datasets import ImageFolder\n",
        "import albumentations\n",
        "\n",
        "# 본인의 학습 전략에 맞는 transform 사용\n",
        "# https://albumentations.ai/docs/examples/example/\n",
        "# https://albumentations.ai/docs/api_reference/full_reference/\n",
        "\n",
        "# 초기 transform\n",
        "# transforms_train = albumentations.Compose([\n",
        "#         albumentations.HorizontalFlip(p=0.5),\n",
        "#         albumentations.Resize(224, 224),\n",
        "#         albumentations.Rotate(limit=30, p=0.5),\n",
        "#         albumentations.RandomRain(p=0.5),\n",
        "#         albumentations.RandomShadow(p=0.5),\n",
        "#         albumentations.GaussNoise(var_limit=(10.0, 50.0), p=0.5),\n",
        "#         albumentations.ISONoise(color_shift=(0.01, 0.05), intensity=(0.1, 0.5), p=0.5),\n",
        "#         albumentations.MotionBlur(blur_limit=3, p=0.3),\n",
        "#         albumentations.Normalize(),\n",
        "# ])\n",
        "\n",
        "# 학습에 사용된 transform\n",
        "transforms_train = albumentations.Compose([\n",
        "        albumentations.HorizontalFlip(p=0.5),\n",
        "        albumentations.Resize(224, 224),\n",
        "        albumentations.Rotate(limit=30, p=0.5),\n",
        "        albumentations.RandomShadow(p=0.5),\n",
        "        albumentations.GaussNoise(var_limit=(10.0, 50.0), p=0.7),\n",
        "        albumentations.Normalize(),\n",
        "])\n",
        "\n",
        "\n",
        "transforms_val = albumentations.Compose([\n",
        "        albumentations.Resize(224, 224),\n",
        "        albumentations.Normalize()\n",
        "])\n",
        "\n",
        "train_data = MMC_ClassificationDataset('/content/train.csv', 'train', transform = transforms_train)\n",
        "\n",
        "train_size = int(0.8 * len(train_data))\n",
        "val_size = len(train_data) - train_size\n",
        "train_dataset, validation_dataset = torch.utils.data.random_split(train_data, [train_size, val_size])\n",
        "validation_dataset.transform = transforms_val"
      ]
    },
    {
      "cell_type": "code",
      "execution_count": 9,
      "metadata": {
        "id": "ZT5qPSHbMtQG"
      },
      "outputs": [],
      "source": [
        "batch_size  = 50\n",
        "num_workers = 6\n",
        "train_loader = torch.utils.data.DataLoader(train_dataset, batch_size = batch_size, num_workers = num_workers, shuffle = True)\n",
        "validation_loader = torch.utils.data.DataLoader(validation_dataset, batch_size = batch_size, num_workers = num_workers)\n"
      ]
    },
    {
      "cell_type": "code",
      "execution_count": 10,
      "metadata": {
        "colab": {
          "base_uri": "https://localhost:8080/",
          "height": 636
        },
        "id": "3u2k-pKRMtQG",
        "outputId": "9a934116-e07a-4991-cb8f-8bcef949bfcf"
      },
      "outputs": [
        {
          "output_type": "stream",
          "name": "stderr",
          "text": [
            "WARNING:matplotlib.image:Clipping input data to the valid range for imshow with RGB data ([0..1] for floats or [0..255] for integers).\n"
          ]
        },
        {
          "output_type": "display_data",
          "data": {
            "text/plain": [
              "<Figure size 640x480 with 1 Axes>"
            ],
            "image/png": "[encoded data removed]"
          },
          "metadata": {}
        },
        {
          "output_type": "stream",
          "name": "stderr",
          "text": [
            "WARNING:matplotlib.image:Clipping input data to the valid range for imshow with RGB data ([0..1] for floats or [0..255] for integers).\n"
          ]
        },
        {
          "output_type": "display_data",
          "data": {
            "text/plain": [
              "<Figure size 640x480 with 1 Axes>"
            ],
            "image/png": "[encoded data removed]"
          },
          "metadata": {}
        }
      ],
      "source": [
        "# 데이터셋 확인\n",
        "for i in range(2):\n",
        "    d1 = train_data[i]\n",
        "    plt.subplot(1,2,1)\n",
        "    plt.imshow(torch.squeeze(d1[0]).numpy().transpose(1,2,0))\n",
        "    plt.title('target: ' + str(d1[1].item()))\n",
        "    plt.show()"
      ]
    },
    {
      "cell_type": "code",
      "source": [
        "timm.list_models()\n"
      ],
      "metadata": {
        "colab": {
          "base_uri": "https://localhost:8080/"
        },
        "id": "6FUc9OrJNThy",
        "outputId": "a1199d03-b9c8-452c-828f-0304926d7b7f"
      },
      "execution_count": 11,
      "outputs": [
        {
          "output_type": "execute_result",
          "data": {
            "text/plain": [
              "['bat_resnext26ts',\n",
              " 'beit_base_patch16_224',\n",
              " 'beit_base_patch16_384',\n",
              " 'beit_large_patch16_224',\n",
              " 'beit_large_patch16_384',\n",
              " 'beit_large_patch16_512',\n",
              " 'beitv2_base_patch16_224',\n",
              " 'beitv2_large_patch16_224',\n",
              " 'botnet26t_256',\n",
              " 'botnet50ts_256',\n",
              " 'caformer_b36',\n",
              " 'caformer_m36',\n",
              " 'caformer_s18',\n",
              " 'caformer_s36',\n",
              " 'cait_m36_384',\n",
              " 'cait_m48_448',\n",
              " 'cait_s24_224',\n",
              " 'cait_s24_384',\n",
              " 'cait_s36_384',\n",
              " 'cait_xs24_384',\n",
              " 'cait_xxs24_224',\n",
              " 'cait_xxs24_384',\n",
              " 'cait_xxs36_224',\n",
              " 'cait_xxs36_384',\n",
              " 'coat_lite_medium',\n",
              " 'coat_lite_medium_384',\n",
              " 'coat_lite_mini',\n",
              " 'coat_lite_small',\n",
              " 'coat_lite_tiny',\n",
              " 'coat_mini',\n",
              " 'coat_small',\n",
              " 'coat_tiny',\n",
              " 'coatnet_0_224',\n",
              " 'coatnet_0_rw_224',\n",
              " 'coatnet_1_224',\n",
              " 'coatnet_1_rw_224',\n",
              " 'coatnet_2_224',\n",
              " 'coatnet_2_rw_224',\n",
              " 'coatnet_3_224',\n",
              " 'coatnet_3_rw_224',\n",
              " 'coatnet_4_224',\n",
              " 'coatnet_5_224',\n",
              " 'coatnet_bn_0_rw_224',\n",
              " 'coatnet_nano_cc_224',\n",
              " 'coatnet_nano_rw_224',\n",
              " 'coatnet_pico_rw_224',\n",
              " 'coatnet_rmlp_0_rw_224',\n",
              " 'coatnet_rmlp_1_rw2_224',\n",
              " 'coatnet_rmlp_1_rw_224',\n",
              " 'coatnet_rmlp_2_rw_224',\n",
              " 'coatnet_rmlp_2_rw_384',\n",
              " 'coatnet_rmlp_3_rw_224',\n",
              " 'coatnet_rmlp_nano_rw_224',\n",
              " 'coatnext_nano_rw_224',\n",
              " 'convformer_b36',\n",
              " 'convformer_m36',\n",
              " 'convformer_s18',\n",
              " 'convformer_s36',\n",
              " 'convit_base',\n",
              " 'convit_small',\n",
              " 'convit_tiny',\n",
              " 'convmixer_768_32',\n",
              " 'convmixer_1024_20_ks9_p14',\n",
              " 'convmixer_1536_20',\n",
              " 'convnext_atto',\n",
              " 'convnext_atto_ols',\n",
              " 'convnext_atto_rms',\n",
              " 'convnext_base',\n",
              " 'convnext_femto',\n",
              " 'convnext_femto_ols',\n",
              " 'convnext_large',\n",
              " 'convnext_large_mlp',\n",
              " 'convnext_nano',\n",
              " 'convnext_nano_ols',\n",
              " 'convnext_pico',\n",
              " 'convnext_pico_ols',\n",
              " 'convnext_small',\n",
              " 'convnext_tiny',\n",
              " 'convnext_tiny_hnf',\n",
              " 'convnext_xlarge',\n",
              " 'convnext_xxlarge',\n",
              " 'convnext_zepto_rms',\n",
              " 'convnext_zepto_rms_ols',\n",
              " 'convnextv2_atto',\n",
              " 'convnextv2_base',\n",
              " 'convnextv2_femto',\n",
              " 'convnextv2_huge',\n",
              " 'convnextv2_large',\n",
              " 'convnextv2_nano',\n",
              " 'convnextv2_pico',\n",
              " 'convnextv2_small',\n",
              " 'convnextv2_tiny',\n",
              " 'crossvit_9_240',\n",
              " 'crossvit_9_dagger_240',\n",
              " 'crossvit_15_240',\n",
              " 'crossvit_15_dagger_240',\n",
              " 'crossvit_15_dagger_408',\n",
              " 'crossvit_18_240',\n",
              " 'crossvit_18_dagger_240',\n",
              " 'crossvit_18_dagger_408',\n",
              " 'crossvit_base_240',\n",
              " 'crossvit_small_240',\n",
              " 'crossvit_tiny_240',\n",
              " 'cs3darknet_focus_l',\n",
              " 'cs3darknet_focus_m',\n",
              " 'cs3darknet_focus_s',\n",
              " 'cs3darknet_focus_x',\n",
              " 'cs3darknet_l',\n",
              " 'cs3darknet_m',\n",
              " 'cs3darknet_s',\n",
              " 'cs3darknet_x',\n",
              " 'cs3edgenet_x',\n",
              " 'cs3se_edgenet_x',\n",
              " 'cs3sedarknet_l',\n",
              " 'cs3sedarknet_x',\n",
              " 'cs3sedarknet_xdw',\n",
              " 'cspdarknet53',\n",
              " 'cspresnet50',\n",
              " 'cspresnet50d',\n",
              " 'cspresnet50w',\n",
              " 'cspresnext50',\n",
              " 'darknet17',\n",
              " 'darknet21',\n",
              " 'darknet53',\n",
              " 'darknetaa53',\n",
              " 'davit_base',\n",
              " 'davit_base_fl',\n",
              " 'davit_giant',\n",
              " 'davit_huge',\n",
              " 'davit_huge_fl',\n",
              " 'davit_large',\n",
              " 'davit_small',\n",
              " 'davit_tiny',\n",
              " 'deit3_base_patch16_224',\n",
              " 'deit3_base_patch16_384',\n",
              " 'deit3_huge_patch14_224',\n",
              " 'deit3_large_patch16_224',\n",
              " 'deit3_large_patch16_384',\n",
              " 'deit3_medium_patch16_224',\n",
              " 'deit3_small_patch16_224',\n",
              " 'deit3_small_patch16_384',\n",
              " 'deit_base_distilled_patch16_224',\n",
              " 'deit_base_distilled_patch16_384',\n",
              " 'deit_base_patch16_224',\n",
              " 'deit_base_patch16_384',\n",
              " 'deit_small_distilled_patch16_224',\n",
              " 'deit_small_patch16_224',\n",
              " 'deit_tiny_distilled_patch16_224',\n",
              " 'deit_tiny_patch16_224',\n",
              " 'densenet121',\n",
              " 'densenet161',\n",
              " 'densenet169',\n",
              " 'densenet201',\n",
              " 'densenet264d',\n",
              " 'densenetblur121d',\n",
              " 'dla34',\n",
              " 'dla46_c',\n",
              " 'dla46x_c',\n",
              " 'dla60',\n",
              " 'dla60_res2net',\n",
              " 'dla60_res2next',\n",
              " 'dla60x',\n",
              " 'dla60x_c',\n",
              " 'dla102',\n",
              " 'dla102x',\n",
              " 'dla102x2',\n",
              " 'dla169',\n",
              " 'dm_nfnet_f0',\n",
              " 'dm_nfnet_f1',\n",
              " 'dm_nfnet_f2',\n",
              " 'dm_nfnet_f3',\n",
              " 'dm_nfnet_f4',\n",
              " 'dm_nfnet_f5',\n",
              " 'dm_nfnet_f6',\n",
              " 'dpn48b',\n",
              " 'dpn68',\n",
              " 'dpn68b',\n",
              " 'dpn92',\n",
              " 'dpn98',\n",
              " 'dpn107',\n",
              " 'dpn131',\n",
              " 'eca_botnext26ts_256',\n",
              " 'eca_halonext26ts',\n",
              " 'eca_nfnet_l0',\n",
              " 'eca_nfnet_l1',\n",
              " 'eca_nfnet_l2',\n",
              " 'eca_nfnet_l3',\n",
              " 'eca_resnet33ts',\n",
              " 'eca_resnext26ts',\n",
              " 'eca_vovnet39b',\n",
              " 'ecaresnet26t',\n",
              " 'ecaresnet50d',\n",
              " 'ecaresnet50d_pruned',\n",
              " 'ecaresnet50t',\n",
              " 'ecaresnet101d',\n",
              " 'ecaresnet101d_pruned',\n",
              " 'ecaresnet200d',\n",
              " 'ecaresnet269d',\n",
              " 'ecaresnetlight',\n",
              " 'ecaresnext26t_32x4d',\n",
              " 'ecaresnext50t_32x4d',\n",
              " 'edgenext_base',\n",
              " 'edgenext_small',\n",
              " 'edgenext_small_rw',\n",
              " 'edgenext_x_small',\n",
              " 'edgenext_xx_small',\n",
              " 'efficientformer_l1',\n",
              " 'efficientformer_l3',\n",
              " 'efficientformer_l7',\n",
              " 'efficientformerv2_l',\n",
              " 'efficientformerv2_s0',\n",
              " 'efficientformerv2_s1',\n",
              " 'efficientformerv2_s2',\n",
              " 'efficientnet_b0',\n",
              " 'efficientnet_b0_g8_gn',\n",
              " 'efficientnet_b0_g16_evos',\n",
              " 'efficientnet_b0_gn',\n",
              " 'efficientnet_b1',\n",
              " 'efficientnet_b1_pruned',\n",
              " 'efficientnet_b2',\n",
              " 'efficientnet_b2_pruned',\n",
              " 'efficientnet_b3',\n",
              " 'efficientnet_b3_g8_gn',\n",
              " 'efficientnet_b3_gn',\n",
              " 'efficientnet_b3_pruned',\n",
              " 'efficientnet_b4',\n",
              " 'efficientnet_b5',\n",
              " 'efficientnet_b6',\n",
              " 'efficientnet_b7',\n",
              " 'efficientnet_b8',\n",
              " 'efficientnet_blur_b0',\n",
              " 'efficientnet_cc_b0_4e',\n",
              " 'efficientnet_cc_b0_8e',\n",
              " 'efficientnet_cc_b1_8e',\n",
              " 'efficientnet_el',\n",
              " 'efficientnet_el_pruned',\n",
              " 'efficientnet_em',\n",
              " 'efficientnet_es',\n",
              " 'efficientnet_es_pruned',\n",
              " 'efficientnet_h_b5',\n",
              " 'efficientnet_l2',\n",
              " 'efficientnet_lite0',\n",
              " 'efficientnet_lite1',\n",
              " 'efficientnet_lite2',\n",
              " 'efficientnet_lite3',\n",
              " 'efficientnet_lite4',\n",
              " 'efficientnet_x_b3',\n",
              " 'efficientnet_x_b5',\n",
              " 'efficientnetv2_l',\n",
              " 'efficientnetv2_m',\n",
              " 'efficientnetv2_rw_m',\n",
              " 'efficientnetv2_rw_s',\n",
              " 'efficientnetv2_rw_t',\n",
              " 'efficientnetv2_s',\n",
              " 'efficientnetv2_xl',\n",
              " 'efficientvit_b0',\n",
              " 'efficientvit_b1',\n",
              " 'efficientvit_b2',\n",
              " 'efficientvit_b3',\n",
              " 'efficientvit_l1',\n",
              " 'efficientvit_l2',\n",
              " 'efficientvit_l3',\n",
              " 'efficientvit_m0',\n",
              " 'efficientvit_m1',\n",
              " 'efficientvit_m2',\n",
              " 'efficientvit_m3',\n",
              " 'efficientvit_m4',\n",
              " 'efficientvit_m5',\n",
              " 'ese_vovnet19b_dw',\n",
              " 'ese_vovnet19b_slim',\n",
              " 'ese_vovnet19b_slim_dw',\n",
              " 'ese_vovnet39b',\n",
              " 'ese_vovnet39b_evos',\n",
              " 'ese_vovnet57b',\n",
              " 'ese_vovnet99b',\n",
              " 'eva02_base_patch14_224',\n",
              " 'eva02_base_patch14_448',\n",
              " 'eva02_base_patch16_clip_224',\n",
              " 'eva02_enormous_patch14_clip_224',\n",
              " 'eva02_large_patch14_224',\n",
              " 'eva02_large_patch14_448',\n",
              " 'eva02_large_patch14_clip_224',\n",
              " 'eva02_large_patch14_clip_336',\n",
              " 'eva02_small_patch14_224',\n",
              " 'eva02_small_patch14_336',\n",
              " 'eva02_tiny_patch14_224',\n",
              " 'eva02_tiny_patch14_336',\n",
              " 'eva_giant_patch14_224',\n",
              " 'eva_giant_patch14_336',\n",
              " 'eva_giant_patch14_560',\n",
              " 'eva_giant_patch14_clip_224',\n",
              " 'eva_large_patch14_196',\n",
              " 'eva_large_patch14_336',\n",
              " 'fastvit_ma36',\n",
              " 'fastvit_mci0',\n",
              " 'fastvit_mci1',\n",
              " 'fastvit_mci2',\n",
              " 'fastvit_s12',\n",
              " 'fastvit_sa12',\n",
              " 'fastvit_sa24',\n",
              " 'fastvit_sa36',\n",
              " 'fastvit_t8',\n",
              " 'fastvit_t12',\n",
              " 'fbnetc_100',\n",
              " 'fbnetv3_b',\n",
              " 'fbnetv3_d',\n",
              " 'fbnetv3_g',\n",
              " 'flexivit_base',\n",
              " 'flexivit_large',\n",
              " 'flexivit_small',\n",
              " 'focalnet_base_lrf',\n",
              " 'focalnet_base_srf',\n",
              " 'focalnet_huge_fl3',\n",
              " 'focalnet_huge_fl4',\n",
              " 'focalnet_large_fl3',\n",
              " 'focalnet_large_fl4',\n",
              " 'focalnet_small_lrf',\n",
              " 'focalnet_small_srf',\n",
              " 'focalnet_tiny_lrf',\n",
              " 'focalnet_tiny_srf',\n",
              " 'focalnet_xlarge_fl3',\n",
              " 'focalnet_xlarge_fl4',\n",
              " 'gc_efficientnetv2_rw_t',\n",
              " 'gcresnet33ts',\n",
              " 'gcresnet50t',\n",
              " 'gcresnext26ts',\n",
              " 'gcresnext50ts',\n",
              " 'gcvit_base',\n",
              " 'gcvit_small',\n",
              " 'gcvit_tiny',\n",
              " 'gcvit_xtiny',\n",
              " 'gcvit_xxtiny',\n",
              " 'gernet_l',\n",
              " 'gernet_m',\n",
              " 'gernet_s',\n",
              " 'ghostnet_050',\n",
              " 'ghostnet_100',\n",
              " 'ghostnet_130',\n",
              " 'ghostnetv2_100',\n",
              " 'ghostnetv2_130',\n",
              " 'ghostnetv2_160',\n",
              " 'gmixer_12_224',\n",
              " 'gmixer_24_224',\n",
              " 'gmlp_b16_224',\n",
              " 'gmlp_s16_224',\n",
              " 'gmlp_ti16_224',\n",
              " 'halo2botnet50ts_256',\n",
              " 'halonet26t',\n",
              " 'halonet50ts',\n",
              " 'halonet_h1',\n",
              " 'haloregnetz_b',\n",
              " 'hardcorenas_a',\n",
              " 'hardcorenas_b',\n",
              " 'hardcorenas_c',\n",
              " 'hardcorenas_d',\n",
              " 'hardcorenas_e',\n",
              " 'hardcorenas_f',\n",
              " 'hgnet_base',\n",
              " 'hgnet_small',\n",
              " 'hgnet_tiny',\n",
              " 'hgnetv2_b0',\n",
              " 'hgnetv2_b1',\n",
              " 'hgnetv2_b2',\n",
              " 'hgnetv2_b3',\n",
              " 'hgnetv2_b4',\n",
              " 'hgnetv2_b5',\n",
              " 'hgnetv2_b6',\n",
              " 'hiera_base_224',\n",
              " 'hiera_base_abswin_256',\n",
              " 'hiera_base_plus_224',\n",
              " 'hiera_huge_224',\n",
              " 'hiera_large_224',\n",
              " 'hiera_small_224',\n",
              " 'hiera_small_abswin_256',\n",
              " 'hiera_tiny_224',\n",
              " 'hieradet_small',\n",
              " 'hrnet_w18',\n",
              " 'hrnet_w18_small',\n",
              " 'hrnet_w18_small_v2',\n",
              " 'hrnet_w18_ssld',\n",
              " 'hrnet_w30',\n",
              " 'hrnet_w32',\n",
              " 'hrnet_w40',\n",
              " 'hrnet_w44',\n",
              " 'hrnet_w48',\n",
              " 'hrnet_w48_ssld',\n",
              " 'hrnet_w64',\n",
              " 'inception_next_base',\n",
              " 'inception_next_small',\n",
              " 'inception_next_tiny',\n",
              " 'inception_resnet_v2',\n",
              " 'inception_v3',\n",
              " 'inception_v4',\n",
              " 'lambda_resnet26rpt_256',\n",
              " 'lambda_resnet26t',\n",
              " 'lambda_resnet50ts',\n",
              " 'lamhalobotnet50ts_256',\n",
              " 'lcnet_035',\n",
              " 'lcnet_050',\n",
              " 'lcnet_075',\n",
              " 'lcnet_100',\n",
              " 'lcnet_150',\n",
              " 'legacy_senet154',\n",
              " 'legacy_seresnet18',\n",
              " 'legacy_seresnet34',\n",
              " 'legacy_seresnet50',\n",
              " 'legacy_seresnet101',\n",
              " 'legacy_seresnet152',\n",
              " 'legacy_seresnext26_32x4d',\n",
              " 'legacy_seresnext50_32x4d',\n",
              " 'legacy_seresnext101_32x4d',\n",
              " 'legacy_xception',\n",
              " 'levit_128',\n",
              " 'levit_128s',\n",
              " 'levit_192',\n",
              " 'levit_256',\n",
              " 'levit_256d',\n",
              " 'levit_384',\n",
              " 'levit_384_s8',\n",
              " 'levit_512',\n",
              " 'levit_512_s8',\n",
              " 'levit_512d',\n",
              " 'levit_conv_128',\n",
              " 'levit_conv_128s',\n",
              " 'levit_conv_192',\n",
              " 'levit_conv_256',\n",
              " 'levit_conv_256d',\n",
              " 'levit_conv_384',\n",
              " 'levit_conv_384_s8',\n",
              " 'levit_conv_512',\n",
              " 'levit_conv_512_s8',\n",
              " 'levit_conv_512d',\n",
              " 'mambaout_base',\n",
              " 'mambaout_base_plus_rw',\n",
              " 'mambaout_base_short_rw',\n",
              " 'mambaout_base_tall_rw',\n",
              " 'mambaout_base_wide_rw',\n",
              " 'mambaout_femto',\n",
              " 'mambaout_kobe',\n",
              " 'mambaout_small',\n",
              " 'mambaout_small_rw',\n",
              " 'mambaout_tiny',\n",
              " 'maxvit_base_tf_224',\n",
              " 'maxvit_base_tf_384',\n",
              " 'maxvit_base_tf_512',\n",
              " 'maxvit_large_tf_224',\n",
              " 'maxvit_large_tf_384',\n",
              " 'maxvit_large_tf_512',\n",
              " 'maxvit_nano_rw_256',\n",
              " 'maxvit_pico_rw_256',\n",
              " 'maxvit_rmlp_base_rw_224',\n",
              " 'maxvit_rmlp_base_rw_384',\n",
              " 'maxvit_rmlp_nano_rw_256',\n",
              " 'maxvit_rmlp_pico_rw_256',\n",
              " 'maxvit_rmlp_small_rw_224',\n",
              " 'maxvit_rmlp_small_rw_256',\n",
              " 'maxvit_rmlp_tiny_rw_256',\n",
              " 'maxvit_small_tf_224',\n",
              " 'maxvit_small_tf_384',\n",
              " 'maxvit_small_tf_512',\n",
              " 'maxvit_tiny_pm_256',\n",
              " 'maxvit_tiny_rw_224',\n",
              " 'maxvit_tiny_rw_256',\n",
              " 'maxvit_tiny_tf_224',\n",
              " 'maxvit_tiny_tf_384',\n",
              " 'maxvit_tiny_tf_512',\n",
              " 'maxvit_xlarge_tf_224',\n",
              " 'maxvit_xlarge_tf_384',\n",
              " 'maxvit_xlarge_tf_512',\n",
              " 'maxxvit_rmlp_nano_rw_256',\n",
              " 'maxxvit_rmlp_small_rw_256',\n",
              " 'maxxvit_rmlp_tiny_rw_256',\n",
              " 'maxxvitv2_nano_rw_256',\n",
              " 'maxxvitv2_rmlp_base_rw_224',\n",
              " 'maxxvitv2_rmlp_base_rw_384',\n",
              " 'maxxvitv2_rmlp_large_rw_224',\n",
              " 'mixer_b16_224',\n",
              " 'mixer_b32_224',\n",
              " 'mixer_l16_224',\n",
              " 'mixer_l32_224',\n",
              " 'mixer_s16_224',\n",
              " 'mixer_s32_224',\n",
              " 'mixnet_l',\n",
              " 'mixnet_m',\n",
              " 'mixnet_s',\n",
              " 'mixnet_xl',\n",
              " 'mixnet_xxl',\n",
              " 'mnasnet_050',\n",
              " 'mnasnet_075',\n",
              " 'mnasnet_100',\n",
              " 'mnasnet_140',\n",
              " 'mnasnet_small',\n",
              " 'mobilenet_edgetpu_100',\n",
              " 'mobilenet_edgetpu_v2_l',\n",
              " 'mobilenet_edgetpu_v2_m',\n",
              " 'mobilenet_edgetpu_v2_s',\n",
              " 'mobilenet_edgetpu_v2_xs',\n",
              " 'mobilenetv1_100',\n",
              " 'mobilenetv1_100h',\n",
              " 'mobilenetv1_125',\n",
              " 'mobilenetv2_035',\n",
              " 'mobilenetv2_050',\n",
              " 'mobilenetv2_075',\n",
              " 'mobilenetv2_100',\n",
              " 'mobilenetv2_110d',\n",
              " 'mobilenetv2_120d',\n",
              " 'mobilenetv2_140',\n",
              " 'mobilenetv3_large_075',\n",
              " 'mobilenetv3_large_100',\n",
              " 'mobilenetv3_large_150d',\n",
              " 'mobilenetv3_rw',\n",
              " 'mobilenetv3_small_050',\n",
              " 'mobilenetv3_small_075',\n",
              " 'mobilenetv3_small_100',\n",
              " 'mobilenetv4_conv_aa_large',\n",
              " 'mobilenetv4_conv_aa_medium',\n",
              " 'mobilenetv4_conv_blur_medium',\n",
              " 'mobilenetv4_conv_large',\n",
              " 'mobilenetv4_conv_medium',\n",
              " 'mobilenetv4_conv_small',\n",
              " 'mobilenetv4_conv_small_035',\n",
              " 'mobilenetv4_conv_small_050',\n",
              " 'mobilenetv4_hybrid_large',\n",
              " 'mobilenetv4_hybrid_large_075',\n",
              " 'mobilenetv4_hybrid_medium',\n",
              " 'mobilenetv4_hybrid_medium_075',\n",
              " 'mobileone_s0',\n",
              " 'mobileone_s1',\n",
              " 'mobileone_s2',\n",
              " 'mobileone_s3',\n",
              " 'mobileone_s4',\n",
              " 'mobilevit_s',\n",
              " 'mobilevit_xs',\n",
              " 'mobilevit_xxs',\n",
              " 'mobilevitv2_050',\n",
              " 'mobilevitv2_075',\n",
              " 'mobilevitv2_100',\n",
              " 'mobilevitv2_125',\n",
              " 'mobilevitv2_150',\n",
              " 'mobilevitv2_175',\n",
              " 'mobilevitv2_200',\n",
              " 'mvitv2_base',\n",
              " 'mvitv2_base_cls',\n",
              " 'mvitv2_huge_cls',\n",
              " 'mvitv2_large',\n",
              " 'mvitv2_large_cls',\n",
              " 'mvitv2_small',\n",
              " 'mvitv2_small_cls',\n",
              " 'mvitv2_tiny',\n",
              " 'nasnetalarge',\n",
              " 'nest_base',\n",
              " 'nest_base_jx',\n",
              " 'nest_small',\n",
              " 'nest_small_jx',\n",
              " 'nest_tiny',\n",
              " 'nest_tiny_jx',\n",
              " 'nextvit_base',\n",
              " 'nextvit_large',\n",
              " 'nextvit_small',\n",
              " 'nf_ecaresnet26',\n",
              " 'nf_ecaresnet50',\n",
              " 'nf_ecaresnet101',\n",
              " 'nf_regnet_b0',\n",
              " 'nf_regnet_b1',\n",
              " 'nf_regnet_b2',\n",
              " 'nf_regnet_b3',\n",
              " 'nf_regnet_b4',\n",
              " 'nf_regnet_b5',\n",
              " 'nf_resnet26',\n",
              " 'nf_resnet50',\n",
              " 'nf_resnet101',\n",
              " 'nf_seresnet26',\n",
              " 'nf_seresnet50',\n",
              " 'nf_seresnet101',\n",
              " 'nfnet_f0',\n",
              " 'nfnet_f1',\n",
              " 'nfnet_f2',\n",
              " 'nfnet_f3',\n",
              " 'nfnet_f4',\n",
              " 'nfnet_f5',\n",
              " 'nfnet_f6',\n",
              " 'nfnet_f7',\n",
              " 'nfnet_l0',\n",
              " 'pit_b_224',\n",
              " 'pit_b_distilled_224',\n",
              " 'pit_s_224',\n",
              " 'pit_s_distilled_224',\n",
              " 'pit_ti_224',\n",
              " 'pit_ti_distilled_224',\n",
              " 'pit_xs_224',\n",
              " 'pit_xs_distilled_224',\n",
              " 'pnasnet5large',\n",
              " 'poolformer_m36',\n",
              " 'poolformer_m48',\n",
              " 'poolformer_s12',\n",
              " 'poolformer_s24',\n",
              " 'poolformer_s36',\n",
              " 'poolformerv2_m36',\n",
              " 'poolformerv2_m48',\n",
              " 'poolformerv2_s12',\n",
              " 'poolformerv2_s24',\n",
              " 'poolformerv2_s36',\n",
              " 'pvt_v2_b0',\n",
              " 'pvt_v2_b1',\n",
              " 'pvt_v2_b2',\n",
              " 'pvt_v2_b2_li',\n",
              " 'pvt_v2_b3',\n",
              " 'pvt_v2_b4',\n",
              " 'pvt_v2_b5',\n",
              " 'rdnet_base',\n",
              " 'rdnet_large',\n",
              " 'rdnet_small',\n",
              " 'rdnet_tiny',\n",
              " 'regnetv_040',\n",
              " 'regnetv_064',\n",
              " 'regnetx_002',\n",
              " 'regnetx_004',\n",
              " 'regnetx_004_tv',\n",
              " 'regnetx_006',\n",
              " 'regnetx_008',\n",
              " 'regnetx_016',\n",
              " 'regnetx_032',\n",
              " 'regnetx_040',\n",
              " 'regnetx_064',\n",
              " 'regnetx_080',\n",
              " 'regnetx_120',\n",
              " 'regnetx_160',\n",
              " 'regnetx_320',\n",
              " 'regnety_002',\n",
              " 'regnety_004',\n",
              " 'regnety_006',\n",
              " 'regnety_008',\n",
              " 'regnety_008_tv',\n",
              " 'regnety_016',\n",
              " 'regnety_032',\n",
              " 'regnety_040',\n",
              " 'regnety_040_sgn',\n",
              " 'regnety_064',\n",
              " 'regnety_080',\n",
              " 'regnety_080_tv',\n",
              " 'regnety_120',\n",
              " 'regnety_160',\n",
              " 'regnety_320',\n",
              " 'regnety_640',\n",
              " 'regnety_1280',\n",
              " 'regnety_2560',\n",
              " 'regnetz_005',\n",
              " 'regnetz_040',\n",
              " 'regnetz_040_h',\n",
              " 'regnetz_b16',\n",
              " 'regnetz_b16_evos',\n",
              " 'regnetz_c16',\n",
              " 'regnetz_c16_evos',\n",
              " 'regnetz_d8',\n",
              " 'regnetz_d8_evos',\n",
              " 'regnetz_d32',\n",
              " 'regnetz_e8',\n",
              " 'repghostnet_050',\n",
              " 'repghostnet_058',\n",
              " 'repghostnet_080',\n",
              " 'repghostnet_100',\n",
              " 'repghostnet_111',\n",
              " 'repghostnet_130',\n",
              " 'repghostnet_150',\n",
              " 'repghostnet_200',\n",
              " 'repvgg_a0',\n",
              " 'repvgg_a1',\n",
              " 'repvgg_a2',\n",
              " 'repvgg_b0',\n",
              " 'repvgg_b1',\n",
              " 'repvgg_b1g4',\n",
              " 'repvgg_b2',\n",
              " 'repvgg_b2g4',\n",
              " 'repvgg_b3',\n",
              " 'repvgg_b3g4',\n",
              " 'repvgg_d2se',\n",
              " 'repvit_m0_9',\n",
              " 'repvit_m1',\n",
              " 'repvit_m1_0',\n",
              " 'repvit_m1_1',\n",
              " 'repvit_m1_5',\n",
              " 'repvit_m2',\n",
              " 'repvit_m2_3',\n",
              " 'repvit_m3',\n",
              " 'res2net50_14w_8s',\n",
              " 'res2net50_26w_4s',\n",
              " 'res2net50_26w_6s',\n",
              " 'res2net50_26w_8s',\n",
              " 'res2net50_48w_2s',\n",
              " 'res2net50d',\n",
              " 'res2net101_26w_4s',\n",
              " 'res2net101d',\n",
              " 'res2next50',\n",
              " 'resmlp_12_224',\n",
              " 'resmlp_24_224',\n",
              " 'resmlp_36_224',\n",
              " 'resmlp_big_24_224',\n",
              " 'resnest14d',\n",
              " 'resnest26d',\n",
              " 'resnest50d',\n",
              " 'resnest50d_1s4x24d',\n",
              " 'resnest50d_4s2x40d',\n",
              " 'resnest101e',\n",
              " 'resnest200e',\n",
              " 'resnest269e',\n",
              " 'resnet10t',\n",
              " 'resnet14t',\n",
              " 'resnet18',\n",
              " 'resnet18d',\n",
              " 'resnet26',\n",
              " 'resnet26d',\n",
              " 'resnet26t',\n",
              " 'resnet32ts',\n",
              " 'resnet33ts',\n",
              " 'resnet34',\n",
              " 'resnet34d',\n",
              " 'resnet50',\n",
              " 'resnet50_clip',\n",
              " 'resnet50_clip_gap',\n",
              " 'resnet50_gn',\n",
              " 'resnet50_mlp',\n",
              " 'resnet50c',\n",
              " 'resnet50d',\n",
              " 'resnet50s',\n",
              " 'resnet50t',\n",
              " 'resnet50x4_clip',\n",
              " 'resnet50x4_clip_gap',\n",
              " 'resnet50x16_clip',\n",
              " 'resnet50x16_clip_gap',\n",
              " 'resnet50x64_clip',\n",
              " 'resnet50x64_clip_gap',\n",
              " 'resnet51q',\n",
              " 'resnet61q',\n",
              " 'resnet101',\n",
              " 'resnet101_clip',\n",
              " 'resnet101_clip_gap',\n",
              " 'resnet101c',\n",
              " 'resnet101d',\n",
              " 'resnet101s',\n",
              " 'resnet152',\n",
              " 'resnet152c',\n",
              " 'resnet152d',\n",
              " 'resnet152s',\n",
              " 'resnet200',\n",
              " 'resnet200d',\n",
              " 'resnetaa34d',\n",
              " 'resnetaa50',\n",
              " 'resnetaa50d',\n",
              " 'resnetaa101d',\n",
              " 'resnetblur18',\n",
              " 'resnetblur50',\n",
              " 'resnetblur50d',\n",
              " 'resnetblur101d',\n",
              " 'resnetrs50',\n",
              " 'resnetrs101',\n",
              " 'resnetrs152',\n",
              " 'resnetrs200',\n",
              " 'resnetrs270',\n",
              " 'resnetrs350',\n",
              " 'resnetrs420',\n",
              " 'resnetv2_18',\n",
              " 'resnetv2_18d',\n",
              " 'resnetv2_34',\n",
              " 'resnetv2_34d',\n",
              " 'resnetv2_50',\n",
              " 'resnetv2_50d',\n",
              " 'resnetv2_50d_evos',\n",
              " 'resnetv2_50d_frn',\n",
              " 'resnetv2_50d_gn',\n",
              " 'resnetv2_50t',\n",
              " 'resnetv2_50x1_bit',\n",
              " 'resnetv2_50x3_bit',\n",
              " 'resnetv2_101',\n",
              " 'resnetv2_101d',\n",
              " 'resnetv2_101x1_bit',\n",
              " 'resnetv2_101x3_bit',\n",
              " 'resnetv2_152',\n",
              " 'resnetv2_152d',\n",
              " 'resnetv2_152x2_bit',\n",
              " 'resnetv2_152x4_bit',\n",
              " 'resnext26ts',\n",
              " 'resnext50_32x4d',\n",
              " 'resnext50d_32x4d',\n",
              " 'resnext101_32x4d',\n",
              " 'resnext101_32x8d',\n",
              " 'resnext101_32x16d',\n",
              " 'resnext101_32x32d',\n",
              " 'resnext101_64x4d',\n",
              " 'rexnet_100',\n",
              " 'rexnet_130',\n",
              " 'rexnet_150',\n",
              " 'rexnet_200',\n",
              " 'rexnet_300',\n",
              " 'rexnetr_100',\n",
              " 'rexnetr_130',\n",
              " 'rexnetr_150',\n",
              " 'rexnetr_200',\n",
              " 'rexnetr_300',\n",
              " 'sam2_hiera_base_plus',\n",
              " 'sam2_hiera_large',\n",
              " 'sam2_hiera_small',\n",
              " 'sam2_hiera_tiny',\n",
              " 'samvit_base_patch16',\n",
              " 'samvit_base_patch16_224',\n",
              " 'samvit_huge_patch16',\n",
              " 'samvit_large_patch16',\n",
              " 'sebotnet33ts_256',\n",
              " 'sedarknet21',\n",
              " 'sehalonet33ts',\n",
              " 'selecsls42',\n",
              " 'selecsls42b',\n",
              " 'selecsls60',\n",
              " 'selecsls60b',\n",
              " 'selecsls84',\n",
              " 'semnasnet_050',\n",
              " 'semnasnet_075',\n",
              " 'semnasnet_100',\n",
              " 'semnasnet_140',\n",
              " 'senet154',\n",
              " 'sequencer2d_l',\n",
              " 'sequencer2d_m',\n",
              " 'sequencer2d_s',\n",
              " 'seresnet18',\n",
              " 'seresnet33ts',\n",
              " 'seresnet34',\n",
              " 'seresnet50',\n",
              " 'seresnet50t',\n",
              " 'seresnet101',\n",
              " 'seresnet152',\n",
              " 'seresnet152d',\n",
              " 'seresnet200d',\n",
              " 'seresnet269d',\n",
              " 'seresnetaa50d',\n",
              " 'seresnext26d_32x4d',\n",
              " 'seresnext26t_32x4d',\n",
              " 'seresnext26ts',\n",
              " 'seresnext50_32x4d',\n",
              " 'seresnext101_32x4d',\n",
              " 'seresnext101_32x8d',\n",
              " 'seresnext101_64x4d',\n",
              " 'seresnext101d_32x8d',\n",
              " 'seresnextaa101d_32x8d',\n",
              " 'seresnextaa201d_32x8d',\n",
              " 'skresnet18',\n",
              " 'skresnet34',\n",
              " 'skresnet50',\n",
              " 'skresnet50d',\n",
              " 'skresnext50_32x4d',\n",
              " 'spnasnet_100',\n",
              " 'swin_base_patch4_window7_224',\n",
              " 'swin_base_patch4_window12_384',\n",
              " 'swin_large_patch4_window7_224',\n",
              " 'swin_large_patch4_window12_384',\n",
              " 'swin_s3_base_224',\n",
              " 'swin_s3_small_224',\n",
              " 'swin_s3_tiny_224',\n",
              " 'swin_small_patch4_window7_224',\n",
              " 'swin_tiny_patch4_window7_224',\n",
              " 'swinv2_base_window8_256',\n",
              " 'swinv2_base_window12_192',\n",
              " 'swinv2_base_window12to16_192to256',\n",
              " 'swinv2_base_window12to24_192to384',\n",
              " 'swinv2_base_window16_256',\n",
              " 'swinv2_cr_base_224',\n",
              " 'swinv2_cr_base_384',\n",
              " 'swinv2_cr_base_ns_224',\n",
              " 'swinv2_cr_giant_224',\n",
              " 'swinv2_cr_giant_384',\n",
              " 'swinv2_cr_huge_224',\n",
              " 'swinv2_cr_huge_384',\n",
              " 'swinv2_cr_large_224',\n",
              " 'swinv2_cr_large_384',\n",
              " 'swinv2_cr_small_224',\n",
              " 'swinv2_cr_small_384',\n",
              " 'swinv2_cr_small_ns_224',\n",
              " 'swinv2_cr_small_ns_256',\n",
              " 'swinv2_cr_tiny_224',\n",
              " 'swinv2_cr_tiny_384',\n",
              " 'swinv2_cr_tiny_ns_224',\n",
              " 'swinv2_large_window12_192',\n",
              " 'swinv2_large_window12to16_192to256',\n",
              " 'swinv2_large_window12to24_192to384',\n",
              " 'swinv2_small_window8_256',\n",
              " 'swinv2_small_window16_256',\n",
              " 'swinv2_tiny_window8_256',\n",
              " 'swinv2_tiny_window16_256',\n",
              " 'test_byobnet',\n",
              " 'test_convnext',\n",
              " 'test_convnext2',\n",
              " 'test_convnext3',\n",
              " 'test_efficientnet',\n",
              " 'test_efficientnet_evos',\n",
              " 'test_efficientnet_gn',\n",
              " 'test_efficientnet_ln',\n",
              " 'test_mambaout',\n",
              " 'test_nfnet',\n",
              " 'test_resnet',\n",
              " 'test_vit',\n",
              " 'test_vit2',\n",
              " 'test_vit3',\n",
              " 'tf_efficientnet_b0',\n",
              " 'tf_efficientnet_b1',\n",
              " 'tf_efficientnet_b2',\n",
              " 'tf_efficientnet_b3',\n",
              " 'tf_efficientnet_b4',\n",
              " 'tf_efficientnet_b5',\n",
              " 'tf_efficientnet_b6',\n",
              " 'tf_efficientnet_b7',\n",
              " 'tf_efficientnet_b8',\n",
              " 'tf_efficientnet_cc_b0_4e',\n",
              " 'tf_efficientnet_cc_b0_8e',\n",
              " 'tf_efficientnet_cc_b1_8e',\n",
              " 'tf_efficientnet_el',\n",
              " 'tf_efficientnet_em',\n",
              " 'tf_efficientnet_es',\n",
              " 'tf_efficientnet_l2',\n",
              " 'tf_efficientnet_lite0',\n",
              " 'tf_efficientnet_lite1',\n",
              " 'tf_efficientnet_lite2',\n",
              " 'tf_efficientnet_lite3',\n",
              " 'tf_efficientnet_lite4',\n",
              " 'tf_efficientnetv2_b0',\n",
              " 'tf_efficientnetv2_b1',\n",
              " 'tf_efficientnetv2_b2',\n",
              " 'tf_efficientnetv2_b3',\n",
              " 'tf_efficientnetv2_l',\n",
              " 'tf_efficientnetv2_m',\n",
              " 'tf_efficientnetv2_s',\n",
              " 'tf_efficientnetv2_xl',\n",
              " 'tf_mixnet_l',\n",
              " 'tf_mixnet_m',\n",
              " 'tf_mixnet_s',\n",
              " 'tf_mobilenetv3_large_075',\n",
              " 'tf_mobilenetv3_large_100',\n",
              " 'tf_mobilenetv3_large_minimal_100',\n",
              " 'tf_mobilenetv3_small_075',\n",
              " 'tf_mobilenetv3_small_100',\n",
              " 'tf_mobilenetv3_small_minimal_100',\n",
              " 'tiny_vit_5m_224',\n",
              " 'tiny_vit_11m_224',\n",
              " 'tiny_vit_21m_224',\n",
              " 'tiny_vit_21m_384',\n",
              " 'tiny_vit_21m_512',\n",
              " 'tinynet_a',\n",
              " 'tinynet_b',\n",
              " 'tinynet_c',\n",
              " 'tinynet_d',\n",
              " 'tinynet_e',\n",
              " 'tnt_b_patch16_224',\n",
              " 'tnt_s_patch16_224',\n",
              " 'tresnet_l',\n",
              " 'tresnet_m',\n",
              " 'tresnet_v2_l',\n",
              " 'tresnet_xl',\n",
              " 'twins_pcpvt_base',\n",
              " 'twins_pcpvt_large',\n",
              " 'twins_pcpvt_small',\n",
              " 'twins_svt_base',\n",
              " 'twins_svt_large',\n",
              " 'twins_svt_small',\n",
              " 'vgg11',\n",
              " 'vgg11_bn',\n",
              " 'vgg13',\n",
              " 'vgg13_bn',\n",
              " 'vgg16',\n",
              " 'vgg16_bn',\n",
              " 'vgg19',\n",
              " 'vgg19_bn',\n",
              " 'visformer_small',\n",
              " 'visformer_tiny',\n",
              " 'vit_base_mci_224',\n",
              " 'vit_base_patch8_224',\n",
              " 'vit_base_patch14_dinov2',\n",
              " 'vit_base_patch14_reg4_dinov2',\n",
              " 'vit_base_patch16_18x2_224',\n",
              " 'vit_base_patch16_224',\n",
              " 'vit_base_patch16_224_miil',\n",
              " 'vit_base_patch16_384',\n",
              " 'vit_base_patch16_clip_224',\n",
              " 'vit_base_patch16_clip_384',\n",
              " 'vit_base_patch16_clip_quickgelu_224',\n",
              " 'vit_base_patch16_gap_224',\n",
              " 'vit_base_patch16_plus_240',\n",
              " 'vit_base_patch16_plus_clip_240',\n",
              " 'vit_base_patch16_reg4_gap_256',\n",
              " 'vit_base_patch16_rope_reg1_gap_256',\n",
              " 'vit_base_patch16_rpn_224',\n",
              " 'vit_base_patch16_siglip_224',\n",
              " 'vit_base_patch16_siglip_256',\n",
              " 'vit_base_patch16_siglip_384',\n",
              " 'vit_base_patch16_siglip_512',\n",
              " 'vit_base_patch16_siglip_gap_224',\n",
              " 'vit_base_patch16_siglip_gap_256',\n",
              " 'vit_base_patch16_siglip_gap_384',\n",
              " 'vit_base_patch16_siglip_gap_512',\n",
              " 'vit_base_patch16_xp_224',\n",
              " 'vit_base_patch32_224',\n",
              " 'vit_base_patch32_384',\n",
              " 'vit_base_patch32_clip_224',\n",
              " 'vit_base_patch32_clip_256',\n",
              " ...]"
            ]
          },
          "metadata": {},
          "execution_count": 11
        }
      ]
    },
    {
      "cell_type": "code",
      "execution_count": null,
      "metadata": {
        "id": "N_QH5zfLMtQH"
      },
      "outputs": [],
      "source": [
        "# Resnet\n",
        "class Pretrained_model(nn.Module):\n",
        "    def __init__(self, out_dim, pretrained=True):\n",
        "        super(Pretrained_model, self).__init__()\n",
        "\n",
        "        # resnet18 모델\n",
        "        # https://pytorch.org/vision/main/models/generated/torchvision.models.resnet18.html\n",
        "        self.enet = model = models.resnet18(weights=models.ResNet18_Weights.IMAGENET1K_V1)\n",
        "\n",
        "        # timm 라이브러리에서는 다양한 모델을 손쉽게 사용할 수 있음\n",
        "        # https://timm.fast.ai/\n",
        "\n",
        "        # timm에서 지원하는 모델 목록\n",
        "        # timm.list_models()\n",
        "\n",
        "        # ImageNet dataset 기준 State Of The Art(SOTA) model\n",
        "        # https://paperswithcode.com/sota/image-classification-on-imagenet\n",
        "\n",
        "        # # 모델 파라메터 고정\n",
        "        # for param in self.enet.parameters():\n",
        "        #     param.requires_grad = False\n",
        "\n",
        "        in_ch = self.enet.fc.in_features\n",
        "        self.myfc = nn.Linear(in_ch, out_dim)\n",
        "        self.enet.fc = nn.Identity()\n",
        "\n",
        "    def extract(self, x):\n",
        "        x = self.enet(x)\n",
        "        return x\n",
        "\n",
        "    def forward(self, x, x_meta=None):\n",
        "        x = self.extract(x)\n",
        "        out = self.myfc(x)\n",
        "        return out"
      ]
    },
    {
      "cell_type": "code",
      "source": [
        "# EfficientNet\n",
        "\n",
        "class Pretrained_model(nn.Module):\n",
        "    def __init__(self, out_dim, pretrained=True):\n",
        "        super(Pretrained_model, self).__init__()\n",
        "\n",
        "        self.enet = model = models.efficientnet_b0(weights=models.EfficientNet_B0_Weights.IMAGENET1K_V1)\n",
        "        in_ch = self.enet.classifier[1].in_features\n",
        "        self.enet.classifier = nn.Linear(in_ch, out_dim)\n",
        "\n",
        "    def forward(self, x, x_meta=None):\n",
        "        x = self.enet(x)\n",
        "        return x"
      ],
      "metadata": {
        "id": "vufwcCo9lSba"
      },
      "execution_count": 12,
      "outputs": []
    },
    {
      "cell_type": "code",
      "source": [
        "# ViT\n",
        "class Pretrained_model(nn.Module):\n",
        "    def __init__(self, out_dim, pretrained=True):\n",
        "        super(Pretrained_model, self).__init__()\n",
        "        # https://pytorch.org/vision/main/models/generated/torchvision.models.vit_b_16.html#torchvision.models.vit_b_16\n",
        "\n",
        "        self.enet = model = models.vit_b_16(weights=models.ViT_B_16_Weights.DEFAULT)\n",
        "        in_ch = self.enet.heads.head.in_features\n",
        "        self.enet.heads.head = nn.Linear(in_ch, out_dim)\n",
        "\n",
        "    def forward(self, x, x_meta=None):\n",
        "        x = self.enet(x)\n",
        "        return x"
      ],
      "metadata": {
        "id": "v6mN1M4h1031"
      },
      "execution_count": null,
      "outputs": []
    },
    {
      "cell_type": "code",
      "source": [
        "# VGG\n",
        "class Pretrained_model(nn.Module):\n",
        "    def __init__(self, out_dim, pretrained=True):\n",
        "        super(Pretrained_model, self).__init__()\n",
        "\n",
        "        self.enet = model = models.vgg16(weights=models.VGG16_Weights.IMAGENET1K_V1)\n",
        "\n",
        "        in_ch = self.enet.classifier[6].in_features\n",
        "        self.enet.classifier[6] = nn.Linear(in_ch, out_dim)\n",
        "\n",
        "    def forward(self, x, x_meta=None):\n",
        "        x = self.enet(x)\n",
        "        return x"
      ],
      "metadata": {
        "id": "GN_9pkbmNZc8"
      },
      "execution_count": null,
      "outputs": []
    },
    {
      "cell_type": "code",
      "source": [
        "# efficientnet_v2_s\n",
        "class Pretrained_model(nn.Module):\n",
        "    def __init__(self, out_dim, pretrained=True):\n",
        "        super(Pretrained_model, self).__init__()\n",
        "\n",
        "        self.enet = model = models.efficientnet_v2_s(weights=models.EfficientNet_V2_S_Weights.DEFAULT)\n",
        "        in_ch = self.enet.classifier[1].in_features\n",
        "        self.enet.classifier[1] = nn.Linear(in_ch, out_dim)\n",
        "\n",
        "    def forward(self, x, x_meta=None):\n",
        "        x = self.enet(x)\n",
        "        return x"
      ],
      "metadata": {
        "id": "jpmhDQ-nNaHB"
      },
      "execution_count": null,
      "outputs": []
    },
    {
      "cell_type": "code",
      "execution_count": 13,
      "metadata": {
        "colab": {
          "base_uri": "https://localhost:8080/"
        },
        "id": "4lIsCukPMtQH",
        "outputId": "4d70a896-825f-4ca4-edb4-977a94be101f"
      },
      "outputs": [
        {
          "output_type": "stream",
          "name": "stderr",
          "text": [
            "Downloading: \"https://download.pytorch.org/models/efficientnet_b0_rwightman-7f5810bc.pth\" to /root/.cache/torch/hub/checkpoints/efficientnet_b0_rwightman-7f5810bc.pth\n",
            "100%|██████████| 20.5M/20.5M [00:00<00:00, 63.3MB/s]\n"
          ]
        },
        {
          "output_type": "execute_result",
          "data": {
            "text/plain": [
              "Pretrained_model(\n",
              "  (enet): EfficientNet(\n",
              "    (features): Sequential(\n",
              "      (0): Conv2dNormActivation(\n",
              "        (0): Conv2d(3, 32, kernel_size=(3, 3), stride=(2, 2), padding=(1, 1), bias=False)\n",
              "        (1): BatchNorm2d(32, eps=1e-05, momentum=0.1, affine=True, track_running_stats=True)\n",
              "        (2): SiLU(inplace=True)\n",
              "      )\n",
              "      (1): Sequential(\n",
              "        (0): MBConv(\n",
              "          (block): Sequential(\n",
              "            (0): Conv2dNormActivation(\n",
              "              (0): Conv2d(32, 32, kernel_size=(3, 3), stride=(1, 1), padding=(1, 1), groups=32, bias=False)\n",
              "              (1): BatchNorm2d(32, eps=1e-05, momentum=0.1, affine=True, track_running_stats=True)\n",
              "              (2): SiLU(inplace=True)\n",
              "            )\n",
              "            (1): SqueezeExcitation(\n",
              "              (avgpool): AdaptiveAvgPool2d(output_size=1)\n",
              "              (fc1): Conv2d(32, 8, kernel_size=(1, 1), stride=(1, 1))\n",
              "              (fc2): Conv2d(8, 32, kernel_size=(1, 1), stride=(1, 1))\n",
              "              (activation): SiLU(inplace=True)\n",
              "              (scale_activation): Sigmoid()\n",
              "            )\n",
              "            (2): Conv2dNormActivation(\n",
              "              (0): Conv2d(32, 16, kernel_size=(1, 1), stride=(1, 1), bias=False)\n",
              "              (1): BatchNorm2d(16, eps=1e-05, momentum=0.1, affine=True, track_running_stats=True)\n",
              "            )\n",
              "          )\n",
              "          (stochastic_depth): StochasticDepth(p=0.0, mode=row)\n",
              "        )\n",
              "      )\n",
              "      (2): Sequential(\n",
              "        (0): MBConv(\n",
              "          (block): Sequential(\n",
              "            (0): Conv2dNormActivation(\n",
              "              (0): Conv2d(16, 96, kernel_size=(1, 1), stride=(1, 1), bias=False)\n",
              "              (1): BatchNorm2d(96, eps=1e-05, momentum=0.1, affine=True, track_running_stats=True)\n",
              "              (2): SiLU(inplace=True)\n",
              "            )\n",
              "            (1): Conv2dNormActivation(\n",
              "              (0): Conv2d(96, 96, kernel_size=(3, 3), stride=(2, 2), padding=(1, 1), groups=96, bias=False)\n",
              "              (1): BatchNorm2d(96, eps=1e-05, momentum=0.1, affine=True, track_running_stats=True)\n",
              "              (2): SiLU(inplace=True)\n",
              "            )\n",
              "            (2): SqueezeExcitation(\n",
              "              (avgpool): AdaptiveAvgPool2d(output_size=1)\n",
              "              (fc1): Conv2d(96, 4, kernel_size=(1, 1), stride=(1, 1))\n",
              "              (fc2): Conv2d(4, 96, kernel_size=(1, 1), stride=(1, 1))\n",
              "              (activation): SiLU(inplace=True)\n",
              "              (scale_activation): Sigmoid()\n",
              "            )\n",
              "            (3): Conv2dNormActivation(\n",
              "              (0): Conv2d(96, 24, kernel_size=(1, 1), stride=(1, 1), bias=False)\n",
              "              (1): BatchNorm2d(24, eps=1e-05, momentum=0.1, affine=True, track_running_stats=True)\n",
              "            )\n",
              "          )\n",
              "          (stochastic_depth): StochasticDepth(p=0.0125, mode=row)\n",
              "        )\n",
              "        (1): MBConv(\n",
              "          (block): Sequential(\n",
              "            (0): Conv2dNormActivation(\n",
              "              (0): Conv2d(24, 144, kernel_size=(1, 1), stride=(1, 1), bias=False)\n",
              "              (1): BatchNorm2d(144, eps=1e-05, momentum=0.1, affine=True, track_running_stats=True)\n",
              "              (2): SiLU(inplace=True)\n",
              "            )\n",
              "            (1): Conv2dNormActivation(\n",
              "              (0): Conv2d(144, 144, kernel_size=(3, 3), stride=(1, 1), padding=(1, 1), groups=144, bias=False)\n",
              "              (1): BatchNorm2d(144, eps=1e-05, momentum=0.1, affine=True, track_running_stats=True)\n",
              "              (2): SiLU(inplace=True)\n",
              "            )\n",
              "            (2): SqueezeExcitation(\n",
              "              (avgpool): AdaptiveAvgPool2d(output_size=1)\n",
              "              (fc1): Conv2d(144, 6, kernel_size=(1, 1), stride=(1, 1))\n",
              "              (fc2): Conv2d(6, 144, kernel_size=(1, 1), stride=(1, 1))\n",
              "              (activation): SiLU(inplace=True)\n",
              "              (scale_activation): Sigmoid()\n",
              "            )\n",
              "            (3): Conv2dNormActivation(\n",
              "              (0): Conv2d(144, 24, kernel_size=(1, 1), stride=(1, 1), bias=False)\n",
              "              (1): BatchNorm2d(24, eps=1e-05, momentum=0.1, affine=True, track_running_stats=True)\n",
              "            )\n",
              "          )\n",
              "          (stochastic_depth): StochasticDepth(p=0.025, mode=row)\n",
              "        )\n",
              "      )\n",
              "      (3): Sequential(\n",
              "        (0): MBConv(\n",
              "          (block): Sequential(\n",
              "            (0): Conv2dNormActivation(\n",
              "              (0): Conv2d(24, 144, kernel_size=(1, 1), stride=(1, 1), bias=False)\n",
              "              (1): BatchNorm2d(144, eps=1e-05, momentum=0.1, affine=True, track_running_stats=True)\n",
              "              (2): SiLU(inplace=True)\n",
              "            )\n",
              "            (1): Conv2dNormActivation(\n",
              "              (0): Conv2d(144, 144, kernel_size=(5, 5), stride=(2, 2), padding=(2, 2), groups=144, bias=False)\n",
              "              (1): BatchNorm2d(144, eps=1e-05, momentum=0.1, affine=True, track_running_stats=True)\n",
              "              (2): SiLU(inplace=True)\n",
              "            )\n",
              "            (2): SqueezeExcitation(\n",
              "              (avgpool): AdaptiveAvgPool2d(output_size=1)\n",
              "              (fc1): Conv2d(144, 6, kernel_size=(1, 1), stride=(1, 1))\n",
              "              (fc2): Conv2d(6, 144, kernel_size=(1, 1), stride=(1, 1))\n",
              "              (activation): SiLU(inplace=True)\n",
              "              (scale_activation): Sigmoid()\n",
              "            )\n",
              "            (3): Conv2dNormActivation(\n",
              "              (0): Conv2d(144, 40, kernel_size=(1, 1), stride=(1, 1), bias=False)\n",
              "              (1): BatchNorm2d(40, eps=1e-05, momentum=0.1, affine=True, track_running_stats=True)\n",
              "            )\n",
              "          )\n",
              "          (stochastic_depth): StochasticDepth(p=0.037500000000000006, mode=row)\n",
              "        )\n",
              "        (1): MBConv(\n",
              "          (block): Sequential(\n",
              "            (0): Conv2dNormActivation(\n",
              "              (0): Conv2d(40, 240, kernel_size=(1, 1), stride=(1, 1), bias=False)\n",
              "              (1): BatchNorm2d(240, eps=1e-05, momentum=0.1, affine=True, track_running_stats=True)\n",
              "              (2): SiLU(inplace=True)\n",
              "            )\n",
              "            (1): Conv2dNormActivation(\n",
              "              (0): Conv2d(240, 240, kernel_size=(5, 5), stride=(1, 1), padding=(2, 2), groups=240, bias=False)\n",
              "              (1): BatchNorm2d(240, eps=1e-05, momentum=0.1, affine=True, track_running_stats=True)\n",
              "              (2): SiLU(inplace=True)\n",
              "            )\n",
              "            (2): SqueezeExcitation(\n",
              "              (avgpool): AdaptiveAvgPool2d(output_size=1)\n",
              "              (fc1): Conv2d(240, 10, kernel_size=(1, 1), stride=(1, 1))\n",
              "              (fc2): Conv2d(10, 240, kernel_size=(1, 1), stride=(1, 1))\n",
              "              (activation): SiLU(inplace=True)\n",
              "              (scale_activation): Sigmoid()\n",
              "            )\n",
              "            (3): Conv2dNormActivation(\n",
              "              (0): Conv2d(240, 40, kernel_size=(1, 1), stride=(1, 1), bias=False)\n",
              "              (1): BatchNorm2d(40, eps=1e-05, momentum=0.1, affine=True, track_running_stats=True)\n",
              "            )\n",
              "          )\n",
              "          (stochastic_depth): StochasticDepth(p=0.05, mode=row)\n",
              "        )\n",
              "      )\n",
              "      (4): Sequential(\n",
              "        (0): MBConv(\n",
              "          (block): Sequential(\n",
              "            (0): Conv2dNormActivation(\n",
              "              (0): Conv2d(40, 240, kernel_size=(1, 1), stride=(1, 1), bias=False)\n",
              "              (1): BatchNorm2d(240, eps=1e-05, momentum=0.1, affine=True, track_running_stats=True)\n",
              "              (2): SiLU(inplace=True)\n",
              "            )\n",
              "            (1): Conv2dNormActivation(\n",
              "              (0): Conv2d(240, 240, kernel_size=(3, 3), stride=(2, 2), padding=(1, 1), groups=240, bias=False)\n",
              "              (1): BatchNorm2d(240, eps=1e-05, momentum=0.1, affine=True, track_running_stats=True)\n",
              "              (2): SiLU(inplace=True)\n",
              "            )\n",
              "            (2): SqueezeExcitation(\n",
              "              (avgpool): AdaptiveAvgPool2d(output_size=1)\n",
              "              (fc1): Conv2d(240, 10, kernel_size=(1, 1), stride=(1, 1))\n",
              "              (fc2): Conv2d(10, 240, kernel_size=(1, 1), stride=(1, 1))\n",
              "              (activation): SiLU(inplace=True)\n",
              "              (scale_activation): Sigmoid()\n",
              "            )\n",
              "            (3): Conv2dNormActivation(\n",
              "              (0): Conv2d(240, 80, kernel_size=(1, 1), stride=(1, 1), bias=False)\n",
              "              (1): BatchNorm2d(80, eps=1e-05, momentum=0.1, affine=True, track_running_stats=True)\n",
              "            )\n",
              "          )\n",
              "          (stochastic_depth): StochasticDepth(p=0.0625, mode=row)\n",
              "        )\n",
              "        (1): MBConv(\n",
              "          (block): Sequential(\n",
              "            (0): Conv2dNormActivation(\n",
              "              (0): Conv2d(80, 480, kernel_size=(1, 1), stride=(1, 1), bias=False)\n",
              "              (1): BatchNorm2d(480, eps=1e-05, momentum=0.1, affine=True, track_running_stats=True)\n",
              "              (2): SiLU(inplace=True)\n",
              "            )\n",
              "            (1): Conv2dNormActivation(\n",
              "              (0): Conv2d(480, 480, kernel_size=(3, 3), stride=(1, 1), padding=(1, 1), groups=480, bias=False)\n",
              "              (1): BatchNorm2d(480, eps=1e-05, momentum=0.1, affine=True, track_running_stats=True)\n",
              "              (2): SiLU(inplace=True)\n",
              "            )\n",
              "            (2): SqueezeExcitation(\n",
              "              (avgpool): AdaptiveAvgPool2d(output_size=1)\n",
              "              (fc1): Conv2d(480, 20, kernel_size=(1, 1), stride=(1, 1))\n",
              "              (fc2): Conv2d(20, 480, kernel_size=(1, 1), stride=(1, 1))\n",
              "              (activation): SiLU(inplace=True)\n",
              "              (scale_activation): Sigmoid()\n",
              "            )\n",
              "            (3): Conv2dNormActivation(\n",
              "              (0): Conv2d(480, 80, kernel_size=(1, 1), stride=(1, 1), bias=False)\n",
              "              (1): BatchNorm2d(80, eps=1e-05, momentum=0.1, affine=True, track_running_stats=True)\n",
              "            )\n",
              "          )\n",
              "          (stochastic_depth): StochasticDepth(p=0.07500000000000001, mode=row)\n",
              "        )\n",
              "        (2): MBConv(\n",
              "          (block): Sequential(\n",
              "            (0): Conv2dNormActivation(\n",
              "              (0): Conv2d(80, 480, kernel_size=(1, 1), stride=(1, 1), bias=False)\n",
              "              (1): BatchNorm2d(480, eps=1e-05, momentum=0.1, affine=True, track_running_stats=True)\n",
              "              (2): SiLU(inplace=True)\n",
              "            )\n",
              "            (1): Conv2dNormActivation(\n",
              "              (0): Conv2d(480, 480, kernel_size=(3, 3), stride=(1, 1), padding=(1, 1), groups=480, bias=False)\n",
              "              (1): BatchNorm2d(480, eps=1e-05, momentum=0.1, affine=True, track_running_stats=True)\n",
              "              (2): SiLU(inplace=True)\n",
              "            )\n",
              "            (2): SqueezeExcitation(\n",
              "              (avgpool): AdaptiveAvgPool2d(output_size=1)\n",
              "              (fc1): Conv2d(480, 20, kernel_size=(1, 1), stride=(1, 1))\n",
              "              (fc2): Conv2d(20, 480, kernel_size=(1, 1), stride=(1, 1))\n",
              "              (activation): SiLU(inplace=True)\n",
              "              (scale_activation): Sigmoid()\n",
              "            )\n",
              "            (3): Conv2dNormActivation(\n",
              "              (0): Conv2d(480, 80, kernel_size=(1, 1), stride=(1, 1), bias=False)\n",
              "              (1): BatchNorm2d(80, eps=1e-05, momentum=0.1, affine=True, track_running_stats=True)\n",
              "            )\n",
              "          )\n",
              "          (stochastic_depth): StochasticDepth(p=0.08750000000000001, mode=row)\n",
              "        )\n",
              "      )\n",
              "      (5): Sequential(\n",
              "        (0): MBConv(\n",
              "          (block): Sequential(\n",
              "            (0): Conv2dNormActivation(\n",
              "              (0): Conv2d(80, 480, kernel_size=(1, 1), stride=(1, 1), bias=False)\n",
              "              (1): BatchNorm2d(480, eps=1e-05, momentum=0.1, affine=True, track_running_stats=True)\n",
              "              (2): SiLU(inplace=True)\n",
              "            )\n",
              "            (1): Conv2dNormActivation(\n",
              "              (0): Conv2d(480, 480, kernel_size=(5, 5), stride=(1, 1), padding=(2, 2), groups=480, bias=False)\n",
              "              (1): BatchNorm2d(480, eps=1e-05, momentum=0.1, affine=True, track_running_stats=True)\n",
              "              (2): SiLU(inplace=True)\n",
              "            )\n",
              "            (2): SqueezeExcitation(\n",
              "              (avgpool): AdaptiveAvgPool2d(output_size=1)\n",
              "              (fc1): Conv2d(480, 20, kernel_size=(1, 1), stride=(1, 1))\n",
              "              (fc2): Conv2d(20, 480, kernel_size=(1, 1), stride=(1, 1))\n",
              "              (activation): SiLU(inplace=True)\n",
              "              (scale_activation): Sigmoid()\n",
              "            )\n",
              "            (3): Conv2dNormActivation(\n",
              "              (0): Conv2d(480, 112, kernel_size=(1, 1), stride=(1, 1), bias=False)\n",
              "              (1): BatchNorm2d(112, eps=1e-05, momentum=0.1, affine=True, track_running_stats=True)\n",
              "            )\n",
              "          )\n",
              "          (stochastic_depth): StochasticDepth(p=0.1, mode=row)\n",
              "        )\n",
              "        (1): MBConv(\n",
              "          (block): Sequential(\n",
              "            (0): Conv2dNormActivation(\n",
              "              (0): Conv2d(112, 672, kernel_size=(1, 1), stride=(1, 1), bias=False)\n",
              "              (1): BatchNorm2d(672, eps=1e-05, momentum=0.1, affine=True, track_running_stats=True)\n",
              "              (2): SiLU(inplace=True)\n",
              "            )\n",
              "            (1): Conv2dNormActivation(\n",
              "              (0): Conv2d(672, 672, kernel_size=(5, 5), stride=(1, 1), padding=(2, 2), groups=672, bias=False)\n",
              "              (1): BatchNorm2d(672, eps=1e-05, momentum=0.1, affine=True, track_running_stats=True)\n",
              "              (2): SiLU(inplace=True)\n",
              "            )\n",
              "            (2): SqueezeExcitation(\n",
              "              (avgpool): AdaptiveAvgPool2d(output_size=1)\n",
              "              (fc1): Conv2d(672, 28, kernel_size=(1, 1), stride=(1, 1))\n",
              "              (fc2): Conv2d(28, 672, kernel_size=(1, 1), stride=(1, 1))\n",
              "              (activation): SiLU(inplace=True)\n",
              "              (scale_activation): Sigmoid()\n",
              "            )\n",
              "            (3): Conv2dNormActivation(\n",
              "              (0): Conv2d(672, 112, kernel_size=(1, 1), stride=(1, 1), bias=False)\n",
              "              (1): BatchNorm2d(112, eps=1e-05, momentum=0.1, affine=True, track_running_stats=True)\n",
              "            )\n",
              "          )\n",
              "          (stochastic_depth): StochasticDepth(p=0.1125, mode=row)\n",
              "        )\n",
              "        (2): MBConv(\n",
              "          (block): Sequential(\n",
              "            (0): Conv2dNormActivation(\n",
              "              (0): Conv2d(112, 672, kernel_size=(1, 1), stride=(1, 1), bias=False)\n",
              "              (1): BatchNorm2d(672, eps=1e-05, momentum=0.1, affine=True, track_running_stats=True)\n",
              "              (2): SiLU(inplace=True)\n",
              "            )\n",
              "            (1): Conv2dNormActivation(\n",
              "              (0): Conv2d(672, 672, kernel_size=(5, 5), stride=(1, 1), padding=(2, 2), groups=672, bias=False)\n",
              "              (1): BatchNorm2d(672, eps=1e-05, momentum=0.1, affine=True, track_running_stats=True)\n",
              "              (2): SiLU(inplace=True)\n",
              "            )\n",
              "            (2): SqueezeExcitation(\n",
              "              (avgpool): AdaptiveAvgPool2d(output_size=1)\n",
              "              (fc1): Conv2d(672, 28, kernel_size=(1, 1), stride=(1, 1))\n",
              "              (fc2): Conv2d(28, 672, kernel_size=(1, 1), stride=(1, 1))\n",
              "              (activation): SiLU(inplace=True)\n",
              "              (scale_activation): Sigmoid()\n",
              "            )\n",
              "            (3): Conv2dNormActivation(\n",
              "              (0): Conv2d(672, 112, kernel_size=(1, 1), stride=(1, 1), bias=False)\n",
              "              (1): BatchNorm2d(112, eps=1e-05, momentum=0.1, affine=True, track_running_stats=True)\n",
              "            )\n",
              "          )\n",
              "          (stochastic_depth): StochasticDepth(p=0.125, mode=row)\n",
              "        )\n",
              "      )\n",
              "      (6): Sequential(\n",
              "        (0): MBConv(\n",
              "          (block): Sequential(\n",
              "            (0): Conv2dNormActivation(\n",
              "              (0): Conv2d(112, 672, kernel_size=(1, 1), stride=(1, 1), bias=False)\n",
              "              (1): BatchNorm2d(672, eps=1e-05, momentum=0.1, affine=True, track_running_stats=True)\n",
              "              (2): SiLU(inplace=True)\n",
              "            )\n",
              "            (1): Conv2dNormActivation(\n",
              "              (0): Conv2d(672, 672, kernel_size=(5, 5), stride=(2, 2), padding=(2, 2), groups=672, bias=False)\n",
              "              (1): BatchNorm2d(672, eps=1e-05, momentum=0.1, affine=True, track_running_stats=True)\n",
              "              (2): SiLU(inplace=True)\n",
              "            )\n",
              "            (2): SqueezeExcitation(\n",
              "              (avgpool): AdaptiveAvgPool2d(output_size=1)\n",
              "              (fc1): Conv2d(672, 28, kernel_size=(1, 1), stride=(1, 1))\n",
              "              (fc2): Conv2d(28, 672, kernel_size=(1, 1), stride=(1, 1))\n",
              "              (activation): SiLU(inplace=True)\n",
              "              (scale_activation): Sigmoid()\n",
              "            )\n",
              "            (3): Conv2dNormActivation(\n",
              "              (0): Conv2d(672, 192, kernel_size=(1, 1), stride=(1, 1), bias=False)\n",
              "              (1): BatchNorm2d(192, eps=1e-05, momentum=0.1, affine=True, track_running_stats=True)\n",
              "            )\n",
              "          )\n",
              "          (stochastic_depth): StochasticDepth(p=0.1375, mode=row)\n",
              "        )\n",
              "        (1): MBConv(\n",
              "          (block): Sequential(\n",
              "            (0): Conv2dNormActivation(\n",
              "              (0): Conv2d(192, 1152, kernel_size=(1, 1), stride=(1, 1), bias=False)\n",
              "              (1): BatchNorm2d(1152, eps=1e-05, momentum=0.1, affine=True, track_running_stats=True)\n",
              "              (2): SiLU(inplace=True)\n",
              "            )\n",
              "            (1): Conv2dNormActivation(\n",
              "              (0): Conv2d(1152, 1152, kernel_size=(5, 5), stride=(1, 1), padding=(2, 2), groups=1152, bias=False)\n",
              "              (1): BatchNorm2d(1152, eps=1e-05, momentum=0.1, affine=True, track_running_stats=True)\n",
              "              (2): SiLU(inplace=True)\n",
              "            )\n",
              "            (2): SqueezeExcitation(\n",
              "              (avgpool): AdaptiveAvgPool2d(output_size=1)\n",
              "              (fc1): Conv2d(1152, 48, kernel_size=(1, 1), stride=(1, 1))\n",
              "              (fc2): Conv2d(48, 1152, kernel_size=(1, 1), stride=(1, 1))\n",
              "              (activation): SiLU(inplace=True)\n",
              "              (scale_activation): Sigmoid()\n",
              "            )\n",
              "            (3): Conv2dNormActivation(\n",
              "              (0): Conv2d(1152, 192, kernel_size=(1, 1), stride=(1, 1), bias=False)\n",
              "              (1): BatchNorm2d(192, eps=1e-05, momentum=0.1, affine=True, track_running_stats=True)\n",
              "            )\n",
              "          )\n",
              "          (stochastic_depth): StochasticDepth(p=0.15000000000000002, mode=row)\n",
              "        )\n",
              "        (2): MBConv(\n",
              "          (block): Sequential(\n",
              "            (0): Conv2dNormActivation(\n",
              "              (0): Conv2d(192, 1152, kernel_size=(1, 1), stride=(1, 1), bias=False)\n",
              "              (1): BatchNorm2d(1152, eps=1e-05, momentum=0.1, affine=True, track_running_stats=True)\n",
              "              (2): SiLU(inplace=True)\n",
              "            )\n",
              "            (1): Conv2dNormActivation(\n",
              "              (0): Conv2d(1152, 1152, kernel_size=(5, 5), stride=(1, 1), padding=(2, 2), groups=1152, bias=False)\n",
              "              (1): BatchNorm2d(1152, eps=1e-05, momentum=0.1, affine=True, track_running_stats=True)\n",
              "              (2): SiLU(inplace=True)\n",
              "            )\n",
              "            (2): SqueezeExcitation(\n",
              "              (avgpool): AdaptiveAvgPool2d(output_size=1)\n",
              "              (fc1): Conv2d(1152, 48, kernel_size=(1, 1), stride=(1, 1))\n",
              "              (fc2): Conv2d(48, 1152, kernel_size=(1, 1), stride=(1, 1))\n",
              "              (activation): SiLU(inplace=True)\n",
              "              (scale_activation): Sigmoid()\n",
              "            )\n",
              "            (3): Conv2dNormActivation(\n",
              "              (0): Conv2d(1152, 192, kernel_size=(1, 1), stride=(1, 1), bias=False)\n",
              "              (1): BatchNorm2d(192, eps=1e-05, momentum=0.1, affine=True, track_running_stats=True)\n",
              "            )\n",
              "          )\n",
              "          (stochastic_depth): StochasticDepth(p=0.1625, mode=row)\n",
              "        )\n",
              "        (3): MBConv(\n",
              "          (block): Sequential(\n",
              "            (0): Conv2dNormActivation(\n",
              "              (0): Conv2d(192, 1152, kernel_size=(1, 1), stride=(1, 1), bias=False)\n",
              "              (1): BatchNorm2d(1152, eps=1e-05, momentum=0.1, affine=True, track_running_stats=True)\n",
              "              (2): SiLU(inplace=True)\n",
              "            )\n",
              "            (1): Conv2dNormActivation(\n",
              "              (0): Conv2d(1152, 1152, kernel_size=(5, 5), stride=(1, 1), padding=(2, 2), groups=1152, bias=False)\n",
              "              (1): BatchNorm2d(1152, eps=1e-05, momentum=0.1, affine=True, track_running_stats=True)\n",
              "              (2): SiLU(inplace=True)\n",
              "            )\n",
              "            (2): SqueezeExcitation(\n",
              "              (avgpool): AdaptiveAvgPool2d(output_size=1)\n",
              "              (fc1): Conv2d(1152, 48, kernel_size=(1, 1), stride=(1, 1))\n",
              "              (fc2): Conv2d(48, 1152, kernel_size=(1, 1), stride=(1, 1))\n",
              "              (activation): SiLU(inplace=True)\n",
              "              (scale_activation): Sigmoid()\n",
              "            )\n",
              "            (3): Conv2dNormActivation(\n",
              "              (0): Conv2d(1152, 192, kernel_size=(1, 1), stride=(1, 1), bias=False)\n",
              "              (1): BatchNorm2d(192, eps=1e-05, momentum=0.1, affine=True, track_running_stats=True)\n",
              "            )\n",
              "          )\n",
              "          (stochastic_depth): StochasticDepth(p=0.17500000000000002, mode=row)\n",
              "        )\n",
              "      )\n",
              "      (7): Sequential(\n",
              "        (0): MBConv(\n",
              "          (block): Sequential(\n",
              "            (0): Conv2dNormActivation(\n",
              "              (0): Conv2d(192, 1152, kernel_size=(1, 1), stride=(1, 1), bias=False)\n",
              "              (1): BatchNorm2d(1152, eps=1e-05, momentum=0.1, affine=True, track_running_stats=True)\n",
              "              (2): SiLU(inplace=True)\n",
              "            )\n",
              "            (1): Conv2dNormActivation(\n",
              "              (0): Conv2d(1152, 1152, kernel_size=(3, 3), stride=(1, 1), padding=(1, 1), groups=1152, bias=False)\n",
              "              (1): BatchNorm2d(1152, eps=1e-05, momentum=0.1, affine=True, track_running_stats=True)\n",
              "              (2): SiLU(inplace=True)\n",
              "            )\n",
              "            (2): SqueezeExcitation(\n",
              "              (avgpool): AdaptiveAvgPool2d(output_size=1)\n",
              "              (fc1): Conv2d(1152, 48, kernel_size=(1, 1), stride=(1, 1))\n",
              "              (fc2): Conv2d(48, 1152, kernel_size=(1, 1), stride=(1, 1))\n",
              "              (activation): SiLU(inplace=True)\n",
              "              (scale_activation): Sigmoid()\n",
              "            )\n",
              "            (3): Conv2dNormActivation(\n",
              "              (0): Conv2d(1152, 320, kernel_size=(1, 1), stride=(1, 1), bias=False)\n",
              "              (1): BatchNorm2d(320, eps=1e-05, momentum=0.1, affine=True, track_running_stats=True)\n",
              "            )\n",
              "          )\n",
              "          (stochastic_depth): StochasticDepth(p=0.1875, mode=row)\n",
              "        )\n",
              "      )\n",
              "      (8): Conv2dNormActivation(\n",
              "        (0): Conv2d(320, 1280, kernel_size=(1, 1), stride=(1, 1), bias=False)\n",
              "        (1): BatchNorm2d(1280, eps=1e-05, momentum=0.1, affine=True, track_running_stats=True)\n",
              "        (2): SiLU(inplace=True)\n",
              "      )\n",
              "    )\n",
              "    (avgpool): AdaptiveAvgPool2d(output_size=1)\n",
              "    (classifier): Linear(in_features=1280, out_features=2, bias=True)\n",
              "  )\n",
              ")"
            ]
          },
          "metadata": {},
          "execution_count": 13
        }
      ],
      "source": [
        "model = Pretrained_model(2)\n",
        "model.to(device)"
      ]
    },
    {
      "cell_type": "code",
      "execution_count": 14,
      "metadata": {
        "id": "B1_RtJZpMtQH"
      },
      "outputs": [],
      "source": [
        "learning_rate = 0.00001\n",
        "num_epoch = 20\n",
        "best_loss = 100\n",
        "total_train_loss = []\n",
        "total_val_loss = []\n",
        "total_train_ACC = []\n",
        "total_val_ACC = []"
      ]
    },
    {
      "cell_type": "code",
      "execution_count": 15,
      "metadata": {
        "id": "oKr-B1PUMtQH"
      },
      "outputs": [],
      "source": [
        "loss_func = nn.CrossEntropyLoss()\n",
        "# 본인의 학습 전략에 맞는 optimizer 및 learning rate scheduler 사용\n",
        "# https://pytorch.org/docs/stable/optim.html\n",
        "# optimizer = torch.optim.SGD(model.parameters(), lr=learning_rate)\n",
        "optimizer = torch.optim.Adam(model.parameters(), lr=learning_rate, weight_decay=1e-5)\n",
        "\n",
        "# StepLR 스케줄러 설정 (step_size는 학습률을 갱신할 주기, gamma는 감소 비율)\n",
        "scheduler = torch.optim.lr_scheduler.ReduceLROnPlateau(optimizer, mode='min', patience=3, factor=0.5)"
      ]
    },
    {
      "cell_type": "code",
      "source": [
        "print(len(train_loader))  # train_loader의 총 배치 수\n",
        "print(len(validation_loader))  # validation_loader의 총 배치 수"
      ],
      "metadata": {
        "colab": {
          "base_uri": "https://localhost:8080/"
        },
        "id": "UVb6GOtsNfGZ",
        "outputId": "d46a3083-b1b1-4cda-ef00-907157231d77"
      },
      "execution_count": 16,
      "outputs": [
        {
          "output_type": "stream",
          "name": "stdout",
          "text": [
            "80\n",
            "20\n"
          ]
        }
      ]
    },
    {
      "cell_type": "code",
      "source": [
        "# EfficientNet\n",
        "from tqdm import tqdm\n",
        "\n",
        "patience = 10  # 얼리 스탑 기준 (최대 10 에포크 동안 개선 없을 시 종료)\n",
        "early_stop_counter = 0  # 성능 개선이 없을 때 증가\n",
        "\n",
        "\n",
        "for i in range(num_epoch):\n",
        "    # Train\n",
        "    model.train()\n",
        "    train_losses = []\n",
        "    train_PROBS = []\n",
        "    train_TARGETS = []\n",
        "    start = time.time()\n",
        "\n",
        "    # tqdm 라이브러리를 사용하여 학습 진행상황을 눈으로 볼수 있도록 하였습니다.\n",
        "    train_loader_tqdm = tqdm(train_loader, desc=f\"Epoch {i} Train: \", total=len(train_loader))\n",
        "\n",
        "    for k, (image, label) in enumerate(train_loader_tqdm):\n",
        "        optimizer.zero_grad()\n",
        "        image, label = image.to(device), label.to(device)\n",
        "        logits = model(image)\n",
        "\n",
        "        loss = loss_func(logits, label)\n",
        "\n",
        "        probs = logits.softmax(1)\n",
        "\n",
        "        loss.backward()\n",
        "        optimizer.step()\n",
        "\n",
        "        train_PROBS.append(probs.detach().cpu())\n",
        "        train_TARGETS.append(label.detach().cpu())\n",
        "        train_losses.append(loss.cpu().detach().numpy())\n",
        "\n",
        "        # tqdm에 현재 loss를 표시\n",
        "        train_loader_tqdm.set_postfix(loss=loss.item())\n",
        "\n",
        "    train_PROBS = torch.cat(train_PROBS).numpy()\n",
        "    train_TARGETS = torch.cat(train_TARGETS).numpy()\n",
        "    train_ACC = (train_PROBS.argmax(1) == train_TARGETS).mean() * 100.\n",
        "\n",
        "    # Evaluation\n",
        "    model.eval()\n",
        "    val_losses = []\n",
        "    val_PROBS = []\n",
        "    val_TARGETS = []\n",
        "\n",
        "    # tqdm 라이브러리를 사용하여 검증 진행상황을 눈으로 볼수 있도록 하였습니다.\n",
        "    validation_loader_tqdm = tqdm(validation_loader, desc=f\"Epoch {i} Validation:\", total=len(validation_loader))\n",
        "\n",
        "    for k, (image, label) in enumerate(validation_loader_tqdm):\n",
        "        with torch.no_grad():\n",
        "            image, label = image.to(device), label.to(device)\n",
        "            logits = model(image)\n",
        "            loss = loss_func(logits, label)\n",
        "\n",
        "            probs = logits.softmax(1)\n",
        "\n",
        "            val_PROBS.append(probs.detach().cpu())\n",
        "            val_TARGETS.append(label.detach().cpu())\n",
        "            val_losses.append(loss.cpu().detach().numpy())\n",
        "\n",
        "            # tqdm에 현재 validation loss 표시\n",
        "            validation_loader_tqdm.set_postfix(loss=loss.item())\n",
        "\n",
        "    val_PROBS = torch.cat(val_PROBS).numpy()\n",
        "    val_TARGETS = torch.cat(val_TARGETS).numpy()\n",
        "    val_ACC = (val_PROBS.argmax(1) == val_TARGETS).mean() * 100.\n",
        "\n",
        "    tran_loss = np.array(train_losses).mean()\n",
        "    val_loss = np.array(val_losses).mean()\n",
        "\n",
        "    total_train_loss.append(tran_loss)\n",
        "    total_val_loss.append(val_loss)\n",
        "\n",
        "    total_train_ACC.append(train_ACC)\n",
        "    total_val_ACC.append(val_ACC)\n",
        "    end = time.time() - start\n",
        "    print(f\"Epoch: {str(i)}, Train loss: {tran_loss}, validation loss: {val_loss}, train ACC: {train_ACC}, val ACC: {val_ACC}, t: {end}s\")\n",
        "\n",
        "    # 러닝 스케줄러 업데이트\n",
        "    scheduler.step(val_loss)  # validation loss를 기준으로 학습률 조정\n",
        "\n",
        "    # 모델 저장\n",
        "    if val_loss < best_loss:\n",
        "        print(\"Save new param\")\n",
        "        torch.save(model, './param_' + str(i) + '.pt')\n",
        "        best_loss = val_loss\n",
        "        early_stop_counter = 0  # 성능 개선 시 초기화\n",
        "    else:\n",
        "        early_stop_counter += 1  # 개선되지 않을 때 증가\n",
        "\n",
        "    # 얼리 스탑 조건 확인\n",
        "    if early_stop_counter >= patience:\n",
        "        print(f\"Early stop {i}\")\n",
        "        break\n",
        "\n",
        "# Loss 그래프\n",
        "plt.figure(figsize=(10, 5))\n",
        "plt.plot(total_train_loss, label='Train Loss')\n",
        "plt.plot(total_val_loss, label='Validation Loss')\n",
        "plt.title('Training and Validation Loss')\n",
        "plt.xlabel('Epochs')\n",
        "plt.ylabel('Loss')\n",
        "plt.legend(loc='upper right')\n",
        "plt.grid(True)\n",
        "plt.show()\n",
        "\n",
        "# Accuracy 그래프\n",
        "plt.figure(figsize=(10, 5))\n",
        "plt.plot(total_train_ACC, label='Train Accuracy')\n",
        "plt.plot(total_val_ACC, label='Validation Accuracy')\n",
        "plt.title('Training and Validation Accuracy')\n",
        "plt.xlabel('Epochs')\n",
        "plt.ylabel('Accuracy (%)')\n",
        "plt.legend(loc='lower right')\n",
        "plt.grid(True)\n",
        "plt.show()\n"
      ],
      "metadata": {
        "colab": {
          "base_uri": "https://localhost:8080/",
          "height": 1000
        },
        "id": "0WIaXI3c5Blm",
        "outputId": "a7892bbf-ca52-4bdd-a5f1-b32ecf4cb074"
      },
      "execution_count": null,
      "outputs": [
        {
          "metadata": {
            "tags": null
          },
          "name": "stderr",
          "output_type": "stream",
          "text": [
            "Epoch 0 Train: 100%|██████████| 32/32 [00:21<00:00,  1.50it/s, loss=0.524]\n",
            "Epoch 0 Validation:: 100%|██████████| 8/8 [00:05<00:00,  1.46it/s, loss=0.539]\n"
          ]
        },
        {
          "metadata": {
            "tags": null
          },
          "name": "stdout",
          "output_type": "stream",
          "text": [
            "Epoch: 0, Train loss: 0.5777049660682678, validation loss: 0.5181642770767212, train ACC: 76.625, val ACC: 82.89999999999999, t: 26.886485815048218s\n",
            "Save new param\n"
          ]
        },
        {
          "metadata": {
            "tags": null
          },
          "name": "stderr",
          "output_type": "stream",
          "text": [
            "Epoch 1 Train: 100%|██████████| 32/32 [00:21<00:00,  1.49it/s, loss=0.475]\n",
            "Epoch 1 Validation:: 100%|██████████| 8/8 [00:05<00:00,  1.45it/s, loss=0.466]\n"
          ]
        },
        {
          "metadata": {
            "tags": null
          },
          "name": "stdout",
          "output_type": "stream",
          "text": [
            "Epoch: 1, Train loss: 0.5040042400360107, validation loss: 0.44191646575927734, train ACC: 83.42500000000001, val ACC: 87.4, t: 26.945616960525513s\n",
            "Save new param\n"
          ]
        },
        {
          "metadata": {
            "tags": null
          },
          "name": "stderr",
          "output_type": "stream",
          "text": [
            "Epoch 2 Train: 100%|██████████| 32/32 [00:21<00:00,  1.50it/s, loss=0.409]\n",
            "Epoch 2 Validation:: 100%|██████████| 8/8 [00:05<00:00,  1.41it/s, loss=0.386]\n"
          ]
        },
        {
          "metadata": {
            "tags": null
          },
          "name": "stdout",
          "output_type": "stream",
          "text": [
            "Epoch: 2, Train loss: 0.43427640199661255, validation loss: 0.36357325315475464, train ACC: 85.75, val ACC: 89.9, t: 26.996126174926758s\n",
            "Save new param\n"
          ]
        },
        {
          "metadata": {
            "tags": null
          },
          "name": "stderr",
          "output_type": "stream",
          "text": [
            "Epoch 3 Train: 100%|██████████| 32/32 [00:20<00:00,  1.53it/s, loss=0.393]\n",
            "Epoch 3 Validation:: 100%|██████████| 8/8 [00:05<00:00,  1.43it/s, loss=0.317]\n"
          ]
        },
        {
          "metadata": {
            "tags": null
          },
          "name": "stdout",
          "output_type": "stream",
          "text": [
            "Epoch: 3, Train loss: 0.3684154748916626, validation loss: 0.3066905736923218, train ACC: 88.47500000000001, val ACC: 90.7, t: 26.572063446044922s\n",
            "Save new param\n"
          ]
        },
        {
          "metadata": {
            "tags": null
          },
          "name": "stderr",
          "output_type": "stream",
          "text": [
            "Epoch 4 Train: 100%|██████████| 32/32 [00:21<00:00,  1.48it/s, loss=0.288]\n",
            "Epoch 4 Validation:: 100%|██████████| 8/8 [00:05<00:00,  1.44it/s, loss=0.283]\n"
          ]
        },
        {
          "metadata": {
            "tags": null
          },
          "name": "stdout",
          "output_type": "stream",
          "text": [
            "Epoch: 4, Train loss: 0.3124541938304901, validation loss: 0.2675105929374695, train ACC: 90.45, val ACC: 92.0, t: 27.255107879638672s\n",
            "Save new param\n"
          ]
        },
        {
          "metadata": {
            "tags": null
          },
          "name": "stderr",
          "output_type": "stream",
          "text": [
            "Epoch 5 Train: 100%|██████████| 32/32 [00:21<00:00,  1.50it/s, loss=0.335]\n",
            "Epoch 5 Validation:: 100%|██████████| 8/8 [00:05<00:00,  1.48it/s, loss=0.264]\n"
          ]
        },
        {
          "metadata": {
            "tags": null
          },
          "name": "stdout",
          "output_type": "stream",
          "text": [
            "Epoch: 5, Train loss: 0.2743866741657257, validation loss: 0.23669090867042542, train ACC: 91.0, val ACC: 91.7, t: 26.715484619140625s\n",
            "Save new param\n"
          ]
        },
        {
          "metadata": {
            "tags": null
          },
          "name": "stderr",
          "output_type": "stream",
          "text": [
            "Epoch 6 Train: 100%|██████████| 32/32 [00:21<00:00,  1.48it/s, loss=0.167]\n",
            "Epoch 6 Validation:: 100%|██████████| 8/8 [00:05<00:00,  1.50it/s, loss=0.237]\n"
          ]
        },
        {
          "metadata": {
            "tags": null
          },
          "name": "stdout",
          "output_type": "stream",
          "text": [
            "Epoch: 6, Train loss: 0.24109190702438354, validation loss: 0.21250677108764648, train ACC: 92.45, val ACC: 92.5, t: 26.941457271575928s\n",
            "Save new param\n"
          ]
        },
        {
          "metadata": {
            "tags": null
          },
          "name": "stderr",
          "output_type": "stream",
          "text": [
            "Epoch 7 Train: 100%|██████████| 32/32 [00:21<00:00,  1.50it/s, loss=0.204]\n",
            "Epoch 7 Validation:: 100%|██████████| 8/8 [00:05<00:00,  1.51it/s, loss=0.233]\n"
          ]
        },
        {
          "metadata": {
            "tags": null
          },
          "name": "stdout",
          "output_type": "stream",
          "text": [
            "Epoch: 7, Train loss: 0.22105687856674194, validation loss: 0.20390677452087402, train ACC: 92.75, val ACC: 92.30000000000001, t: 26.709038257598877s\n",
            "Save new param\n"
          ]
        },
        {
          "metadata": {
            "tags": null
          },
          "name": "stderr",
          "output_type": "stream",
          "text": [
            "Epoch 8 Train: 100%|██████████| 32/32 [00:21<00:00,  1.51it/s, loss=0.188]\n",
            "Epoch 8 Validation:: 100%|██████████| 8/8 [00:05<00:00,  1.49it/s, loss=0.217]\n"
          ]
        },
        {
          "metadata": {
            "tags": null
          },
          "name": "stdout",
          "output_type": "stream",
          "text": [
            "Epoch: 8, Train loss: 0.2069670706987381, validation loss: 0.18645338714122772, train ACC: 92.75, val ACC: 92.9, t: 26.640464067459106s\n",
            "Save new param\n"
          ]
        },
        {
          "metadata": {
            "tags": null
          },
          "name": "stderr",
          "output_type": "stream",
          "text": [
            "Epoch 9 Train: 100%|██████████| 32/32 [00:21<00:00,  1.48it/s, loss=0.33]\n",
            "Epoch 9 Validation:: 100%|██████████| 8/8 [00:05<00:00,  1.49it/s, loss=0.183]\n"
          ]
        },
        {
          "metadata": {
            "tags": null
          },
          "name": "stdout",
          "output_type": "stream",
          "text": [
            "Epoch: 9, Train loss: 0.19100941717624664, validation loss: 0.17503632605075836, train ACC: 93.72500000000001, val ACC: 93.7, t: 26.959591388702393s\n",
            "Save new param\n"
          ]
        },
        {
          "metadata": {
            "tags": null
          },
          "name": "stderr",
          "output_type": "stream",
          "text": [
            "Epoch 10 Train: 100%|██████████| 32/32 [00:21<00:00,  1.49it/s, loss=0.156]\n",
            "Epoch 10 Validation:: 100%|██████████| 8/8 [00:05<00:00,  1.48it/s, loss=0.201]\n"
          ]
        },
        {
          "metadata": {
            "tags": null
          },
          "name": "stdout",
          "output_type": "stream",
          "text": [
            "Epoch: 10, Train loss: 0.17290771007537842, validation loss: 0.17038781940937042, train ACC: 94.1, val ACC: 93.7, t: 26.87026572227478s\n",
            "Save new param\n"
          ]
        },
        {
          "metadata": {
            "tags": null
          },
          "name": "stderr",
          "output_type": "stream",
          "text": [
            "Epoch 11 Train: 100%|██████████| 32/32 [00:21<00:00,  1.50it/s, loss=0.241]\n",
            "Epoch 11 Validation:: 100%|██████████| 8/8 [00:05<00:00,  1.45it/s, loss=0.201]\n"
          ]
        },
        {
          "metadata": {
            "tags": null
          },
          "name": "stdout",
          "output_type": "stream",
          "text": [
            "Epoch: 11, Train loss: 0.16920551657676697, validation loss: 0.16050386428833008, train ACC: 94.375, val ACC: 93.89999999999999, t: 26.846664905548096s\n",
            "Save new param\n"
          ]
        },
        {
          "metadata": {
            "tags": null
          },
          "name": "stderr",
          "output_type": "stream",
          "text": [
            "Epoch 12 Train: 100%|██████████| 32/32 [00:21<00:00,  1.51it/s, loss=0.243]\n",
            "Epoch 12 Validation:: 100%|██████████| 8/8 [00:05<00:00,  1.46it/s, loss=0.162]\n"
          ]
        },
        {
          "metadata": {
            "tags": null
          },
          "name": "stdout",
          "output_type": "stream",
          "text": [
            "Epoch: 12, Train loss: 0.16121599078178406, validation loss: 0.14811524748802185, train ACC: 94.19999999999999, val ACC: 94.39999999999999, t: 26.6779625415802s\n",
            "Save new param\n"
          ]
        },
        {
          "metadata": {
            "tags": null
          },
          "name": "stderr",
          "output_type": "stream",
          "text": [
            "Epoch 13 Train: 100%|██████████| 32/32 [00:21<00:00,  1.51it/s, loss=0.287]\n",
            "Epoch 13 Validation:: 100%|██████████| 8/8 [00:05<00:00,  1.47it/s, loss=0.162]\n"
          ]
        },
        {
          "metadata": {
            "tags": null
          },
          "name": "stdout",
          "output_type": "stream",
          "text": [
            "Epoch: 13, Train loss: 0.151152104139328, validation loss: 0.15095627307891846, train ACC: 95.025, val ACC: 94.69999999999999, t: 26.7254159450531s\n"
          ]
        },
        {
          "metadata": {
            "tags": null
          },
          "name": "stderr",
          "output_type": "stream",
          "text": [
            "Epoch 14 Train: 100%|██████████| 32/32 [00:21<00:00,  1.52it/s, loss=0.105]\n",
            "Epoch 14 Validation:: 100%|██████████| 8/8 [00:05<00:00,  1.47it/s, loss=0.174]\n"
          ]
        },
        {
          "metadata": {
            "tags": null
          },
          "name": "stdout",
          "output_type": "stream",
          "text": [
            "Epoch: 14, Train loss: 0.13919149339199066, validation loss: 0.14408519864082336, train ACC: 94.89999999999999, val ACC: 94.6, t: 26.58931040763855s\n",
            "Save new param\n"
          ]
        },
        {
          "metadata": {
            "tags": null
          },
          "name": "stderr",
          "output_type": "stream",
          "text": [
            "Epoch 15 Train: 100%|██████████| 32/32 [00:21<00:00,  1.51it/s, loss=0.0571]\n",
            "Epoch 15 Validation:: 100%|██████████| 8/8 [00:05<00:00,  1.46it/s, loss=0.124]\n"
          ]
        },
        {
          "metadata": {
            "tags": null
          },
          "name": "stdout",
          "output_type": "stream",
          "text": [
            "Epoch: 15, Train loss: 0.13298359513282776, validation loss: 0.13087740540504456, train ACC: 94.975, val ACC: 94.69999999999999, t: 26.647361993789673s\n",
            "Save new param\n"
          ]
        },
        {
          "metadata": {
            "tags": null
          },
          "name": "stderr",
          "output_type": "stream",
          "text": [
            "Epoch 16 Train: 100%|██████████| 32/32 [00:20<00:00,  1.53it/s, loss=0.054]\n",
            "Epoch 16 Validation:: 100%|██████████| 8/8 [00:05<00:00,  1.48it/s, loss=0.125]\n"
          ]
        },
        {
          "metadata": {
            "tags": null
          },
          "name": "stdout",
          "output_type": "stream",
          "text": [
            "Epoch: 16, Train loss: 0.1283506453037262, validation loss: 0.13404661417007446, train ACC: 95.39999999999999, val ACC: 95.3, t: 26.418304443359375s\n"
          ]
        },
        {
          "output_type": "stream",
          "name": "stderr",
          "text": [
            "Epoch 17 Train: 100%|██████████| 32/32 [00:21<00:00,  1.52it/s, loss=0.0682]\n",
            "Epoch 17 Validation:: 100%|██████████| 8/8 [00:05<00:00,  1.51it/s, loss=0.116]\n"
          ]
        },
        {
          "output_type": "stream",
          "name": "stdout",
          "text": [
            "Epoch: 17, Train loss: 0.11883929371833801, validation loss: 0.12137879431247711, train ACC: 95.65, val ACC: 95.19999999999999, t: 26.43353581428528s\n",
            "Save new param\n"
          ]
        },
        {
          "output_type": "stream",
          "name": "stderr",
          "text": [
            "Epoch 18 Train: 100%|██████████| 32/32 [00:21<00:00,  1.48it/s, loss=0.175]\n",
            "Epoch 18 Validation:: 100%|██████████| 8/8 [00:05<00:00,  1.51it/s, loss=0.121]\n"
          ]
        },
        {
          "output_type": "stream",
          "name": "stdout",
          "text": [
            "Epoch: 18, Train loss: 0.11419953405857086, validation loss: 0.11899413913488388, train ACC: 96.075, val ACC: 95.7, t: 26.892781019210815s\n",
            "Save new param\n"
          ]
        },
        {
          "output_type": "stream",
          "name": "stderr",
          "text": [
            "Epoch 19 Train: 100%|██████████| 32/32 [00:21<00:00,  1.51it/s, loss=0.326]\n",
            "Epoch 19 Validation:: 100%|██████████| 8/8 [00:05<00:00,  1.46it/s, loss=0.128]\n"
          ]
        },
        {
          "output_type": "stream",
          "name": "stdout",
          "text": [
            "Epoch: 19, Train loss: 0.11143167316913605, validation loss: 0.12552204728126526, train ACC: 96.275, val ACC: 94.69999999999999, t: 26.71103000640869s\n"
          ]
        },
        {
          "output_type": "display_data",
          "data": {
            "text/plain": [
              "<Figure size 1000x500 with 1 Axes>"
            ],
            "image/png": "[encoded data removed]"
          },
          "metadata": {}
        },
        {
          "output_type": "display_data",
          "data": {
            "text/plain": [
              "<Figure size 1000x500 with 1 Axes>"
            ],
            "image/png": "[encoded data removed]"
          },
          "metadata": {}
        }
      ]
    },
    {
      "cell_type": "code",
      "execution_count": null,
      "metadata": {
        "colab": {
          "base_uri": "https://localhost:8080/"
        },
        "id": "wvruPsahMtQH",
        "outputId": "3cf219de-f724-4d9b-ceb2-4b3c8dd1cbcc"
      },
      "outputs": [
        {
          "output_type": "stream",
          "name": "stderr",
          "text": [
            "Epoch 0 Train: 100%|██████████| 32/32 [07:50<00:00, 14.70s/it]\n",
            "Epoch 0 Validation:: 100%|██████████| 8/8 [01:59<00:00, 14.95s/it]\n"
          ]
        },
        {
          "output_type": "stream",
          "name": "stdout",
          "text": [
            "Epoch: 0, Train loss: 0.5572545528411865, validation loss: 0.3458610773086548, train ACC: 70.525, val ACC: 86.4, t: 590.1596274375916s\n",
            "Save new param\n"
          ]
        },
        {
          "output_type": "stream",
          "name": "stderr",
          "text": [
            "Epoch 1 Train: 100%|██████████| 32/32 [00:22<00:00,  1.41it/s]\n",
            "Epoch 1 Validation:: 100%|██████████| 8/8 [00:05<00:00,  1.42it/s]\n"
          ]
        },
        {
          "output_type": "stream",
          "name": "stdout",
          "text": [
            "Epoch: 1, Train loss: 0.28952932357788086, validation loss: 0.2066737413406372, train ACC: 88.275, val ACC: 92.5, t: 28.38935947418213s\n",
            "Save new param\n"
          ]
        },
        {
          "output_type": "stream",
          "name": "stderr",
          "text": [
            "Epoch 2 Train: 100%|██████████| 32/32 [00:23<00:00,  1.38it/s]\n",
            "Epoch 2 Validation:: 100%|██████████| 8/8 [00:05<00:00,  1.34it/s]\n"
          ]
        },
        {
          "output_type": "stream",
          "name": "stdout",
          "text": [
            "Epoch: 2, Train loss: 0.19806532561779022, validation loss: 0.1579206883907318, train ACC: 92.325, val ACC: 94.0, t: 29.106329679489136s\n",
            "Save new param\n"
          ]
        },
        {
          "output_type": "stream",
          "name": "stderr",
          "text": [
            "Epoch 3 Train: 100%|██████████| 32/32 [00:23<00:00,  1.37it/s]\n",
            "Epoch 3 Validation:: 100%|██████████| 8/8 [00:05<00:00,  1.46it/s]\n"
          ]
        },
        {
          "output_type": "stream",
          "name": "stdout",
          "text": [
            "Epoch: 3, Train loss: 0.16115067899227142, validation loss: 0.14474686980247498, train ACC: 93.8, val ACC: 94.69999999999999, t: 28.86089539527893s\n",
            "Save new param\n"
          ]
        },
        {
          "output_type": "stream",
          "name": "stderr",
          "text": [
            "Epoch 4 Train: 100%|██████████| 32/32 [00:23<00:00,  1.38it/s]\n",
            "Epoch 4 Validation:: 100%|██████████| 8/8 [00:05<00:00,  1.41it/s]\n"
          ]
        },
        {
          "output_type": "stream",
          "name": "stdout",
          "text": [
            "Epoch: 4, Train loss: 0.13438037037849426, validation loss: 0.12587900459766388, train ACC: 94.69999999999999, val ACC: 95.0, t: 28.970712661743164s\n",
            "Save new param\n"
          ]
        },
        {
          "output_type": "stream",
          "name": "stderr",
          "text": [
            "Epoch 5 Train: 100%|██████████| 32/32 [00:22<00:00,  1.41it/s]\n",
            "Epoch 5 Validation:: 100%|██████████| 8/8 [00:05<00:00,  1.44it/s]\n"
          ]
        },
        {
          "output_type": "stream",
          "name": "stdout",
          "text": [
            "Epoch: 5, Train loss: 0.11734674870967865, validation loss: 0.09859028458595276, train ACC: 95.72500000000001, val ACC: 96.5, t: 28.226412057876587s\n",
            "Save new param\n"
          ]
        },
        {
          "output_type": "stream",
          "name": "stderr",
          "text": [
            "Epoch 6 Train: 100%|██████████| 32/32 [00:22<00:00,  1.40it/s]\n",
            "Epoch 6 Validation:: 100%|██████████| 8/8 [00:05<00:00,  1.37it/s]\n"
          ]
        },
        {
          "output_type": "stream",
          "name": "stdout",
          "text": [
            "Epoch: 6, Train loss: 0.10208046436309814, validation loss: 0.10029646009206772, train ACC: 96.575, val ACC: 95.6, t: 28.677624464035034s\n"
          ]
        },
        {
          "output_type": "stream",
          "name": "stderr",
          "text": [
            "Epoch 7 Train: 100%|██████████| 32/32 [00:21<00:00,  1.48it/s]\n",
            "Epoch 7 Validation:: 100%|██████████| 8/8 [00:05<00:00,  1.44it/s]\n"
          ]
        },
        {
          "output_type": "stream",
          "name": "stdout",
          "text": [
            "Epoch: 7, Train loss: 0.08792191743850708, validation loss: 0.10522548854351044, train ACC: 96.85000000000001, val ACC: 96.0, t: 27.184480905532837s\n"
          ]
        },
        {
          "output_type": "stream",
          "name": "stderr",
          "text": [
            "Epoch 8 Train: 100%|██████████| 32/32 [00:21<00:00,  1.49it/s]\n",
            "Epoch 8 Validation:: 100%|██████████| 8/8 [00:05<00:00,  1.49it/s]\n"
          ]
        },
        {
          "output_type": "stream",
          "name": "stdout",
          "text": [
            "Epoch: 8, Train loss: 0.07458847761154175, validation loss: 0.08171052485704422, train ACC: 97.39999999999999, val ACC: 96.5, t: 26.81483769416809s\n",
            "Save new param\n"
          ]
        },
        {
          "output_type": "stream",
          "name": "stderr",
          "text": [
            "Epoch 9 Train: 100%|██████████| 32/32 [00:22<00:00,  1.42it/s]\n",
            "Epoch 9 Validation:: 100%|██████████| 8/8 [00:05<00:00,  1.41it/s]\n"
          ]
        },
        {
          "output_type": "stream",
          "name": "stdout",
          "text": [
            "Epoch: 9, Train loss: 0.06609702110290527, validation loss: 0.09022544324398041, train ACC: 97.775, val ACC: 96.39999999999999, t: 28.177725315093994s\n"
          ]
        },
        {
          "output_type": "stream",
          "name": "stderr",
          "text": [
            "Epoch 10 Train: 100%|██████████| 32/32 [00:21<00:00,  1.51it/s]\n",
            "Epoch 10 Validation:: 100%|██████████| 8/8 [00:05<00:00,  1.47it/s]\n"
          ]
        },
        {
          "output_type": "stream",
          "name": "stdout",
          "text": [
            "Epoch: 10, Train loss: 0.06931354105472565, validation loss: 0.08104745298624039, train ACC: 97.575, val ACC: 96.7, t: 26.724862337112427s\n",
            "Save new param\n"
          ]
        },
        {
          "output_type": "stream",
          "name": "stderr",
          "text": [
            "Epoch 11 Train: 100%|██████████| 32/32 [00:22<00:00,  1.41it/s]\n",
            "Epoch 11 Validation:: 100%|██████████| 8/8 [00:05<00:00,  1.42it/s]\n"
          ]
        },
        {
          "output_type": "stream",
          "name": "stdout",
          "text": [
            "Epoch: 11, Train loss: 0.04750750958919525, validation loss: 0.07408162951469421, train ACC: 98.475, val ACC: 97.39999999999999, t: 28.26263403892517s\n",
            "Save new param\n"
          ]
        },
        {
          "output_type": "stream",
          "name": "stderr",
          "text": [
            "Epoch 12 Train: 100%|██████████| 32/32 [00:23<00:00,  1.38it/s]\n",
            "Epoch 12 Validation:: 100%|██████████| 8/8 [00:05<00:00,  1.41it/s]\n"
          ]
        },
        {
          "output_type": "stream",
          "name": "stdout",
          "text": [
            "Epoch: 12, Train loss: 0.05108872428536415, validation loss: 0.09690915048122406, train ACC: 98.2, val ACC: 96.7, t: 28.911569118499756s\n"
          ]
        },
        {
          "output_type": "stream",
          "name": "stderr",
          "text": [
            "Epoch 13 Train: 100%|██████████| 32/32 [00:21<00:00,  1.50it/s]\n",
            "Epoch 13 Validation:: 100%|██████████| 8/8 [00:05<00:00,  1.45it/s]\n"
          ]
        },
        {
          "output_type": "stream",
          "name": "stdout",
          "text": [
            "Epoch: 13, Train loss: 0.03544851765036583, validation loss: 0.07412341237068176, train ACC: 98.8, val ACC: 96.89999999999999, t: 26.881272077560425s\n"
          ]
        },
        {
          "output_type": "stream",
          "name": "stderr",
          "text": [
            "Epoch 14 Train: 100%|██████████| 32/32 [00:21<00:00,  1.49it/s]\n",
            "Epoch 14 Validation:: 100%|██████████| 8/8 [00:05<00:00,  1.44it/s]\n"
          ]
        },
        {
          "output_type": "stream",
          "name": "stdout",
          "text": [
            "Epoch: 14, Train loss: 0.0389273539185524, validation loss: 0.06372541189193726, train ACC: 98.5, val ACC: 97.8, t: 27.010140895843506s\n",
            "Save new param\n"
          ]
        },
        {
          "output_type": "stream",
          "name": "stderr",
          "text": [
            "Epoch 15 Train: 100%|██████████| 32/32 [00:22<00:00,  1.42it/s]\n",
            "Epoch 15 Validation:: 100%|██████████| 8/8 [00:05<00:00,  1.44it/s]\n"
          ]
        },
        {
          "output_type": "stream",
          "name": "stdout",
          "text": [
            "Epoch: 15, Train loss: 0.02826019562780857, validation loss: 0.07253815978765488, train ACC: 99.0, val ACC: 97.2, t: 28.10502052307129s\n"
          ]
        },
        {
          "output_type": "stream",
          "name": "stderr",
          "text": [
            "Epoch 16 Train: 100%|██████████| 32/32 [00:21<00:00,  1.51it/s]\n",
            "Epoch 16 Validation:: 100%|██████████| 8/8 [00:05<00:00,  1.48it/s]\n"
          ]
        },
        {
          "output_type": "stream",
          "name": "stdout",
          "text": [
            "Epoch: 16, Train loss: 0.03216930478811264, validation loss: 0.07815027236938477, train ACC: 98.775, val ACC: 97.1, t: 26.710710287094116s\n"
          ]
        },
        {
          "output_type": "stream",
          "name": "stderr",
          "text": [
            "Epoch 17 Train: 100%|██████████| 32/32 [00:21<00:00,  1.48it/s]\n",
            "Epoch 17 Validation:: 100%|██████████| 8/8 [00:05<00:00,  1.48it/s]\n"
          ]
        },
        {
          "output_type": "stream",
          "name": "stdout",
          "text": [
            "Epoch: 17, Train loss: 0.032179538160562515, validation loss: 0.0736306756734848, train ACC: 98.9, val ACC: 97.89999999999999, t: 26.980978965759277s\n"
          ]
        },
        {
          "output_type": "stream",
          "name": "stderr",
          "text": [
            "Epoch 18 Train: 100%|██████████| 32/32 [00:22<00:00,  1.45it/s]\n",
            "Epoch 18 Validation:: 100%|██████████| 8/8 [00:05<00:00,  1.43it/s]\n"
          ]
        },
        {
          "output_type": "stream",
          "name": "stdout",
          "text": [
            "Epoch: 18, Train loss: 0.03165171295404434, validation loss: 0.07048986107110977, train ACC: 98.75, val ACC: 97.6, t: 27.64814567565918s\n"
          ]
        },
        {
          "output_type": "stream",
          "name": "stderr",
          "text": [
            "Epoch 19 Train: 100%|██████████| 32/32 [00:21<00:00,  1.47it/s]\n",
            "Epoch 19 Validation:: 100%|██████████| 8/8 [00:05<00:00,  1.50it/s]"
          ]
        },
        {
          "output_type": "stream",
          "name": "stdout",
          "text": [
            "Epoch: 19, Train loss: 0.020603327080607414, validation loss: 0.07686734199523926, train ACC: 99.125, val ACC: 97.39999999999999, t: 27.170536041259766s\n"
          ]
        },
        {
          "output_type": "stream",
          "name": "stderr",
          "text": [
            "\n"
          ]
        }
      ],
      "source": [
        "# VGG\n",
        "from tqdm import tqdm\n",
        "\n",
        "patience = 10  # 얼리 스탑 기준 (최대 10 에포크 동안 개선 없을 시 종료)\n",
        "early_stop_counter = 0  # 성능 개선이 없을 때 증가\n",
        "\n",
        "\n",
        "for i in range(num_epoch):\n",
        "    # Train\n",
        "    model.train()\n",
        "    train_losses = []\n",
        "    train_PROBS = []\n",
        "    train_TARGETS = []\n",
        "    start = time.time()\n",
        "\n",
        "    # tqdm 라이브러리를 사용하여 학습 진행상황을 눈으로 볼수 있도록 하였습니다.\n",
        "    train_loader_tqdm = tqdm(train_loader, desc=f\"Epoch {i} Train: \", total=len(train_loader))\n",
        "\n",
        "    for k, (image, label) in enumerate(train_loader_tqdm):\n",
        "        optimizer.zero_grad()\n",
        "        image, label = image.to(device), label.to(device)\n",
        "        logits = model(image)\n",
        "\n",
        "        loss = loss_func(logits, label)\n",
        "\n",
        "        probs = logits.softmax(1)\n",
        "\n",
        "        loss.backward()\n",
        "        optimizer.step()\n",
        "\n",
        "        train_PROBS.append(probs.detach().cpu())\n",
        "        train_TARGETS.append(label.detach().cpu())\n",
        "        train_losses.append(loss.cpu().detach().numpy())\n",
        "\n",
        "        # tqdm에 현재 loss를 표시\n",
        "        train_loader_tqdm.set_postfix(loss=loss.item())\n",
        "\n",
        "    train_PROBS = torch.cat(train_PROBS).numpy()\n",
        "    train_TARGETS = torch.cat(train_TARGETS).numpy()\n",
        "    train_ACC = (train_PROBS.argmax(1) == train_TARGETS).mean() * 100.\n",
        "\n",
        "    # Evaluation\n",
        "    model.eval()\n",
        "    val_losses = []\n",
        "    val_PROBS = []\n",
        "    val_TARGETS = []\n",
        "\n",
        "    # tqdm 라이브러리를 사용하여 검증 진행상황을 눈으로 볼수 있도록 하였습니다.\n",
        "    validation_loader_tqdm = tqdm(validation_loader, desc=f\"Epoch {i} Validation:\", total=len(validation_loader))\n",
        "\n",
        "    for k, (image, label) in enumerate(validation_loader_tqdm):\n",
        "        with torch.no_grad():\n",
        "            image, label = image.to(device), label.to(device)\n",
        "            logits = model(image)\n",
        "            loss = loss_func(logits, label)\n",
        "\n",
        "            probs = logits.softmax(1)\n",
        "\n",
        "            val_PROBS.append(probs.detach().cpu())\n",
        "            val_TARGETS.append(label.detach().cpu())\n",
        "            val_losses.append(loss.cpu().detach().numpy())\n",
        "\n",
        "            # tqdm에 현재 validation loss 표시\n",
        "            validation_loader_tqdm.set_postfix(loss=loss.item())\n",
        "\n",
        "    val_PROBS = torch.cat(val_PROBS).numpy()\n",
        "    val_TARGETS = torch.cat(val_TARGETS).numpy()\n",
        "    val_ACC = (val_PROBS.argmax(1) == val_TARGETS).mean() * 100.\n",
        "\n",
        "    tran_loss = np.array(train_losses).mean()\n",
        "    val_loss = np.array(val_losses).mean()\n",
        "\n",
        "    total_train_loss.append(tran_loss)\n",
        "    total_val_loss.append(val_loss)\n",
        "\n",
        "    total_train_ACC.append(train_ACC)\n",
        "    total_val_ACC.append(val_ACC)\n",
        "    end = time.time() - start\n",
        "    print(f\"Epoch: {str(i)}, Train loss: {tran_loss}, validation loss: {val_loss}, train ACC: {train_ACC}, val ACC: {val_ACC}, t: {end}s\")\n",
        "\n",
        "    # 러닝 스케줄러 업데이트\n",
        "    scheduler.step(val_loss)  # validation loss를 기준으로 학습률 조정\n",
        "\n",
        "    # 모델 저장\n",
        "    if val_loss < best_loss:\n",
        "        print(\"Save new param\")\n",
        "        torch.save(model, './param_' + str(i) + '.pt')\n",
        "        best_loss = val_loss\n",
        "        early_stop_counter = 0  # 성능 개선 시 초기화\n",
        "    else:\n",
        "        early_stop_counter += 1  # 개선되지 않을 때 증가\n",
        "\n",
        "    # 얼리 스탑 조건 확인\n",
        "    if early_stop_counter >= patience:\n",
        "        print(f\"Early stop {i}\")\n",
        "        break"
      ]
    },
    {
      "cell_type": "code",
      "execution_count": null,
      "metadata": {
        "colab": {
          "base_uri": "https://localhost:8080/",
          "height": 487
        },
        "id": "c-DVn2eFMtQI",
        "outputId": "def6aed5-0400-42be-d3f8-ed2931170ec7"
      },
      "outputs": [
        {
          "output_type": "display_data",
          "data": {
            "text/plain": [
              "<Figure size 1000x500 with 1 Axes>"
            ],
            "image/png": "[encoded data removed]"
          },
          "metadata": {}
        }
      ],
      "source": [
        "plt.figure(figsize=(10, 5))\n",
        "plt.plot(total_train_loss, label='Train Loss')\n",
        "plt.plot(total_val_loss, label='Validation Loss')\n",
        "plt.title('Training and Validation Loss')\n",
        "plt.xlabel('Epochs')\n",
        "plt.ylabel('Loss')\n",
        "plt.legend(loc='upper right')\n",
        "plt.grid(True)\n",
        "plt.show()"
      ]
    },
    {
      "cell_type": "code",
      "execution_count": null,
      "metadata": {
        "colab": {
          "base_uri": "https://localhost:8080/",
          "height": 487
        },
        "id": "NoZISy2kMtQI",
        "outputId": "36326560-1633-45ec-9484-4e8b39d9bd4d"
      },
      "outputs": [
        {
          "output_type": "display_data",
          "data": {
            "text/plain": [
              "<Figure size 1000x500 with 1 Axes>"
            ],
            "image/png": "[encoded data removed]"
          },
          "metadata": {}
        }
      ],
      "source": [
        "plt.figure(figsize=(10, 5))\n",
        "plt.plot(total_train_ACC, label='Train Accuracy')\n",
        "plt.plot(total_val_ACC, label='Validation Accuracy')\n",
        "plt.title('Training and Validation Accuracy')\n",
        "plt.xlabel('Epochs')\n",
        "plt.ylabel('Accuracy (%)')\n",
        "plt.legend(loc='lower right')\n",
        "plt.grid(True)\n",
        "plt.show()"
      ]
    },
    {
      "cell_type": "code",
      "source": [
        "from tqdm import tqdm\n",
        "\n",
        "patience = 10  # 얼리 스탑 기준 (최대 10 에포크 동안 개선 없을 시 종료)\n",
        "early_stop_counter = 0  # 성능 개선이 없을 때 증가\n",
        "epsilon = 0.01  # FGSM에서 최대 노이즈 perturbation 크기\n",
        "\n",
        "# FGSM 어택\n",
        "def FGSM_fun(model, input_data, target_label, epsilon):\n",
        "    input_data.requires_grad = True # 그래디언트 계산\n",
        "    output = model(input_data)  # 모델로 입력 데이터 예측\n",
        "    loss = torch.nn.CrossEntropyLoss()(output, target_label)    # 예측값과 레이블을 비교하여 손실을 계산\n",
        "    model.zero_grad()\n",
        "    loss.backward()\n",
        "\n",
        "    # FGSM으로 적대적 데이터 생성\n",
        "    adversarial_data = input_data + epsilon * input_data.grad.sign()    # 개산된 그래디언트의 sign을 사용해서 입력데이터에 epsilon 크기의 노이즈 추가\n",
        "    adversarial_data = torch.clamp(adversarial_data, 0, 1)  # 0 1 데이터 값 범위 유지\n",
        "    return adversarial_data\n",
        "\n",
        "for i in range(num_epoch):\n",
        "    # Train\n",
        "    model.train()\n",
        "    train_losses = []\n",
        "    train_PROBS = []\n",
        "    train_TARGETS = []\n",
        "    start = time.time()\n",
        "\n",
        "    # tqdm 라이브러리를 사용하여 학습 진행상황을 눈으로 볼 수 있도록 설정\n",
        "    train_loader_tqdm = tqdm(train_loader, desc=f\"Epoch {i} Train: \", total=len(train_loader))\n",
        "\n",
        "    for k, (image, label) in enumerate(train_loader_tqdm):\n",
        "        optimizer.zero_grad()\n",
        "        image, label = image.to(device), label.to(device)\n",
        "\n",
        "        # FGSM 적대적 예제 생성\n",
        "        fgsm_image = FGSM_fun(model, image, label, epsilon)\n",
        "\n",
        "        # 원본 데이터와 적대적 데이터 모두 사용\n",
        "        original_logits = model(image)\n",
        "        fgsm_logits = model(fgsm_image)\n",
        "\n",
        "        # Loss 계산\n",
        "        original_loss = loss_func(original_logits, label)\n",
        "        fgsm_loss = loss_func(fgsm_logits, label)\n",
        "\n",
        "        total_loss = original_loss + fgsm_loss\n",
        "\n",
        "        # Backward 및 Optimizer Step\n",
        "        total_loss.backward()\n",
        "        optimizer.step()\n",
        "\n",
        "        probs = original_logits.softmax(1)\n",
        "\n",
        "        train_PROBS.append(probs.detach().cpu())\n",
        "        train_TARGETS.append(label.detach().cpu())\n",
        "        train_losses.append(total_loss.cpu().detach().numpy())\n",
        "\n",
        "        # tqdm에 현재 loss를 표시\n",
        "        train_loader_tqdm.set_postfix(loss=total_loss.item())\n",
        "\n",
        "    train_PROBS = torch.cat(train_PROBS).numpy()\n",
        "    train_TARGETS = torch.cat(train_TARGETS).numpy()\n",
        "    train_ACC = (train_PROBS.argmax(1) == train_TARGETS).mean() * 100.\n",
        "\n",
        "    # Evaluation\n",
        "    model.eval()\n",
        "    val_losses = []\n",
        "    val_PROBS = []\n",
        "    val_TARGETS = []\n",
        "\n",
        "    # tqdm 라이브러리를 사용하여 검증 진행상황을 눈으로 볼 수 있도록 설정\n",
        "    validation_loader_tqdm = tqdm(validation_loader, desc=f\"Epoch {i} Validation:\", total=len(validation_loader))\n",
        "\n",
        "    for k, (image, label) in enumerate(validation_loader_tqdm):\n",
        "        with torch.no_grad():\n",
        "            image, label = image.to(device), label.to(device)\n",
        "            logits = model(image)\n",
        "            loss = loss_func(logits, label)\n",
        "\n",
        "            probs = logits.softmax(1)\n",
        "\n",
        "            val_PROBS.append(probs.detach().cpu())\n",
        "            val_TARGETS.append(label.detach().cpu())\n",
        "            val_losses.append(loss.cpu().detach().numpy())\n",
        "\n",
        "            # tqdm에 현재 validation loss 표시\n",
        "            validation_loader_tqdm.set_postfix(loss=loss.item())\n",
        "\n",
        "    val_PROBS = torch.cat(val_PROBS).numpy()\n",
        "    val_TARGETS = torch.cat(val_TARGETS).numpy()\n",
        "    val_ACC = (val_PROBS.argmax(1) == val_TARGETS).mean() * 100.\n",
        "\n",
        "    tran_loss = np.array(train_losses).mean()\n",
        "    val_loss = np.array(val_losses).mean()\n",
        "\n",
        "    total_train_loss.append(tran_loss)\n",
        "    total_val_loss.append(val_loss)\n",
        "\n",
        "    total_train_ACC.append(train_ACC)\n",
        "    total_val_ACC.append(val_ACC)\n",
        "    end = time.time() - start\n",
        "    print(f\"Epoch: {str(i)}, Train loss: {tran_loss}, validation loss: {val_loss}, train ACC: {train_ACC}, val ACC: {val_ACC}, t: {end}s\")\n",
        "\n",
        "    # 러닝 스케줄러 업데이트\n",
        "    scheduler.step(val_loss)  # validation loss를 기준으로 학습률 조정\n",
        "\n",
        "    # 모델 저장\n",
        "    if val_loss < best_loss:\n",
        "        print(\"Save new param\")\n",
        "        torch.save(model, './param_' + str(i) + '.pt')\n",
        "        best_loss = val_loss\n",
        "        early_stop_counter = 0  # 성능 개선 시 초기화\n",
        "    else:\n",
        "        early_stop_counter += 1  # 개선되지 않을 때 증가\n",
        "\n",
        "    # 얼리 스탑 조건 확인\n",
        "    if early_stop_counter >= patience:\n",
        "        print(f\"Early stopping triggered at epoch {i}\")\n",
        "        break\n",
        "\n",
        "# Loss 그래프\n",
        "plt.figure(figsize=(10, 5))\n",
        "plt.plot(total_train_loss, label='Train Loss')\n",
        "plt.plot(total_val_loss, label='Validation Loss')\n",
        "plt.title('Training and Validation Loss')\n",
        "plt.xlabel('Epochs')\n",
        "plt.ylabel('Loss')\n",
        "plt.legend(loc='upper right')\n",
        "plt.grid(True)\n",
        "plt.show()\n",
        "\n",
        "# Accuracy 그래프\n",
        "plt.figure(figsize=(10, 5))\n",
        "plt.plot(total_train_ACC, label='Train Accuracy')\n",
        "plt.plot(total_val_ACC, label='Validation Accuracy')\n",
        "plt.title('Training and Validation Accuracy')\n",
        "plt.xlabel('Epochs')\n",
        "plt.ylabel('Accuracy (%)')\n",
        "plt.legend(loc='lower right')\n",
        "plt.grid(True)\n",
        "plt.show()\n"
      ],
      "metadata": {
        "colab": {
          "base_uri": "https://localhost:8080/",
          "height": 1000
        },
        "id": "2RoV_DZsOm-I",
        "outputId": "661bdde7-3c04-48d9-d861-5377ab949c27"
      },
      "execution_count": 22,
      "outputs": [
        {
          "output_type": "stream",
          "name": "stderr",
          "text": [
            "Epoch 0 Train: 100%|██████████| 80/80 [00:16<00:00,  4.88it/s, loss=0.381]\n",
            "Epoch 0 Validation:: 100%|██████████| 20/20 [00:03<00:00,  5.41it/s, loss=1.72]\n"
          ]
        },
        {
          "output_type": "stream",
          "name": "stdout",
          "text": [
            "Epoch: 0, Train loss: 0.6245884895324707, validation loss: 3.4676918983459473, train ACC: 99.425, val ACC: 75.8, t: 20.108131170272827s\n"
          ]
        },
        {
          "output_type": "stream",
          "name": "stderr",
          "text": [
            "Epoch 1 Train: 100%|██████████| 80/80 [00:15<00:00,  5.03it/s, loss=0.702]\n",
            "Epoch 1 Validation:: 100%|██████████| 20/20 [00:03<00:00,  5.44it/s, loss=4.44]\n"
          ]
        },
        {
          "output_type": "stream",
          "name": "stdout",
          "text": [
            "Epoch: 1, Train loss: 0.5854021906852722, validation loss: 3.088446617126465, train ACC: 99.5, val ACC: 80.4, t: 19.604747772216797s\n"
          ]
        },
        {
          "output_type": "stream",
          "name": "stderr",
          "text": [
            "Epoch 2 Train: 100%|██████████| 80/80 [00:15<00:00,  5.02it/s, loss=0.692]\n",
            "Epoch 2 Validation:: 100%|██████████| 20/20 [00:03<00:00,  5.54it/s, loss=0.588]\n"
          ]
        },
        {
          "output_type": "stream",
          "name": "stdout",
          "text": [
            "Epoch: 2, Train loss: 0.5969594717025757, validation loss: 0.7302035093307495, train ACC: 99.4, val ACC: 85.8, t: 19.59000301361084s\n"
          ]
        },
        {
          "output_type": "stream",
          "name": "stderr",
          "text": [
            "Epoch 3 Train: 100%|██████████| 80/80 [00:16<00:00,  4.99it/s, loss=0.889]\n",
            "Epoch 3 Validation:: 100%|██████████| 20/20 [00:03<00:00,  5.27it/s, loss=1.89]\n"
          ]
        },
        {
          "output_type": "stream",
          "name": "stdout",
          "text": [
            "Epoch: 3, Train loss: 0.6098891496658325, validation loss: 3.2628321647644043, train ACC: 99.1, val ACC: 78.60000000000001, t: 19.843381643295288s\n"
          ]
        },
        {
          "output_type": "stream",
          "name": "stderr",
          "text": [
            "Epoch 4 Train: 100%|██████████| 80/80 [00:15<00:00,  5.01it/s, loss=0.515]\n",
            "Epoch 4 Validation:: 100%|██████████| 20/20 [00:03<00:00,  5.42it/s, loss=0.343]\n"
          ]
        },
        {
          "output_type": "stream",
          "name": "stdout",
          "text": [
            "Epoch: 4, Train loss: 0.5969613790512085, validation loss: 2.21061372756958, train ACC: 99.35000000000001, val ACC: 80.9, t: 19.67975687980652s\n"
          ]
        },
        {
          "output_type": "stream",
          "name": "stderr",
          "text": [
            "Epoch 5 Train: 100%|██████████| 80/80 [00:16<00:00,  5.00it/s, loss=0.638]\n",
            "Epoch 5 Validation:: 100%|██████████| 20/20 [00:03<00:00,  5.52it/s, loss=3.08]\n"
          ]
        },
        {
          "output_type": "stream",
          "name": "stdout",
          "text": [
            "Epoch: 5, Train loss: 0.6150277853012085, validation loss: 1.8907997608184814, train ACC: 99.225, val ACC: 83.89999999999999, t: 19.655226945877075s\n"
          ]
        },
        {
          "output_type": "stream",
          "name": "stderr",
          "text": [
            "Epoch 6 Train: 100%|██████████| 80/80 [00:15<00:00,  5.03it/s, loss=0.562]\n",
            "Epoch 6 Validation:: 100%|██████████| 20/20 [00:03<00:00,  5.59it/s, loss=1.97]\n"
          ]
        },
        {
          "output_type": "stream",
          "name": "stdout",
          "text": [
            "Epoch: 6, Train loss: 0.6097215414047241, validation loss: 1.9412014484405518, train ACC: 99.275, val ACC: 80.0, t: 19.504750728607178s\n"
          ]
        },
        {
          "output_type": "stream",
          "name": "stderr",
          "text": [
            "Epoch 7 Train: 100%|██████████| 80/80 [00:15<00:00,  5.01it/s, loss=0.458]\n",
            "Epoch 7 Validation:: 100%|██████████| 20/20 [00:03<00:00,  5.23it/s, loss=0.992]\n"
          ]
        },
        {
          "output_type": "stream",
          "name": "stdout",
          "text": [
            "Epoch: 7, Train loss: 0.6110213994979858, validation loss: 1.1033649444580078, train ACC: 99.15, val ACC: 85.39999999999999, t: 19.820525884628296s\n"
          ]
        },
        {
          "output_type": "stream",
          "name": "stderr",
          "text": [
            "Epoch 8 Train: 100%|██████████| 80/80 [00:15<00:00,  5.04it/s, loss=0.633]\n",
            "Epoch 8 Validation:: 100%|██████████| 20/20 [00:03<00:00,  5.47it/s, loss=0.107]\n"
          ]
        },
        {
          "output_type": "stream",
          "name": "stdout",
          "text": [
            "Epoch: 8, Train loss: 0.5914338231086731, validation loss: 0.6476026773452759, train ACC: 99.47500000000001, val ACC: 87.2, t: 19.54660177230835s\n"
          ]
        },
        {
          "output_type": "stream",
          "name": "stderr",
          "text": [
            "Epoch 9 Train: 100%|██████████| 80/80 [00:15<00:00,  5.03it/s, loss=0.273]\n",
            "Epoch 9 Validation:: 100%|██████████| 20/20 [00:03<00:00,  5.26it/s, loss=1.97]\n"
          ]
        },
        {
          "output_type": "stream",
          "name": "stdout",
          "text": [
            "Epoch: 9, Train loss: 0.629142165184021, validation loss: 2.221590280532837, train ACC: 99.2, val ACC: 80.4, t: 19.732802867889404s\n",
            "Early stopping triggered at epoch 9\n"
          ]
        },
        {
          "output_type": "display_data",
          "data": {
            "text/plain": [
              "<Figure size 1000x500 with 1 Axes>"
            ],
            "image/png": "[encoded data removed]"
          },
          "metadata": {}
        },
        {
          "output_type": "display_data",
          "data": {
            "text/plain": [
              "<Figure size 1000x500 with 1 Axes>"
            ],
            "image/png": "[encoded data removed]"
          },
          "metadata": {}
        }
      ]
    },
    {
      "cell_type": "code",
      "source": [
        "learning_rate = 0.00001\n",
        "num_epoch = 80\n",
        "best_loss = 100\n",
        "total_train_loss = []\n",
        "total_val_loss = []\n",
        "total_train_ACC = []\n",
        "total_val_ACC = []\n",
        "\n",
        "loss_func = nn.CrossEntropyLoss()\n",
        "optimizer = torch.optim.Adam(model.parameters(), lr=learning_rate, weight_decay=1e-5)\n",
        "\n",
        "# StepLR 스케줄러 설정 (step_size는 학습률을 갱신할 주기, gamma는 감소 비율)\n",
        "scheduler = torch.optim.lr_scheduler.ReduceLROnPlateau(optimizer, mode='min', patience=3, factor=0.5)"
      ],
      "metadata": {
        "id": "eicHHKyyOOqF"
      },
      "execution_count": 20,
      "outputs": []
    },
    {
      "cell_type": "code",
      "source": [
        "# EfficientNet 추가학습\n",
        "from tqdm import tqdm\n",
        "\n",
        "patience = 20  # 얼리 스탑 기준 (최대 10 에포크 동안 개선 없을 시 종료)\n",
        "early_stop_counter = 0  # 성능 개선이 없을 때 증가\n",
        "\n",
        "\n",
        "for i in range(num_epoch):\n",
        "    # Train\n",
        "    model.train()\n",
        "    train_losses = []\n",
        "    train_PROBS = []\n",
        "    train_TARGETS = []\n",
        "    start = time.time()\n",
        "\n",
        "    # tqdm 라이브러리를 사용하여 학습 진행상황을 눈으로 볼수 있도록 하였습니다.\n",
        "    train_loader_tqdm = tqdm(train_loader, desc=f\"Epoch {i} Train: \", total=len(train_loader))\n",
        "\n",
        "    for k, (image, label) in enumerate(train_loader_tqdm):\n",
        "        optimizer.zero_grad()\n",
        "        image, label = image.to(device), label.to(device)\n",
        "        logits = model(image)\n",
        "\n",
        "        loss = loss_func(logits, label)\n",
        "\n",
        "        probs = logits.softmax(1)\n",
        "\n",
        "        loss.backward()\n",
        "        optimizer.step()\n",
        "\n",
        "        train_PROBS.append(probs.detach().cpu())\n",
        "        train_TARGETS.append(label.detach().cpu())\n",
        "        train_losses.append(loss.cpu().detach().numpy())\n",
        "\n",
        "        # tqdm에 현재 loss를 표시\n",
        "        train_loader_tqdm.set_postfix(loss=loss.item())\n",
        "\n",
        "    train_PROBS = torch.cat(train_PROBS).numpy()\n",
        "    train_TARGETS = torch.cat(train_TARGETS).numpy()\n",
        "    train_ACC = (train_PROBS.argmax(1) == train_TARGETS).mean() * 100.\n",
        "\n",
        "    # Evaluation\n",
        "    model.eval()\n",
        "    val_losses = []\n",
        "    val_PROBS = []\n",
        "    val_TARGETS = []\n",
        "\n",
        "    # tqdm 라이브러리를 사용하여 검증 진행상황을 눈으로 볼수 있도록 하였습니다.\n",
        "    validation_loader_tqdm = tqdm(validation_loader, desc=f\"Epoch {i} Validation:\", total=len(validation_loader))\n",
        "\n",
        "    for k, (image, label) in enumerate(validation_loader_tqdm):\n",
        "        with torch.no_grad():\n",
        "            image, label = image.to(device), label.to(device)\n",
        "            logits = model(image)\n",
        "            loss = loss_func(logits, label)\n",
        "\n",
        "            probs = logits.softmax(1)\n",
        "\n",
        "            val_PROBS.append(probs.detach().cpu())\n",
        "            val_TARGETS.append(label.detach().cpu())\n",
        "            val_losses.append(loss.cpu().detach().numpy())\n",
        "\n",
        "            # tqdm에 현재 validation loss 표시\n",
        "            validation_loader_tqdm.set_postfix(loss=loss.item())\n",
        "\n",
        "    val_PROBS = torch.cat(val_PROBS).numpy()\n",
        "    val_TARGETS = torch.cat(val_TARGETS).numpy()\n",
        "    val_ACC = (val_PROBS.argmax(1) == val_TARGETS).mean() * 100.\n",
        "\n",
        "    tran_loss = np.array(train_losses).mean()\n",
        "    val_loss = np.array(val_losses).mean()\n",
        "\n",
        "    total_train_loss.append(tran_loss)\n",
        "    total_val_loss.append(val_loss)\n",
        "\n",
        "    total_train_ACC.append(train_ACC)\n",
        "    total_val_ACC.append(val_ACC)\n",
        "    end = time.time() - start\n",
        "    print(f\"Epoch: {str(i)}, Train loss: {tran_loss}, validation loss: {val_loss}, train ACC: {train_ACC}, val ACC: {val_ACC}, t: {end}s\")\n",
        "\n",
        "    # 러닝 스케줄러 업데이트\n",
        "    scheduler.step(val_loss)  # validation loss를 기준으로 학습률 조정\n",
        "\n",
        "    # 모델 저장\n",
        "    if val_loss < best_loss:\n",
        "        print(\"Save new param\")\n",
        "        torch.save(model, './param_' + str(i) + '.pt')\n",
        "        best_loss = val_loss\n",
        "        early_stop_counter = 0  # 성능 개선 시 초기화\n",
        "    else:\n",
        "        early_stop_counter += 1  # 개선되지 않을 때 증가\n",
        "\n",
        "    # 얼리 스탑 조건 확인\n",
        "    if early_stop_counter >= patience:\n",
        "        print(f\"Early stop {i}\")\n",
        "        break\n",
        "\n",
        "# Loss 그래프\n",
        "plt.figure(figsize=(10, 5))\n",
        "plt.plot(total_train_loss, label='Train Loss')\n",
        "plt.plot(total_val_loss, label='Validation Loss')\n",
        "plt.title('Training and Validation Loss')\n",
        "plt.xlabel('Epochs')\n",
        "plt.ylabel('Loss')\n",
        "plt.legend(loc='upper right')\n",
        "plt.grid(True)\n",
        "plt.show()\n",
        "\n",
        "# Accuracy 그래프\n",
        "plt.figure(figsize=(10, 5))\n",
        "plt.plot(total_train_ACC, label='Train Accuracy')\n",
        "plt.plot(total_val_ACC, label='Validation Accuracy')\n",
        "plt.title('Training and Validation Accuracy')\n",
        "plt.xlabel('Epochs')\n",
        "plt.ylabel('Accuracy (%)')\n",
        "plt.legend(loc='lower right')\n",
        "plt.grid(True)\n",
        "plt.show()\n"
      ],
      "metadata": {
        "colab": {
          "base_uri": "https://localhost:8080/",
          "height": 1000
        },
        "id": "SpAIhEffOIBM",
        "outputId": "ca73c824-3929-4c95-8f5a-69fecf19b6a7"
      },
      "execution_count": 21,
      "outputs": [
        {
          "output_type": "stream",
          "name": "stderr",
          "text": [
            "Epoch 0 Train: 100%|██████████| 80/80 [02:59<00:00,  2.25s/it, loss=0.584]\n",
            "Epoch 0 Validation:: 100%|██████████| 20/20 [00:48<00:00,  2.42s/it, loss=0.581]\n"
          ]
        },
        {
          "output_type": "stream",
          "name": "stdout",
          "text": [
            "Epoch: 0, Train loss: 0.6432994604110718, validation loss: 0.5692888498306274, train ACC: 63.9, val ACC: 76.6, t: 228.1782829761505s\n",
            "Save new param\n"
          ]
        },
        {
          "output_type": "stream",
          "name": "stderr",
          "text": [
            "Epoch 1 Train: 100%|██████████| 80/80 [00:13<00:00,  5.74it/s, loss=0.399]\n",
            "Epoch 1 Validation:: 100%|██████████| 20/20 [00:03<00:00,  5.16it/s, loss=0.43]\n"
          ]
        },
        {
          "output_type": "stream",
          "name": "stdout",
          "text": [
            "Epoch: 1, Train loss: 0.500296950340271, validation loss: 0.40795832872390747, train ACC: 84.0, val ACC: 88.1, t: 17.852982759475708s\n",
            "Save new param\n"
          ]
        },
        {
          "output_type": "stream",
          "name": "stderr",
          "text": [
            "Epoch 2 Train: 100%|██████████| 80/80 [00:13<00:00,  5.80it/s, loss=0.322]\n",
            "Epoch 2 Validation:: 100%|██████████| 20/20 [00:03<00:00,  5.52it/s, loss=0.309]\n"
          ]
        },
        {
          "output_type": "stream",
          "name": "stdout",
          "text": [
            "Epoch: 2, Train loss: 0.36824163794517517, validation loss: 0.2968445420265198, train ACC: 89.325, val ACC: 90.60000000000001, t: 17.435818195343018s\n",
            "Save new param\n"
          ]
        },
        {
          "output_type": "stream",
          "name": "stderr",
          "text": [
            "Epoch 3 Train: 100%|██████████| 80/80 [00:13<00:00,  5.82it/s, loss=0.287]\n",
            "Epoch 3 Validation:: 100%|██████████| 20/20 [00:03<00:00,  5.37it/s, loss=0.193]\n"
          ]
        },
        {
          "output_type": "stream",
          "name": "stdout",
          "text": [
            "Epoch: 3, Train loss: 0.27932220697402954, validation loss: 0.23020601272583008, train ACC: 90.825, val ACC: 92.0, t: 17.49931049346924s\n",
            "Save new param\n"
          ]
        },
        {
          "output_type": "stream",
          "name": "stderr",
          "text": [
            "Epoch 4 Train: 100%|██████████| 80/80 [00:13<00:00,  5.81it/s, loss=0.194]\n",
            "Epoch 4 Validation:: 100%|██████████| 20/20 [00:03<00:00,  5.30it/s, loss=0.191]\n"
          ]
        },
        {
          "output_type": "stream",
          "name": "stdout",
          "text": [
            "Epoch: 4, Train loss: 0.2289077788591385, validation loss: 0.2143988311290741, train ACC: 92.475, val ACC: 92.7, t: 17.564836025238037s\n",
            "Save new param\n"
          ]
        },
        {
          "output_type": "stream",
          "name": "stderr",
          "text": [
            "Epoch 5 Train: 100%|██████████| 80/80 [00:13<00:00,  5.84it/s, loss=0.0817]\n",
            "Epoch 5 Validation:: 100%|██████████| 20/20 [00:03<00:00,  5.41it/s, loss=0.172]\n"
          ]
        },
        {
          "output_type": "stream",
          "name": "stdout",
          "text": [
            "Epoch: 5, Train loss: 0.19738070666790009, validation loss: 0.187668576836586, train ACC: 93.55, val ACC: 93.7, t: 17.432944774627686s\n",
            "Save new param\n"
          ]
        },
        {
          "output_type": "stream",
          "name": "stderr",
          "text": [
            "Epoch 6 Train: 100%|██████████| 80/80 [00:13<00:00,  5.84it/s, loss=0.243]\n",
            "Epoch 6 Validation:: 100%|██████████| 20/20 [00:03<00:00,  5.37it/s, loss=0.139]\n"
          ]
        },
        {
          "output_type": "stream",
          "name": "stdout",
          "text": [
            "Epoch: 6, Train loss: 0.17640110850334167, validation loss: 0.16956281661987305, train ACC: 94.15, val ACC: 93.4, t: 17.449145555496216s\n",
            "Save new param\n"
          ]
        },
        {
          "output_type": "stream",
          "name": "stderr",
          "text": [
            "Epoch 7 Train: 100%|██████████| 80/80 [00:13<00:00,  5.87it/s, loss=0.143]\n",
            "Epoch 7 Validation:: 100%|██████████| 20/20 [00:03<00:00,  5.47it/s, loss=0.141]\n"
          ]
        },
        {
          "output_type": "stream",
          "name": "stdout",
          "text": [
            "Epoch: 7, Train loss: 0.16337434947490692, validation loss: 0.15373875200748444, train ACC: 94.075, val ACC: 94.89999999999999, t: 17.319137573242188s\n",
            "Save new param\n"
          ]
        },
        {
          "output_type": "stream",
          "name": "stderr",
          "text": [
            "Epoch 8 Train: 100%|██████████| 80/80 [00:13<00:00,  5.85it/s, loss=0.113]\n",
            "Epoch 8 Validation:: 100%|██████████| 20/20 [00:03<00:00,  5.20it/s, loss=0.118]\n"
          ]
        },
        {
          "output_type": "stream",
          "name": "stdout",
          "text": [
            "Epoch: 8, Train loss: 0.15629562735557556, validation loss: 0.1557660698890686, train ACC: 94.475, val ACC: 94.1, t: 17.55816650390625s\n"
          ]
        },
        {
          "output_type": "stream",
          "name": "stderr",
          "text": [
            "Epoch 9 Train: 100%|██████████| 80/80 [00:13<00:00,  5.89it/s, loss=0.173]\n",
            "Epoch 9 Validation:: 100%|██████████| 20/20 [00:03<00:00,  5.47it/s, loss=0.112]\n"
          ]
        },
        {
          "output_type": "stream",
          "name": "stdout",
          "text": [
            "Epoch: 9, Train loss: 0.13842718303203583, validation loss: 0.13499236106872559, train ACC: 95.025, val ACC: 95.0, t: 17.265141010284424s\n",
            "Save new param\n"
          ]
        },
        {
          "output_type": "stream",
          "name": "stderr",
          "text": [
            "Epoch 10 Train: 100%|██████████| 80/80 [00:13<00:00,  5.85it/s, loss=0.353]\n",
            "Epoch 10 Validation:: 100%|██████████| 20/20 [00:03<00:00,  5.46it/s, loss=0.104]\n"
          ]
        },
        {
          "output_type": "stream",
          "name": "stdout",
          "text": [
            "Epoch: 10, Train loss: 0.12607218325138092, validation loss: 0.1321059763431549, train ACC: 95.375, val ACC: 95.19999999999999, t: 17.364444971084595s\n",
            "Save new param\n"
          ]
        },
        {
          "output_type": "stream",
          "name": "stderr",
          "text": [
            "Epoch 11 Train: 100%|██████████| 80/80 [00:13<00:00,  5.81it/s, loss=0.124]\n",
            "Epoch 11 Validation:: 100%|██████████| 20/20 [00:03<00:00,  5.37it/s, loss=0.0799]\n"
          ]
        },
        {
          "output_type": "stream",
          "name": "stdout",
          "text": [
            "Epoch: 11, Train loss: 0.11598572880029678, validation loss: 0.12097059190273285, train ACC: 95.675, val ACC: 95.89999999999999, t: 17.526177406311035s\n",
            "Save new param\n"
          ]
        },
        {
          "output_type": "stream",
          "name": "stderr",
          "text": [
            "Epoch 12 Train: 100%|██████████| 80/80 [00:13<00:00,  5.81it/s, loss=0.0784]\n",
            "Epoch 12 Validation:: 100%|██████████| 20/20 [00:03<00:00,  5.34it/s, loss=0.0736]\n"
          ]
        },
        {
          "output_type": "stream",
          "name": "stdout",
          "text": [
            "Epoch: 12, Train loss: 0.11437328159809113, validation loss: 0.12322346866130829, train ACC: 96.075, val ACC: 95.5, t: 17.54673981666565s\n"
          ]
        },
        {
          "output_type": "stream",
          "name": "stderr",
          "text": [
            "Epoch 13 Train: 100%|██████████| 80/80 [00:13<00:00,  5.87it/s, loss=0.201]\n",
            "Epoch 13 Validation:: 100%|██████████| 20/20 [00:03<00:00,  5.66it/s, loss=0.0759]\n"
          ]
        },
        {
          "output_type": "stream",
          "name": "stdout",
          "text": [
            "Epoch: 13, Train loss: 0.10199862718582153, validation loss: 0.10930626094341278, train ACC: 96.375, val ACC: 95.5, t: 17.181103467941284s\n",
            "Save new param\n"
          ]
        },
        {
          "output_type": "stream",
          "name": "stderr",
          "text": [
            "Epoch 14 Train: 100%|██████████| 80/80 [00:13<00:00,  5.90it/s, loss=0.127]\n",
            "Epoch 14 Validation:: 100%|██████████| 20/20 [00:03<00:00,  5.58it/s, loss=0.0857]\n"
          ]
        },
        {
          "output_type": "stream",
          "name": "stdout",
          "text": [
            "Epoch: 14, Train loss: 0.09840299189090729, validation loss: 0.11511419713497162, train ACC: 96.375, val ACC: 95.89999999999999, t: 17.17244267463684s\n"
          ]
        },
        {
          "output_type": "stream",
          "name": "stderr",
          "text": [
            "Epoch 15 Train: 100%|██████████| 80/80 [00:13<00:00,  5.87it/s, loss=0.0582]\n",
            "Epoch 15 Validation:: 100%|██████████| 20/20 [00:03<00:00,  5.27it/s, loss=0.0673]\n"
          ]
        },
        {
          "output_type": "stream",
          "name": "stdout",
          "text": [
            "Epoch: 15, Train loss: 0.09139303863048553, validation loss: 0.1148051768541336, train ACC: 96.89999999999999, val ACC: 95.3, t: 17.451690435409546s\n"
          ]
        },
        {
          "output_type": "stream",
          "name": "stderr",
          "text": [
            "Epoch 16 Train: 100%|██████████| 80/80 [00:13<00:00,  5.92it/s, loss=0.101]\n",
            "Epoch 16 Validation:: 100%|██████████| 20/20 [00:03<00:00,  5.45it/s, loss=0.059]\n"
          ]
        },
        {
          "output_type": "stream",
          "name": "stdout",
          "text": [
            "Epoch: 16, Train loss: 0.08866145461797714, validation loss: 0.09750448912382126, train ACC: 96.6, val ACC: 96.2, t: 17.207241773605347s\n",
            "Save new param\n"
          ]
        },
        {
          "output_type": "stream",
          "name": "stderr",
          "text": [
            "Epoch 17 Train: 100%|██████████| 80/80 [00:13<00:00,  5.91it/s, loss=0.158]\n",
            "Epoch 17 Validation:: 100%|██████████| 20/20 [00:03<00:00,  5.53it/s, loss=0.0477]\n"
          ]
        },
        {
          "output_type": "stream",
          "name": "stdout",
          "text": [
            "Epoch: 17, Train loss: 0.07885201275348663, validation loss: 0.09594108164310455, train ACC: 97.275, val ACC: 96.5, t: 17.19074249267578s\n",
            "Save new param\n"
          ]
        },
        {
          "output_type": "stream",
          "name": "stderr",
          "text": [
            "Epoch 18 Train: 100%|██████████| 80/80 [00:13<00:00,  5.84it/s, loss=0.0635]\n",
            "Epoch 18 Validation:: 100%|██████████| 20/20 [00:03<00:00,  5.44it/s, loss=0.0369]\n"
          ]
        },
        {
          "output_type": "stream",
          "name": "stdout",
          "text": [
            "Epoch: 18, Train loss: 0.0729769915342331, validation loss: 0.09983173757791519, train ACC: 97.35000000000001, val ACC: 96.5, t: 17.409837245941162s\n"
          ]
        },
        {
          "output_type": "stream",
          "name": "stderr",
          "text": [
            "Epoch 19 Train: 100%|██████████| 80/80 [00:14<00:00,  5.70it/s, loss=0.117]\n",
            "Epoch 19 Validation:: 100%|██████████| 20/20 [00:03<00:00,  5.31it/s, loss=0.0459]\n"
          ]
        },
        {
          "output_type": "stream",
          "name": "stdout",
          "text": [
            "Epoch: 19, Train loss: 0.07105238735675812, validation loss: 0.08336107432842255, train ACC: 97.3, val ACC: 96.89999999999999, t: 17.818100690841675s\n",
            "Save new param\n"
          ]
        },
        {
          "output_type": "stream",
          "name": "stderr",
          "text": [
            "Epoch 20 Train: 100%|██████████| 80/80 [00:13<00:00,  5.85it/s, loss=0.0513]\n",
            "Epoch 20 Validation:: 100%|██████████| 20/20 [00:03<00:00,  5.56it/s, loss=0.0338]\n"
          ]
        },
        {
          "output_type": "stream",
          "name": "stdout",
          "text": [
            "Epoch: 20, Train loss: 0.062393419444561005, validation loss: 0.09402403980493546, train ACC: 97.82499999999999, val ACC: 95.89999999999999, t: 17.294897317886353s\n"
          ]
        },
        {
          "output_type": "stream",
          "name": "stderr",
          "text": [
            "Epoch 21 Train: 100%|██████████| 80/80 [00:14<00:00,  5.66it/s, loss=0.078]\n",
            "Epoch 21 Validation:: 100%|██████████| 20/20 [00:03<00:00,  5.39it/s, loss=0.0392]\n"
          ]
        },
        {
          "output_type": "stream",
          "name": "stdout",
          "text": [
            "Epoch: 21, Train loss: 0.059304989874362946, validation loss: 0.07788954675197601, train ACC: 97.925, val ACC: 96.7, t: 17.875374794006348s\n",
            "Save new param\n"
          ]
        },
        {
          "output_type": "stream",
          "name": "stderr",
          "text": [
            "Epoch 22 Train: 100%|██████████| 80/80 [00:14<00:00,  5.68it/s, loss=0.0304]\n",
            "Epoch 22 Validation:: 100%|██████████| 20/20 [00:03<00:00,  5.21it/s, loss=0.0663]\n"
          ]
        },
        {
          "output_type": "stream",
          "name": "stdout",
          "text": [
            "Epoch: 22, Train loss: 0.055755794048309326, validation loss: 0.08573819696903229, train ACC: 98.05, val ACC: 96.1, t: 17.940474271774292s\n"
          ]
        },
        {
          "output_type": "stream",
          "name": "stderr",
          "text": [
            "Epoch 23 Train: 100%|██████████| 80/80 [00:13<00:00,  5.79it/s, loss=0.0376]\n",
            "Epoch 23 Validation:: 100%|██████████| 20/20 [00:03<00:00,  5.70it/s, loss=0.0108]\n"
          ]
        },
        {
          "output_type": "stream",
          "name": "stdout",
          "text": [
            "Epoch: 23, Train loss: 0.05347204953432083, validation loss: 0.07771246135234833, train ACC: 98.1, val ACC: 97.2, t: 17.345985174179077s\n",
            "Save new param\n"
          ]
        },
        {
          "output_type": "stream",
          "name": "stderr",
          "text": [
            "Epoch 24 Train: 100%|██████████| 80/80 [00:14<00:00,  5.71it/s, loss=0.0172]\n",
            "Epoch 24 Validation:: 100%|██████████| 20/20 [00:03<00:00,  5.24it/s, loss=0.021]\n"
          ]
        },
        {
          "output_type": "stream",
          "name": "stdout",
          "text": [
            "Epoch: 24, Train loss: 0.05012301728129387, validation loss: 0.07264705002307892, train ACC: 98.3, val ACC: 97.39999999999999, t: 17.850958347320557s\n",
            "Save new param\n"
          ]
        },
        {
          "output_type": "stream",
          "name": "stderr",
          "text": [
            "Epoch 25 Train: 100%|██████████| 80/80 [00:14<00:00,  5.66it/s, loss=0.0361]\n",
            "Epoch 25 Validation:: 100%|██████████| 20/20 [00:03<00:00,  5.19it/s, loss=0.0456]\n"
          ]
        },
        {
          "output_type": "stream",
          "name": "stdout",
          "text": [
            "Epoch: 25, Train loss: 0.047904059290885925, validation loss: 0.08138714730739594, train ACC: 98.45, val ACC: 97.2, t: 18.019943475723267s\n"
          ]
        },
        {
          "output_type": "stream",
          "name": "stderr",
          "text": [
            "Epoch 26 Train: 100%|██████████| 80/80 [00:13<00:00,  5.80it/s, loss=0.0918]\n",
            "Epoch 26 Validation:: 100%|██████████| 20/20 [00:03<00:00,  5.46it/s, loss=0.0144]\n"
          ]
        },
        {
          "output_type": "stream",
          "name": "stdout",
          "text": [
            "Epoch: 26, Train loss: 0.04874911904335022, validation loss: 0.07854114472866058, train ACC: 98.175, val ACC: 97.5, t: 17.49116849899292s\n"
          ]
        },
        {
          "output_type": "stream",
          "name": "stderr",
          "text": [
            "Epoch 27 Train: 100%|██████████| 80/80 [00:13<00:00,  5.80it/s, loss=0.00675]\n",
            "Epoch 27 Validation:: 100%|██████████| 20/20 [00:03<00:00,  5.45it/s, loss=0.0355]\n"
          ]
        },
        {
          "output_type": "stream",
          "name": "stdout",
          "text": [
            "Epoch: 27, Train loss: 0.038926396518945694, validation loss: 0.07245262712240219, train ACC: 98.825, val ACC: 97.3, t: 17.48403310775757s\n",
            "Save new param\n"
          ]
        },
        {
          "output_type": "stream",
          "name": "stderr",
          "text": [
            "Epoch 28 Train: 100%|██████████| 80/80 [00:14<00:00,  5.58it/s, loss=0.0309]\n",
            "Epoch 28 Validation:: 100%|██████████| 20/20 [00:03<00:00,  5.25it/s, loss=0.0372]\n"
          ]
        },
        {
          "output_type": "stream",
          "name": "stdout",
          "text": [
            "Epoch: 28, Train loss: 0.03803092613816261, validation loss: 0.06158202141523361, train ACC: 98.8, val ACC: 97.7, t: 18.18106985092163s\n",
            "Save new param\n"
          ]
        },
        {
          "output_type": "stream",
          "name": "stderr",
          "text": [
            "Epoch 29 Train: 100%|██████████| 80/80 [00:14<00:00,  5.59it/s, loss=0.0159]\n",
            "Epoch 29 Validation:: 100%|██████████| 20/20 [00:03<00:00,  5.24it/s, loss=0.0144]\n"
          ]
        },
        {
          "output_type": "stream",
          "name": "stdout",
          "text": [
            "Epoch: 29, Train loss: 0.04685837775468826, validation loss: 0.06327736377716064, train ACC: 98.6, val ACC: 98.0, t: 18.166738271713257s\n"
          ]
        },
        {
          "output_type": "stream",
          "name": "stderr",
          "text": [
            "Epoch 30 Train: 100%|██████████| 80/80 [00:14<00:00,  5.71it/s, loss=0.0157]\n",
            "Epoch 30 Validation:: 100%|██████████| 20/20 [00:03<00:00,  5.17it/s, loss=0.0419]\n"
          ]
        },
        {
          "output_type": "stream",
          "name": "stdout",
          "text": [
            "Epoch: 30, Train loss: 0.03817065805196762, validation loss: 0.06558863818645477, train ACC: 98.575, val ACC: 97.6, t: 17.909489154815674s\n"
          ]
        },
        {
          "output_type": "stream",
          "name": "stderr",
          "text": [
            "Epoch 31 Train: 100%|██████████| 80/80 [00:14<00:00,  5.70it/s, loss=0.11]\n",
            "Epoch 31 Validation:: 100%|██████████| 20/20 [00:03<00:00,  5.17it/s, loss=0.0368]\n"
          ]
        },
        {
          "output_type": "stream",
          "name": "stdout",
          "text": [
            "Epoch: 31, Train loss: 0.040300603955984116, validation loss: 0.05287536233663559, train ACC: 98.475, val ACC: 98.0, t: 17.935161113739014s\n",
            "Save new param\n"
          ]
        },
        {
          "output_type": "stream",
          "name": "stderr",
          "text": [
            "Epoch 32 Train: 100%|██████████| 80/80 [00:13<00:00,  5.79it/s, loss=0.0284]\n",
            "Epoch 32 Validation:: 100%|██████████| 20/20 [00:03<00:00,  5.24it/s, loss=0.0104]\n"
          ]
        },
        {
          "output_type": "stream",
          "name": "stdout",
          "text": [
            "Epoch: 32, Train loss: 0.035140376538038254, validation loss: 0.07272178679704666, train ACC: 98.85000000000001, val ACC: 97.7, t: 17.66783308982849s\n"
          ]
        },
        {
          "output_type": "stream",
          "name": "stderr",
          "text": [
            "Epoch 33 Train: 100%|██████████| 80/80 [00:13<00:00,  5.86it/s, loss=0.0474]\n",
            "Epoch 33 Validation:: 100%|██████████| 20/20 [00:03<00:00,  5.46it/s, loss=0.031]\n"
          ]
        },
        {
          "output_type": "stream",
          "name": "stdout",
          "text": [
            "Epoch: 33, Train loss: 0.03797438368201256, validation loss: 0.07054390013217926, train ACC: 98.85000000000001, val ACC: 97.6, t: 17.3443386554718s\n"
          ]
        },
        {
          "output_type": "stream",
          "name": "stderr",
          "text": [
            "Epoch 34 Train: 100%|██████████| 80/80 [00:13<00:00,  5.89it/s, loss=0.0625]\n",
            "Epoch 34 Validation:: 100%|██████████| 20/20 [00:03<00:00,  5.50it/s, loss=0.013]\n"
          ]
        },
        {
          "output_type": "stream",
          "name": "stdout",
          "text": [
            "Epoch: 34, Train loss: 0.026407212018966675, validation loss: 0.06982054561376572, train ACC: 99.175, val ACC: 97.2, t: 17.2381010055542s\n"
          ]
        },
        {
          "output_type": "stream",
          "name": "stderr",
          "text": [
            "Epoch 35 Train: 100%|██████████| 80/80 [00:13<00:00,  5.80it/s, loss=0.0156]\n",
            "Epoch 35 Validation:: 100%|██████████| 20/20 [00:03<00:00,  5.26it/s, loss=0.00378]\n"
          ]
        },
        {
          "output_type": "stream",
          "name": "stdout",
          "text": [
            "Epoch: 35, Train loss: 0.030080219730734825, validation loss: 0.04810532182455063, train ACC: 98.97500000000001, val ACC: 98.7, t: 17.626600742340088s\n",
            "Save new param\n"
          ]
        },
        {
          "output_type": "stream",
          "name": "stderr",
          "text": [
            "Epoch 36 Train: 100%|██████████| 80/80 [00:13<00:00,  5.74it/s, loss=0.00567]\n",
            "Epoch 36 Validation:: 100%|██████████| 20/20 [00:03<00:00,  5.66it/s, loss=0.011]\n"
          ]
        },
        {
          "output_type": "stream",
          "name": "stdout",
          "text": [
            "Epoch: 36, Train loss: 0.029455173760652542, validation loss: 0.05913616344332695, train ACC: 98.95, val ACC: 97.8, t: 17.495664596557617s\n"
          ]
        },
        {
          "output_type": "stream",
          "name": "stderr",
          "text": [
            "Epoch 37 Train: 100%|██████████| 80/80 [00:13<00:00,  5.83it/s, loss=0.0552]\n",
            "Epoch 37 Validation:: 100%|██████████| 20/20 [00:03<00:00,  5.41it/s, loss=0.0284]\n"
          ]
        },
        {
          "output_type": "stream",
          "name": "stdout",
          "text": [
            "Epoch: 37, Train loss: 0.027805933728814125, validation loss: 0.058702968060970306, train ACC: 99.0, val ACC: 97.8, t: 17.4522647857666s\n"
          ]
        },
        {
          "output_type": "stream",
          "name": "stderr",
          "text": [
            "Epoch 38 Train: 100%|██████████| 80/80 [00:13<00:00,  5.83it/s, loss=0.0742]\n",
            "Epoch 38 Validation:: 100%|██████████| 20/20 [00:03<00:00,  5.31it/s, loss=0.0169]\n"
          ]
        },
        {
          "output_type": "stream",
          "name": "stdout",
          "text": [
            "Epoch: 38, Train loss: 0.026206493377685547, validation loss: 0.04929349943995476, train ACC: 99.2, val ACC: 98.4, t: 17.52514672279358s\n"
          ]
        },
        {
          "output_type": "stream",
          "name": "stderr",
          "text": [
            "Epoch 39 Train: 100%|██████████| 80/80 [00:13<00:00,  5.80it/s, loss=0.0034]\n",
            "Epoch 39 Validation:: 100%|██████████| 20/20 [00:03<00:00,  5.28it/s, loss=0.0157]\n"
          ]
        },
        {
          "output_type": "stream",
          "name": "stdout",
          "text": [
            "Epoch: 39, Train loss: 0.027092397212982178, validation loss: 0.06504087150096893, train ACC: 99.02499999999999, val ACC: 97.7, t: 17.607975482940674s\n"
          ]
        },
        {
          "output_type": "stream",
          "name": "stderr",
          "text": [
            "Epoch 40 Train: 100%|██████████| 80/80 [00:13<00:00,  5.87it/s, loss=0.0182]\n",
            "Epoch 40 Validation:: 100%|██████████| 20/20 [00:03<00:00,  5.48it/s, loss=0.0282]\n"
          ]
        },
        {
          "output_type": "stream",
          "name": "stdout",
          "text": [
            "Epoch: 40, Train loss: 0.028193211182951927, validation loss: 0.06318757683038712, train ACC: 98.9, val ACC: 97.89999999999999, t: 17.305713415145874s\n"
          ]
        },
        {
          "output_type": "stream",
          "name": "stderr",
          "text": [
            "Epoch 41 Train: 100%|██████████| 80/80 [00:13<00:00,  5.84it/s, loss=0.0176]\n",
            "Epoch 41 Validation:: 100%|██████████| 20/20 [00:03<00:00,  5.53it/s, loss=0.00379]\n"
          ]
        },
        {
          "output_type": "stream",
          "name": "stdout",
          "text": [
            "Epoch: 41, Train loss: 0.025057965889573097, validation loss: 0.05594548583030701, train ACC: 99.1, val ACC: 98.4, t: 17.349499464035034s\n"
          ]
        },
        {
          "output_type": "stream",
          "name": "stderr",
          "text": [
            "Epoch 42 Train: 100%|██████████| 80/80 [00:13<00:00,  5.86it/s, loss=0.0114]\n",
            "Epoch 42 Validation:: 100%|██████████| 20/20 [00:03<00:00,  5.17it/s, loss=0.00922]\n"
          ]
        },
        {
          "output_type": "stream",
          "name": "stdout",
          "text": [
            "Epoch: 42, Train loss: 0.023178592324256897, validation loss: 0.047707449644804, train ACC: 99.275, val ACC: 98.3, t: 17.539745569229126s\n",
            "Save new param\n"
          ]
        },
        {
          "output_type": "stream",
          "name": "stderr",
          "text": [
            "Epoch 43 Train: 100%|██████████| 80/80 [00:13<00:00,  5.90it/s, loss=0.0121]\n",
            "Epoch 43 Validation:: 100%|██████████| 20/20 [00:03<00:00,  5.68it/s, loss=0.0122]\n"
          ]
        },
        {
          "output_type": "stream",
          "name": "stdout",
          "text": [
            "Epoch: 43, Train loss: 0.01898861676454544, validation loss: 0.06476512551307678, train ACC: 99.52499999999999, val ACC: 97.89999999999999, t: 17.107656240463257s\n"
          ]
        },
        {
          "output_type": "stream",
          "name": "stderr",
          "text": [
            "Epoch 44 Train: 100%|██████████| 80/80 [00:13<00:00,  5.92it/s, loss=0.0136]\n",
            "Epoch 44 Validation:: 100%|██████████| 20/20 [00:03<00:00,  5.44it/s, loss=0.012]\n"
          ]
        },
        {
          "output_type": "stream",
          "name": "stdout",
          "text": [
            "Epoch: 44, Train loss: 0.02481725439429283, validation loss: 0.06298895925283432, train ACC: 99.25, val ACC: 97.89999999999999, t: 17.199636459350586s\n"
          ]
        },
        {
          "output_type": "stream",
          "name": "stderr",
          "text": [
            "Epoch 45 Train: 100%|██████████| 80/80 [00:13<00:00,  5.72it/s, loss=0.0107]\n",
            "Epoch 45 Validation:: 100%|██████████| 20/20 [00:03<00:00,  5.24it/s, loss=0.0121]\n"
          ]
        },
        {
          "output_type": "stream",
          "name": "stdout",
          "text": [
            "Epoch: 45, Train loss: 0.02356318011879921, validation loss: 0.061357807368040085, train ACC: 99.175, val ACC: 98.1, t: 17.827471494674683s\n"
          ]
        },
        {
          "output_type": "stream",
          "name": "stderr",
          "text": [
            "Epoch 46 Train: 100%|██████████| 80/80 [00:13<00:00,  5.72it/s, loss=0.0171]\n",
            "Epoch 46 Validation:: 100%|██████████| 20/20 [00:03<00:00,  5.12it/s, loss=0.0155]\n"
          ]
        },
        {
          "output_type": "stream",
          "name": "stdout",
          "text": [
            "Epoch: 46, Train loss: 0.028323238715529442, validation loss: 0.04872686415910721, train ACC: 98.97500000000001, val ACC: 98.0, t: 17.912806272506714s\n"
          ]
        },
        {
          "output_type": "stream",
          "name": "stderr",
          "text": [
            "Epoch 47 Train: 100%|██████████| 80/80 [00:14<00:00,  5.69it/s, loss=0.00593]\n",
            "Epoch 47 Validation:: 100%|██████████| 20/20 [00:03<00:00,  5.43it/s, loss=0.0155]\n"
          ]
        },
        {
          "output_type": "stream",
          "name": "stdout",
          "text": [
            "Epoch: 47, Train loss: 0.017586199566721916, validation loss: 0.05465271323919296, train ACC: 99.47500000000001, val ACC: 98.0, t: 17.76088047027588s\n"
          ]
        },
        {
          "output_type": "stream",
          "name": "stderr",
          "text": [
            "Epoch 48 Train: 100%|██████████| 80/80 [00:14<00:00,  5.69it/s, loss=0.0127]\n",
            "Epoch 48 Validation:: 100%|██████████| 20/20 [00:03<00:00,  5.38it/s, loss=0.0106]\n"
          ]
        },
        {
          "output_type": "stream",
          "name": "stdout",
          "text": [
            "Epoch: 48, Train loss: 0.02376246079802513, validation loss: 0.055423397570848465, train ACC: 99.3, val ACC: 98.1, t: 17.79108715057373s\n"
          ]
        },
        {
          "output_type": "stream",
          "name": "stderr",
          "text": [
            "Epoch 49 Train: 100%|██████████| 80/80 [00:13<00:00,  5.77it/s, loss=0.0024]\n",
            "Epoch 49 Validation:: 100%|██████████| 20/20 [00:03<00:00,  5.10it/s, loss=0.0102]\n"
          ]
        },
        {
          "output_type": "stream",
          "name": "stdout",
          "text": [
            "Epoch: 49, Train loss: 0.017497120425105095, validation loss: 0.05272746831178665, train ACC: 99.47500000000001, val ACC: 97.89999999999999, t: 17.82636308670044s\n"
          ]
        },
        {
          "output_type": "stream",
          "name": "stderr",
          "text": [
            "Epoch 50 Train: 100%|██████████| 80/80 [00:14<00:00,  5.70it/s, loss=0.0037]\n",
            "Epoch 50 Validation:: 100%|██████████| 20/20 [00:03<00:00,  5.55it/s, loss=0.00433]\n"
          ]
        },
        {
          "output_type": "stream",
          "name": "stdout",
          "text": [
            "Epoch: 50, Train loss: 0.023518724367022514, validation loss: 0.04113883152604103, train ACC: 99.2, val ACC: 98.5, t: 17.6578106880188s\n",
            "Save new param\n"
          ]
        },
        {
          "output_type": "stream",
          "name": "stderr",
          "text": [
            "Epoch 51 Train: 100%|██████████| 80/80 [00:13<00:00,  5.78it/s, loss=0.035]\n",
            "Epoch 51 Validation:: 100%|██████████| 20/20 [00:03<00:00,  5.58it/s, loss=0.0038]\n"
          ]
        },
        {
          "output_type": "stream",
          "name": "stdout",
          "text": [
            "Epoch: 51, Train loss: 0.016759498044848442, validation loss: 0.06679996103048325, train ACC: 99.6, val ACC: 97.8, t: 17.4441876411438s\n"
          ]
        },
        {
          "output_type": "stream",
          "name": "stderr",
          "text": [
            "Epoch 52 Train: 100%|██████████| 80/80 [00:13<00:00,  5.90it/s, loss=0.0275]\n",
            "Epoch 52 Validation:: 100%|██████████| 20/20 [00:03<00:00,  5.50it/s, loss=0.00986]\n"
          ]
        },
        {
          "output_type": "stream",
          "name": "stdout",
          "text": [
            "Epoch: 52, Train loss: 0.02234479784965515, validation loss: 0.06795816868543625, train ACC: 99.375, val ACC: 97.8, t: 17.228273630142212s\n"
          ]
        },
        {
          "output_type": "stream",
          "name": "stderr",
          "text": [
            "Epoch 53 Train: 100%|██████████| 80/80 [00:13<00:00,  5.90it/s, loss=0.0135]\n",
            "Epoch 53 Validation:: 100%|██████████| 20/20 [00:03<00:00,  5.45it/s, loss=0.00434]\n"
          ]
        },
        {
          "output_type": "stream",
          "name": "stdout",
          "text": [
            "Epoch: 53, Train loss: 0.02401997521519661, validation loss: 0.058450646698474884, train ACC: 98.97500000000001, val ACC: 98.4, t: 17.263810873031616s\n"
          ]
        },
        {
          "output_type": "stream",
          "name": "stderr",
          "text": [
            "Epoch 54 Train: 100%|██████████| 80/80 [00:13<00:00,  5.77it/s, loss=0.00408]\n",
            "Epoch 54 Validation:: 100%|██████████| 20/20 [00:03<00:00,  5.52it/s, loss=0.0232]\n"
          ]
        },
        {
          "output_type": "stream",
          "name": "stdout",
          "text": [
            "Epoch: 54, Train loss: 0.01943514309823513, validation loss: 0.06337903439998627, train ACC: 99.425, val ACC: 97.7, t: 17.513209104537964s\n"
          ]
        },
        {
          "output_type": "stream",
          "name": "stderr",
          "text": [
            "Epoch 55 Train: 100%|██████████| 80/80 [00:13<00:00,  5.88it/s, loss=0.00664]\n",
            "Epoch 55 Validation:: 100%|██████████| 20/20 [00:03<00:00,  5.54it/s, loss=0.00703]\n"
          ]
        },
        {
          "output_type": "stream",
          "name": "stdout",
          "text": [
            "Epoch: 55, Train loss: 0.019688164815306664, validation loss: 0.052824966609478, train ACC: 99.325, val ACC: 98.0, t: 17.25168228149414s\n"
          ]
        },
        {
          "output_type": "stream",
          "name": "stderr",
          "text": [
            "Epoch 56 Train: 100%|██████████| 80/80 [00:13<00:00,  5.95it/s, loss=0.0173]\n",
            "Epoch 56 Validation:: 100%|██████████| 20/20 [00:03<00:00,  5.40it/s, loss=0.00769]\n"
          ]
        },
        {
          "output_type": "stream",
          "name": "stdout",
          "text": [
            "Epoch: 56, Train loss: 0.02227228879928589, validation loss: 0.04572785273194313, train ACC: 99.15, val ACC: 98.2, t: 17.178415775299072s\n"
          ]
        },
        {
          "output_type": "stream",
          "name": "stderr",
          "text": [
            "Epoch 57 Train: 100%|██████████| 80/80 [00:13<00:00,  5.88it/s, loss=0.0121]\n",
            "Epoch 57 Validation:: 100%|██████████| 20/20 [00:03<00:00,  5.51it/s, loss=0.0314]\n"
          ]
        },
        {
          "output_type": "stream",
          "name": "stdout",
          "text": [
            "Epoch: 57, Train loss: 0.019375918433070183, validation loss: 0.06144490838050842, train ACC: 99.175, val ACC: 97.6, t: 17.261690616607666s\n"
          ]
        },
        {
          "output_type": "stream",
          "name": "stderr",
          "text": [
            "Epoch 58 Train: 100%|██████████| 80/80 [00:13<00:00,  5.93it/s, loss=0.00854]\n",
            "Epoch 58 Validation:: 100%|██████████| 20/20 [00:03<00:00,  5.47it/s, loss=0.0317]\n"
          ]
        },
        {
          "output_type": "stream",
          "name": "stdout",
          "text": [
            "Epoch: 58, Train loss: 0.01909787580370903, validation loss: 0.05878972262144089, train ACC: 99.47500000000001, val ACC: 97.6, t: 17.18059754371643s\n"
          ]
        },
        {
          "output_type": "stream",
          "name": "stderr",
          "text": [
            "Epoch 59 Train: 100%|██████████| 80/80 [00:13<00:00,  5.89it/s, loss=0.0477]\n",
            "Epoch 59 Validation:: 100%|██████████| 20/20 [00:03<00:00,  5.52it/s, loss=0.0042]\n"
          ]
        },
        {
          "output_type": "stream",
          "name": "stdout",
          "text": [
            "Epoch: 59, Train loss: 0.01723415218293667, validation loss: 0.05619344115257263, train ACC: 99.47500000000001, val ACC: 98.2, t: 17.217687606811523s\n"
          ]
        },
        {
          "output_type": "stream",
          "name": "stderr",
          "text": [
            "Epoch 60 Train: 100%|██████████| 80/80 [00:13<00:00,  5.95it/s, loss=0.00626]\n",
            "Epoch 60 Validation:: 100%|██████████| 20/20 [00:03<00:00,  5.31it/s, loss=0.00694]\n"
          ]
        },
        {
          "output_type": "stream",
          "name": "stdout",
          "text": [
            "Epoch: 60, Train loss: 0.01721605472266674, validation loss: 0.06629204005002975, train ACC: 99.5, val ACC: 98.0, t: 17.23107647895813s\n"
          ]
        },
        {
          "output_type": "stream",
          "name": "stderr",
          "text": [
            "Epoch 61 Train: 100%|██████████| 80/80 [00:13<00:00,  5.85it/s, loss=0.0185]\n",
            "Epoch 61 Validation:: 100%|██████████| 20/20 [00:03<00:00,  5.60it/s, loss=0.012]\n"
          ]
        },
        {
          "output_type": "stream",
          "name": "stdout",
          "text": [
            "Epoch: 61, Train loss: 0.02200097031891346, validation loss: 0.03866026550531387, train ACC: 99.35000000000001, val ACC: 99.0, t: 17.279308557510376s\n",
            "Save new param\n"
          ]
        },
        {
          "output_type": "stream",
          "name": "stderr",
          "text": [
            "Epoch 62 Train: 100%|██████████| 80/80 [00:13<00:00,  5.99it/s, loss=0.0343]\n",
            "Epoch 62 Validation:: 100%|██████████| 20/20 [00:03<00:00,  5.61it/s, loss=0.00507]\n"
          ]
        },
        {
          "output_type": "stream",
          "name": "stdout",
          "text": [
            "Epoch: 62, Train loss: 0.018668117001652718, validation loss: 0.03988402336835861, train ACC: 99.425, val ACC: 98.4, t: 16.943048000335693s\n"
          ]
        },
        {
          "output_type": "stream",
          "name": "stderr",
          "text": [
            "Epoch 63 Train: 100%|██████████| 80/80 [00:13<00:00,  5.81it/s, loss=0.0116]\n",
            "Epoch 63 Validation:: 100%|██████████| 20/20 [00:03<00:00,  5.40it/s, loss=0.0104]\n"
          ]
        },
        {
          "output_type": "stream",
          "name": "stdout",
          "text": [
            "Epoch: 63, Train loss: 0.017292693257331848, validation loss: 0.0594029426574707, train ACC: 99.5, val ACC: 98.5, t: 17.495083808898926s\n"
          ]
        },
        {
          "output_type": "stream",
          "name": "stderr",
          "text": [
            "Epoch 64 Train: 100%|██████████| 80/80 [00:13<00:00,  5.81it/s, loss=0.0088]\n",
            "Epoch 64 Validation:: 100%|██████████| 20/20 [00:03<00:00,  5.26it/s, loss=0.027]\n"
          ]
        },
        {
          "output_type": "stream",
          "name": "stdout",
          "text": [
            "Epoch: 64, Train loss: 0.020168352872133255, validation loss: 0.04979623109102249, train ACC: 99.3, val ACC: 98.2, t: 17.587185859680176s\n"
          ]
        },
        {
          "output_type": "stream",
          "name": "stderr",
          "text": [
            "Epoch 65 Train: 100%|██████████| 80/80 [00:13<00:00,  5.85it/s, loss=0.00687]\n",
            "Epoch 65 Validation:: 100%|██████████| 20/20 [00:03<00:00,  5.50it/s, loss=0.017]\n"
          ]
        },
        {
          "output_type": "stream",
          "name": "stdout",
          "text": [
            "Epoch: 65, Train loss: 0.017179053276777267, validation loss: 0.04910134896636009, train ACC: 99.425, val ACC: 98.5, t: 17.334083080291748s\n"
          ]
        },
        {
          "output_type": "stream",
          "name": "stderr",
          "text": [
            "Epoch 66 Train: 100%|██████████| 80/80 [00:13<00:00,  5.83it/s, loss=0.0149]\n",
            "Epoch 66 Validation:: 100%|██████████| 20/20 [00:03<00:00,  5.49it/s, loss=0.013]\n"
          ]
        },
        {
          "output_type": "stream",
          "name": "stdout",
          "text": [
            "Epoch: 66, Train loss: 0.017997561022639275, validation loss: 0.0545729324221611, train ACC: 99.47500000000001, val ACC: 98.0, t: 17.394270420074463s\n"
          ]
        },
        {
          "output_type": "stream",
          "name": "stderr",
          "text": [
            "Epoch 67 Train: 100%|██████████| 80/80 [00:13<00:00,  5.94it/s, loss=0.0162]\n",
            "Epoch 67 Validation:: 100%|██████████| 20/20 [00:03<00:00,  5.45it/s, loss=0.00612]\n"
          ]
        },
        {
          "output_type": "stream",
          "name": "stdout",
          "text": [
            "Epoch: 67, Train loss: 0.024911079555749893, validation loss: 0.05360613018274307, train ACC: 99.05000000000001, val ACC: 98.0, t: 17.17521023750305s\n"
          ]
        },
        {
          "output_type": "stream",
          "name": "stderr",
          "text": [
            "Epoch 68 Train: 100%|██████████| 80/80 [00:13<00:00,  5.75it/s, loss=0.00313]\n",
            "Epoch 68 Validation:: 100%|██████████| 20/20 [00:03<00:00,  5.58it/s, loss=0.0155]\n"
          ]
        },
        {
          "output_type": "stream",
          "name": "stdout",
          "text": [
            "Epoch: 68, Train loss: 0.01701398193836212, validation loss: 0.06427793204784393, train ACC: 99.52499999999999, val ACC: 97.8, t: 17.515963315963745s\n"
          ]
        },
        {
          "output_type": "stream",
          "name": "stderr",
          "text": [
            "Epoch 69 Train: 100%|██████████| 80/80 [00:13<00:00,  5.93it/s, loss=0.0212]\n",
            "Epoch 69 Validation:: 100%|██████████| 20/20 [00:03<00:00,  5.58it/s, loss=0.0469]\n"
          ]
        },
        {
          "output_type": "stream",
          "name": "stdout",
          "text": [
            "Epoch: 69, Train loss: 0.018154095858335495, validation loss: 0.05540188029408455, train ACC: 99.35000000000001, val ACC: 98.3, t: 17.096115112304688s\n"
          ]
        },
        {
          "output_type": "stream",
          "name": "stderr",
          "text": [
            "Epoch 70 Train: 100%|██████████| 80/80 [00:13<00:00,  5.88it/s, loss=0.0894]\n",
            "Epoch 70 Validation:: 100%|██████████| 20/20 [00:03<00:00,  5.52it/s, loss=0.0118]\n"
          ]
        },
        {
          "output_type": "stream",
          "name": "stdout",
          "text": [
            "Epoch: 70, Train loss: 0.019345130771398544, validation loss: 0.07263888418674469, train ACC: 99.4, val ACC: 97.7, t: 17.24174952507019s\n"
          ]
        },
        {
          "output_type": "stream",
          "name": "stderr",
          "text": [
            "Epoch 71 Train: 100%|██████████| 80/80 [00:13<00:00,  5.94it/s, loss=0.0138]\n",
            "Epoch 71 Validation:: 100%|██████████| 20/20 [00:03<00:00,  5.16it/s, loss=0.0136]\n"
          ]
        },
        {
          "output_type": "stream",
          "name": "stdout",
          "text": [
            "Epoch: 71, Train loss: 0.017972949892282486, validation loss: 0.060275424271821976, train ACC: 99.52499999999999, val ACC: 98.0, t: 17.37580704689026s\n"
          ]
        },
        {
          "output_type": "stream",
          "name": "stderr",
          "text": [
            "Epoch 72 Train: 100%|██████████| 80/80 [00:13<00:00,  5.85it/s, loss=0.00346]\n",
            "Epoch 72 Validation:: 100%|██████████| 20/20 [00:03<00:00,  5.50it/s, loss=0.0078]\n"
          ]
        },
        {
          "output_type": "stream",
          "name": "stdout",
          "text": [
            "Epoch: 72, Train loss: 0.019144374877214432, validation loss: 0.05603663995862007, train ACC: 99.35000000000001, val ACC: 98.5, t: 17.331604719161987s\n"
          ]
        },
        {
          "output_type": "stream",
          "name": "stderr",
          "text": [
            "Epoch 73 Train: 100%|██████████| 80/80 [00:13<00:00,  5.90it/s, loss=0.0113]\n",
            "Epoch 73 Validation:: 100%|██████████| 20/20 [00:03<00:00,  5.54it/s, loss=0.00269]\n"
          ]
        },
        {
          "output_type": "stream",
          "name": "stdout",
          "text": [
            "Epoch: 73, Train loss: 0.020312044769525528, validation loss: 0.07348401844501495, train ACC: 99.35000000000001, val ACC: 97.39999999999999, t: 17.19036054611206s\n"
          ]
        },
        {
          "output_type": "stream",
          "name": "stderr",
          "text": [
            "Epoch 74 Train: 100%|██████████| 80/80 [00:13<00:00,  5.92it/s, loss=0.00985]\n",
            "Epoch 74 Validation:: 100%|██████████| 20/20 [00:03<00:00,  5.49it/s, loss=0.0019]\n"
          ]
        },
        {
          "output_type": "stream",
          "name": "stdout",
          "text": [
            "Epoch: 74, Train loss: 0.019428756088018417, validation loss: 0.0603506863117218, train ACC: 99.425, val ACC: 97.8, t: 17.185680866241455s\n"
          ]
        },
        {
          "output_type": "stream",
          "name": "stderr",
          "text": [
            "Epoch 75 Train: 100%|██████████| 80/80 [00:13<00:00,  5.92it/s, loss=0.0105]\n",
            "Epoch 75 Validation:: 100%|██████████| 20/20 [00:03<00:00,  5.19it/s, loss=0.0184]\n"
          ]
        },
        {
          "output_type": "stream",
          "name": "stdout",
          "text": [
            "Epoch: 75, Train loss: 0.014229374006390572, validation loss: 0.07056297361850739, train ACC: 99.65, val ACC: 97.7, t: 17.39827275276184s\n"
          ]
        },
        {
          "output_type": "stream",
          "name": "stderr",
          "text": [
            "Epoch 76 Train: 100%|██████████| 80/80 [00:13<00:00,  6.03it/s, loss=0.0428]\n",
            "Epoch 76 Validation:: 100%|██████████| 20/20 [00:03<00:00,  5.57it/s, loss=0.00426]\n"
          ]
        },
        {
          "output_type": "stream",
          "name": "stdout",
          "text": [
            "Epoch: 76, Train loss: 0.013768662698566914, validation loss: 0.0499129593372345, train ACC: 99.675, val ACC: 98.1, t: 16.893657445907593s\n"
          ]
        },
        {
          "output_type": "stream",
          "name": "stderr",
          "text": [
            "Epoch 77 Train: 100%|██████████| 80/80 [00:13<00:00,  5.83it/s, loss=0.00782]\n",
            "Epoch 77 Validation:: 100%|██████████| 20/20 [00:03<00:00,  5.62it/s, loss=0.0128]\n"
          ]
        },
        {
          "output_type": "stream",
          "name": "stdout",
          "text": [
            "Epoch: 77, Train loss: 0.019336357712745667, validation loss: 0.05055858939886093, train ACC: 99.4, val ACC: 98.3, t: 17.301442861557007s\n"
          ]
        },
        {
          "output_type": "stream",
          "name": "stderr",
          "text": [
            "Epoch 78 Train: 100%|██████████| 80/80 [00:13<00:00,  5.89it/s, loss=0.00282]\n",
            "Epoch 78 Validation:: 100%|██████████| 20/20 [00:03<00:00,  5.31it/s, loss=0.0122]\n"
          ]
        },
        {
          "output_type": "stream",
          "name": "stdout",
          "text": [
            "Epoch: 78, Train loss: 0.023117907345294952, validation loss: 0.056969739496707916, train ACC: 99.225, val ACC: 98.3, t: 17.3803551197052s\n"
          ]
        },
        {
          "output_type": "stream",
          "name": "stderr",
          "text": [
            "Epoch 79 Train: 100%|██████████| 80/80 [00:13<00:00,  5.92it/s, loss=0.025]\n",
            "Epoch 79 Validation:: 100%|██████████| 20/20 [00:03<00:00,  5.52it/s, loss=0.0123]\n"
          ]
        },
        {
          "output_type": "stream",
          "name": "stdout",
          "text": [
            "Epoch: 79, Train loss: 0.01844014786183834, validation loss: 0.04969064146280289, train ACC: 99.45, val ACC: 98.5, t: 17.158479690551758s\n"
          ]
        },
        {
          "output_type": "display_data",
          "data": {
            "text/plain": [
              "<Figure size 1000x500 with 1 Axes>"
            ],
            "image/png": "[encoded data removed]"
          },
          "metadata": {}
        },
        {
          "output_type": "display_data",
          "data": {
            "text/plain": [
              "<Figure size 1000x500 with 1 Axes>"
            ],
            "image/png": "[encoded data removed]"
          },
          "metadata": {}
        }
      ]
    },
    {
      "cell_type": "code",
      "source": [],
      "metadata": {
        "id": "wYf9J30GOlvH"
      },
      "execution_count": null,
      "outputs": []
    },
    {
      "cell_type": "code",
      "execution_count": 17,
      "metadata": {
        "id": "0NCYIUrXMtQI",
        "colab": {
          "base_uri": "https://localhost:8080/"
        },
        "outputId": "6ef32742-fd32-498f-9c0c-4321f55fd1e3"
      },
      "outputs": [
        {
          "output_type": "stream",
          "name": "stdout",
          "text": [
            "\n",
            "<data frame>\n",
            "         image_name                                          file_path\n",
            "0     uvbwoxex.jpg  /content/drive/MyDrive/data/ipdl/test/uvbwoxex...\n",
            "1     uvcsqqkj.jpg  /content/drive/MyDrive/data/ipdl/test/uvcsqqkj...\n",
            "2     uvddmpwu.jpg  /content/drive/MyDrive/data/ipdl/test/uvddmpwu...\n",
            "3       uvgilc.jpg   /content/drive/MyDrive/data/ipdl/test/uvgilc.jpg\n",
            "4       uvguhv.jpg   /content/drive/MyDrive/data/ipdl/test/uvguhv.jpg\n",
            "...            ...                                                ...\n",
            "4995    feznbh.jpg   /content/drive/MyDrive/data/ipdl/test/feznbh.jpg\n",
            "4996     ffdby.jpg    /content/drive/MyDrive/data/ipdl/test/ffdby.jpg\n",
            "4997  ffegwsnw.jpg  /content/drive/MyDrive/data/ipdl/test/ffegwsnw...\n",
            "4998  ffihhrvw.jpg  /content/drive/MyDrive/data/ipdl/test/ffihhrvw...\n",
            "4999    ffkkvg.jpg   /content/drive/MyDrive/data/ipdl/test/ffkkvg.jpg\n",
            "\n",
            "[5000 rows x 2 columns]\n"
          ]
        }
      ],
      "source": [
        "# Kaggle 이외의 환경에서 사용\n",
        "# file_path = '데이터셋_경로/test/*.jpg'\n",
        "file_path = '/content/drive/MyDrive/data/ipdl/test/*.jpg'\n",
        "\n",
        "file_list = glob(file_path)\n",
        "data_dict = {'image_name':[], 'file_path':[]}\n",
        "\n",
        "for path in file_list:\n",
        "    data_dict['file_path'].append(path) # file_path 항목에 파일 경로 저장\n",
        "    path_list = path.split(os.path.sep) # os별 파일 경로 구분 문자로 split\n",
        "    data_dict['image_name'].append(path_list[-1])\n",
        "\n",
        "\n",
        "train_df = pd.DataFrame(data_dict)\n",
        "print('\\n<data frame>\\n', train_df)\n",
        "\n",
        "train_df.to_csv(\"./test.csv\", mode='w')"
      ]
    },
    {
      "cell_type": "code",
      "execution_count": 18,
      "metadata": {
        "id": "V5Lm74VjMtQI"
      },
      "outputs": [],
      "source": [
        "num_workers = 0\n",
        "batch_size = 1\n",
        "\n",
        "test_dataset = MMC_ClassificationDataset(\"./test.csv\", 'test', transform = transforms_val)\n",
        "test_loader = torch.utils.data.DataLoader(test_dataset, batch_size = 1, num_workers = num_workers, shuffle = False, drop_last = False)"
      ]
    },
    {
      "cell_type": "code",
      "source": [
        "# GPU 사용 설정\n",
        "train_on_gpu = torch.cuda.is_available()\n",
        "\n",
        "if not train_on_gpu:\n",
        "    device = 'cpu'\n",
        "    print('CUDA is not available.  Training on CPU ...')\n",
        "else:\n",
        "    device = 'cuda'\n",
        "    print('CUDA is available!  Training on GPU ...')"
      ],
      "metadata": {
        "colab": {
          "base_uri": "https://localhost:8080/"
        },
        "id": "RSXsuBgArUv7",
        "outputId": "b6b866ad-c747-4b26-9a1b-798111ec7d9c"
      },
      "execution_count": 19,
      "outputs": [
        {
          "output_type": "stream",
          "name": "stdout",
          "text": [
            "CUDA is available!  Training on GPU ...\n"
          ]
        }
      ]
    },
    {
      "cell_type": "code",
      "execution_count": 19,
      "metadata": {
        "id": "8GPLWIPjMtQI"
      },
      "outputs": [],
      "source": [
        "# 모델 불러오기\n",
        "# model = torch.load(\"C:/sg0117/hallym/Image_processing/save_data/param_9.pt\").to(device)\n",
        "# model = torch.load(\"C:/sg0117/hallym/Image_processing/save_data/param_9.pt\", weights_only=False).to(device)\n",
        "# model = torch.load(\"C:/sg0117/hallym/Image_processing/save_data/EfficienNet_learning_scheduler/param_41.pt\", weights_only=False).to(device)\n",
        "# model = torch.load(\"C:/sg0117/hallym/Image_processing/save_data/EfficienNet/param_7.pt\", weights_only=False).to(device)\n",
        "# model = torch.load(\"C:/sg0117/hallym/Image_processing/save_data/ViT_learning_scheduler/param_28._ViT_241210_1958pt.pt\", weights_only=False).to(device)\n",
        "# model = torch.load(\"C:/sg0117/hallym/Image_processing/save_data/efficientnet_v2_s/param_2.pt\", weights_only=False).to(device)\n",
        "# model = torch.load(\"C:/sg0117/hallym/Image_processing/save_data/VGG/vgg_best_loss_param_14.pt\", weights_only=False).to(device)\n",
        "# model = torch.load(\"/content/best_loss_param_2.pt\", weights_only=False).to(device)\n",
        "model = torch.load(\"/content/efficientNet_추가학습_param_57.pt\", weights_only=False).to(device)\n",
        "\n",
        "ids = []\n",
        "targets = []\n",
        "model.eval()\n",
        "for k ,(image, image_id) in enumerate(test_loader):\n",
        "    with torch.no_grad():\n",
        "        output = model.forward(image.to(device))\n",
        "        target = output.argmax(1).item()\n",
        "        ids.append(image_id[0])\n",
        "        targets.append(target)"
      ]
    },
    {
      "cell_type": "code",
      "execution_count": 31,
      "metadata": {
        "id": "HeY3egvEMtQI"
      },
      "outputs": [],
      "source": [
        "submission = pd.DataFrame({'ID': ids, 'label': targets})"
      ]
    },
    {
      "cell_type": "code",
      "execution_count": 32,
      "metadata": {
        "id": "3P1OSlvyMtQI"
      },
      "outputs": [],
      "source": [
        "submission.to_csv('./sample_submission_model_ensemble.csv',index = False)"
      ]
    },
    {
      "cell_type": "code",
      "execution_count": null,
      "metadata": {
        "id": "u0DtyDJNMtQI"
      },
      "outputs": [],
      "source": [
        "# model ensemble 등 다양한 기법 사용"
      ]
    },
    {
      "cell_type": "code",
      "source": [
        "# 모델 불러오기\n",
        "\n",
        "model_path = [\n",
        "    '/content/model/efficentNet_learining_param_41.pt',\n",
        "    '/content/model/efficentNet_param_7.pt',\n",
        "    '/content/model/param_28_ViT_241210_1958.pt',\n",
        "    '/content/model/vgg_best_loss_param_14.pt',]\n",
        "\n",
        "ids = []\n",
        "targets = []\n",
        "\n",
        "for k ,(image, image_id) in enumerate(test_loader):\n",
        "    with torch.no_grad():\n",
        "        ensemble_output = []\n",
        "        for m_path in model_path:\n",
        "            # 모데 불러오기\n",
        "            model = torch.load(m_path, weights_only=False).to(device)\n",
        "            model.eval()\n",
        "\n",
        "            output = model.forward(image.to(device))\n",
        "            ensemble_output.append(output)\n",
        "\n",
        "        # 확률 평균 계산함\n",
        "        avg_output = sum(ensemble_output) / len(ensemble_output)\n",
        "        target = avg_output.argmax(1).item()\n",
        "\n",
        "        ids.append(image_id[0])\n",
        "        targets.append(target)"
      ],
      "metadata": {
        "id": "nRK7IErIyCUN"
      },
      "execution_count": 29,
      "outputs": []
    },
    {
      "cell_type": "code",
      "source": [
        "submission = pd.DataFrame({'ID': ids, 'label': targets})\n",
        "submission.to_csv('./sample_submission_model_ensemble.csv',index = False)"
      ],
      "metadata": {
        "id": "hg-BIuTnMzM0"
      },
      "execution_count": null,
      "outputs": []
    },
    {
      "cell_type": "code",
      "execution_count": null,
      "metadata": {
        "id": "MEkEmaXWMtQI"
      },
      "outputs": [],
      "source": [
        "# 입력 데이터의 transform을 이용한 앙상블 예제\n",
        "num_workers = 0\n",
        "batch_size = 1\n",
        "\n",
        "# 원본 이미지\n",
        "transforms_val_2 = albumentations.Compose([\n",
        "        albumentations.Resize(224, 224),\n",
        "        albumentations.Normalize()\n",
        "])\n",
        "\n",
        "# 좌우 반전 이미지\n",
        "transforms_val_1 = albumentations.Compose([\n",
        "        albumentations.HorizontalFlip(p=1),\n",
        "        albumentations.Resize(224, 224),\n",
        "        albumentations.Normalize()\n",
        "])\n",
        "\n",
        "\n",
        "test_dataset_1 = MMC_ClassificationDataset('/kaggle/input/ipdl-2024/test.csv', 'test', transform = transforms_val_1)\n",
        "test_loader_1 = torch.utils.data.DataLoader(test_dataset_1, batch_size = 1, num_workers = num_workers, shuffle = False, drop_last = False)\n",
        "\n",
        "test_dataset_2 = MMC_ClassificationDataset('/kaggle/input/ipdl-2024/test.csv', 'test', transform = transforms_val_2)\n",
        "test_loader_2 = torch.utils.data.DataLoader(test_dataset_2, batch_size = 1, num_workers = num_workers, shuffle = False, drop_last = False)"
      ]
    },
    {
      "cell_type": "code",
      "execution_count": null,
      "metadata": {
        "id": "84Fz1B1CMtQJ"
      },
      "outputs": [],
      "source": [
        "# 원본 이미지 이미지를 모델의 입력으로 주어 확률 분포를 얻음\n",
        "ids_1 = []\n",
        "outputs_1 = []\n",
        "model.eval()\n",
        "for k ,(image, image_id) in enumerate(test_loader_1):\n",
        "    with torch.no_grad():\n",
        "        output = model.forward(image.to(device))\n",
        "        target = output.argmax(1).item()\n",
        "        ids_1.append(image_id[0])\n",
        "        outputs_1.append(output)\n",
        "        break"
      ]
    },
    {
      "cell_type": "code",
      "execution_count": null,
      "metadata": {
        "id": "9uBB_eqnMtQJ"
      },
      "outputs": [],
      "source": [
        "# 좌우 반전 이미지를 모델의 입력으로 주어 확률 분포를 얻음\n",
        "ids_2 = []\n",
        "outputs_2 = []\n",
        "model.eval()\n",
        "for k ,(image, image_id) in enumerate(test_loader_2):\n",
        "    with torch.no_grad():\n",
        "        output = model.forward(image.to(device))\n",
        "        target = output.argmax(1).item()\n",
        "        ids_2.append(image_id[0])\n",
        "        outputs_2.append(output)\n",
        "        break"
      ]
    },
    {
      "cell_type": "code",
      "execution_count": null,
      "metadata": {
        "id": "4N5jHvqmMtQJ"
      },
      "outputs": [],
      "source": [
        "targets = []\n",
        "for i in range(len(ids_1)):\n",
        "    if ids_1[i] == ids_2[i]:\n",
        "        # 확률 분포를 평균내어 최종 결과로 사용 (voting을 사용해도 됨)\n",
        "        output = (outputs_1[i] + outputs_2[i]) / 2\n",
        "        target = output.argmax(1).item()\n",
        "        targets.append(target)"
      ]
    },
    {
      "cell_type": "code",
      "execution_count": null,
      "metadata": {
        "id": "2Mm-rMacMtQJ",
        "outputId": "6a33731a-1c65-4bfb-b2d5-8751829eb57c"
      },
      "outputs": [
        {
          "data": {
            "text/plain": [
              "[0]"
            ]
          },
          "execution_count": 26,
          "metadata": {},
          "output_type": "execute_result"
        }
      ],
      "source": [
        "targets"
      ]
    },
    {
      "cell_type": "code",
      "execution_count": null,
      "metadata": {
        "id": "vbZE3BcZMtQJ"
      },
      "outputs": [],
      "source": []
    }
  ],
  "metadata": {
    "accelerator": "GPU",
    "colab": {
      "gpuType": "A100",
      "machine_shape": "hm",
      "provenance": []
    },
    "kaggle": {
      "accelerator": "nvidiaTeslaT4",
      "dataSources": [
        {
          "databundleVersionId": 10276267,
          "sourceId": 89269,
          "sourceType": "competition"
        }
      ],
      "dockerImageVersionId": 30787,
      "isGpuEnabled": true,
      "isInternetEnabled": true,
      "language": "python",
      "sourceType": "notebook"
    },
    "kernelspec": {
      "display_name": "Python 3",
      "name": "python3"
    },
    "language_info": {
      "codemirror_mode": {
        "name": "ipython",
        "version": 3
      },
      "file_extension": ".py",
      "mimetype": "text/x-python",
      "name": "python",
      "nbconvert_exporter": "python",
      "pygments_lexer": "ipython3",
      "version": "3.10.14"
    }
  },
  "nbformat": 4,
  "nbformat_minor": 0
}